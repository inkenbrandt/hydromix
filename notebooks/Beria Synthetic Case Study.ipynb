{
 "cells": [
  {
   "cell_type": "code",
   "execution_count": null,
   "metadata": {},
   "outputs": [],
   "source": []
  },
  {
   "cell_type": "markdown",
   "metadata": {},
   "source": [
    "# Import Libraries"
   ]
  },
  {
   "cell_type": "code",
   "execution_count": 1,
   "metadata": {
    "ExecuteTime": {
     "end_time": "2020-11-16T14:43:05.086983Z",
     "start_time": "2020-11-16T14:43:04.197521Z"
    }
   },
   "outputs": [],
   "source": [
    "from __future__ import division\n",
    "import numpy as np\n",
    "import pandas as pd\n",
    "import random, datetime, calendar\n",
    "import csv\n",
    "import matplotlib\n",
    "import matplotlib.pyplot as plt\n",
    "%matplotlib inline"
   ]
  },
  {
   "cell_type": "code",
   "execution_count": 4,
   "metadata": {
    "ExecuteTime": {
     "end_time": "2020-11-16T14:44:19.859025Z",
     "start_time": "2020-11-16T14:44:19.283322Z"
    }
   },
   "outputs": [],
   "source": [
    "import sys\n",
    "hydropath = \"G:/My Drive/Python/Pycharm/waterisomix/\"\n",
    "sys.path.append(hydropath)\n",
    "import waterisomix\n",
    "from waterisomix.mixingfunctions import *"
   ]
  },
  {
   "cell_type": "code",
   "execution_count": null,
   "metadata": {},
   "outputs": [],
   "source": []
  },
  {
   "cell_type": "markdown",
   "metadata": {},
   "source": [
    "The first case study demonstrates the ability of HydroMix to converge on the correct posterior distribution for synthetically generated data. The second case study uses a synthetic dataset of rain, snow, and groundwater isotopic ratios using a conceptual hydrologic model and compares the results of HydroMix to the actual mixing ratios assumed to generate the dataset. It then weights the source samples and evaluates the effect of weighting on the mixing ratio (case study in Sect. 3.3). In the last two case studies, HydroMix is applied to observed tracer data from an Alpine catchment in the Swiss Alps to infer source mixing ratios and an additional parameter (isotopic lapse rate)."
   ]
  },
  {
   "cell_type": "markdown",
   "metadata": {
    "ExecuteTime": {
     "end_time": "2020-11-07T15:53:29.885841Z",
     "start_time": "2020-11-07T15:53:29.874765Z"
    }
   },
   "source": [
    "# GW_Conceptual"
   ]
  },
  {
   "cell_type": "markdown",
   "metadata": {
    "ExecuteTime": {
     "end_time": "2020-11-03T23:58:24.328384Z",
     "start_time": "2020-11-03T23:58:24.314892Z"
    }
   },
   "source": [
    "* Created on: 5th October 2018 (Harsh Beria)\n",
    "* Last updated on: 22th November 2018 (Put the mixing part in another script GW_mixing_HydroMix.py)\n",
    "* Last updated on: 21st December 2018 (Plots figure for snowfall vs snowmelt isotopic ratios)\n",
    "* Creates synthetic time series of rain and snow isotopic ratio, & simulates isotopic ratio in groundwater\n",
    "* Makes boxplots of isotopic ratio of snowfall vs snowmelt\n",
    "* OutputFiles processed: OutputFiles/GW_conceptual/\n",
    "* Figures made: OutputFiles/GW_conceptual/SF_SM_boxplot.jpeg"
   ]
  },
  {
   "cell_type": "markdown",
   "metadata": {},
   "source": [
    "## Running the hydrologic model"
   ]
  },
  {
   "cell_type": "code",
   "execution_count": 100,
   "metadata": {
    "ExecuteTime": {
     "end_time": "2020-11-16T15:56:07.004768Z",
     "start_time": "2020-11-16T15:56:07.000765Z"
    }
   },
   "outputs": [],
   "source": [
    "def snowfilteriso(x, varLSnowTemp=-1., varHSnowTemp=1.):\n",
    "    snotemp = (0.5 * (varLSnowTemp + varHSnowTemp))\n",
    "    if (x[0] > 0.) and (x[1] < snotemp):\n",
    "        return x[2]\n",
    "        \n",
    "    else:\n",
    "        return None\n",
    "    \n",
    "def rainfilteriso(x, varLSnowTemp=-1., varHSnowTemp=1.):\n",
    "    snotemp = (0.5 * (varLSnowTemp + varHSnowTemp))\n",
    "    if (x[0] > 0.) and (x[1] < snotemp):\n",
    "        return None\n",
    "        \n",
    "    else:\n",
    "        return x[2]\n",
    "        "
   ]
  },
  {
   "cell_type": "code",
   "execution_count": 101,
   "metadata": {
    "ExecuteTime": {
     "end_time": "2020-11-16T15:56:13.633391Z",
     "start_time": "2020-11-16T15:56:12.424884Z"
    }
   },
   "outputs": [],
   "source": [
    "# %% Set up parameters\n",
    "# Percentage of rain and snow recharging groundwater\n",
    "\n",
    "RAIN_EFF = 1. \n",
    "SNOW_EFF = 1.\n",
    "K_Q = 0.1  # For Q = KS\n",
    "DEGDAYFACT = 2.5  # Degree day factor in mm/C/day\n",
    "TMELT = 0.  # Temperature at which snowpack starts melting\n",
    "const_storage = 1000. \n",
    "init_snow = 0.  # Constant storage in groundwater which is not fed to streamflow and initial snow height in catchment\n",
    "varLSnowTemp = -1. \n",
    "varHSnowTemp = 1.  # Threshold temperature for bounding thresholding method for snowfall estimation\n",
    "\n",
    "# Parameters for generation of air temperature, precipitation and precipitation isotopic ratio\n",
    "YEARS = 100  # Number of years for which simulation is carried out\n",
    "AirTempMean = 4. \n",
    "AirTempAmpl = 8.\n",
    "PrecipEventNumb = 30\n",
    "PrecipMean = 1000.\n",
    "PrecipIsoMean = -80.\n",
    "PrecipIsoAmpl = 40.\n",
    "\n",
    "# To save records into a csv file\n",
    "FINAL_LIS = [[\"Day number\", \"Rainfall (mm)\", \"Snowfall (mm)\", \n",
    "              \"Storage (mm)\", \"Snowmelt (mm)\", \"Snowheight (mm)\",\n",
    "              \"Q from GW (mm)\",\n",
    "              \"Rain recharge (mm)\", \"Snow recharge (mm)\", \n",
    "              \"Precip isotopic ratio\", \"Snowpack isotopic ratio\",\n",
    "              \"Storage isotopic ratio\"]]\n",
    "\n",
    "outputpath = hydropath + \"/OutputFiles/GW_conceptual/\"\n",
    "\n",
    "# Mixing model parameters\n",
    "NUMBER_ITERATIONS = 1000\n",
    "LAMBDA_RANGE = [0., 1.]  # LAMBDA values imply the fraction of snow in groundwater\n",
    "# Number of best simulations using which lambda is computed\n",
    "BEST_SIM_PER = 5.  # In percentage\n",
    "\n",
    "LAST_YEARS = 1  # Number of years at the end of the timeseries from which isotopic data is sampled\n",
    "\n",
    "np.random.seed(15544)  # Setting up a common seed number\n",
    "random.seed(55452)  # Setting up random seed for the random function\n",
    "\n",
    "# %% Time series of air temperature, precipitation and isotopic ratio of precipitation\n",
    "airTemp = air_temp_gen(mean_temp=AirTempMean, ampl_temp=AirTempAmpl, years=YEARS)\n",
    "prcp = poisson_prcp(numb_event=PrecipEventNumb, mean_prcp=PrecipMean, years=YEARS)\n",
    "prcpIso = prcp_iso(mean_iso=PrecipIsoMean, ampl_iso=PrecipIsoAmpl, years=YEARS)\n",
    "dayNumb = np.linspace(1, 365 * YEARS, 365 * YEARS)  # Day numbering\n",
    "\n",
    "\n",
    "# %% Running the hydrologic model\n",
    "storage = [const_storage]  # Catchment storage\n",
    "snow_height = [init_snow]  # Snow height\n",
    "snow_melt = [0.]  # Snow melt\n",
    "storage_C = [0.]  # Isotopic ratio in catchment storage (groundwater)\n",
    "snow_C = [0.]  # Isotopic ratio in snowpack\n",
    "rain_lis = [0.]\n",
    "snow_lis = [0.]  # Daily rainfall and snowfall amount\n",
    "recharge_rain_lis = [0.]\n",
    "recharge_snow_lis = [0.]  # Daily groundwater recharge values from rainfall and snowmelt\n",
    "Q_flow = [0.]  # Daily flow into the stream from groundwater\n",
    "snowMeltIso = []  # For storing snowmelt isotopic ratios\n",
    "\n",
    "for index in range(len(dayNumb)):\n",
    "\n",
    "    # Estimating amount of rain and snow\n",
    "    if airTemp[index] <= varLSnowTemp:\n",
    "        rain_frac = 0.\n",
    "    elif airTemp[index] >= varHSnowTemp:\n",
    "        rain_frac = 1.\n",
    "    else:\n",
    "        rain_frac = (airTemp[index] - varLSnowTemp) * 1. / (varHSnowTemp - varLSnowTemp)\n",
    "    rain_mag = rain_frac * prcp[index] * 1.\n",
    "    snow_mag = (1 - rain_frac) * prcp[index] * 1.\n",
    "    rain_lis.append(rain_mag)\n",
    "    snow_lis.append(snow_mag)\n",
    "\n",
    "    # Computing snow height and snowmelt volume\n",
    "    if airTemp[index] >= TMELT:\n",
    "        melt = DEGDAYFACT * (airTemp[index] - TMELT)\n",
    "        if melt > snow_height[-1]:  # Applying limit of available storage\n",
    "            melt = snow_height[-1] + snow_lis[-1]\n",
    "    else:\n",
    "        melt = 0.\n",
    "    snow_height.append(snow_height[-1] + snow_lis[-1] - melt)\n",
    "    snow_melt.append(melt)\n",
    "\n",
    "    # Isotopic ratio of snowpack\n",
    "    if snow_height[-1] == 0.:  # No more snowpack left\n",
    "        newC = 0.\n",
    "        snowMeltIso.append(None)\n",
    "    else:\n",
    "        newC = (snow_height[-2] * snow_C[-1] + snow_lis[-1] * prcpIso[index] - melt * snow_C[-1]) * 1. / (\n",
    "                snow_height[-2] + snow_lis[-1] - melt)\n",
    "        snowMeltIso.append(newC)\n",
    "    snow_C.append(newC)\n",
    "\n",
    "    # Computing groundwater recharge from rain and snow\n",
    "    recharge_rain, recharge_snow = rain_lis[-1] * RAIN_EFF * 1., snow_melt[-1] * SNOW_EFF * 1.\n",
    "    recharge_rain_lis.append(recharge_rain)\n",
    "    recharge_snow_lis.append(recharge_snow)\n",
    "\n",
    "    recharge = recharge_rain + recharge_snow\n",
    "    storage.append(storage[-1] + recharge)\n",
    "    Q = K_Q * (storage[-1] - const_storage)  # Flow into streamflow from groundwater\n",
    "    storage[-1] -= Q  # Updating groundwater volume\n",
    "    Q_flow.append(Q)\n",
    "\n",
    "    # Isotopic ratio of groundwater storage\n",
    "    if round(storage[-1], 2) == 0.:\n",
    "        newC = 0.\n",
    "    else:\n",
    "        newC = (storage[-2] * storage_C[-1] + rain_lis[-1] * RAIN_EFF * prcpIso[index] + snow_melt[-1] * SNOW_EFF *\n",
    "                snow_C[-2] - Q * storage_C[-1]) * 1. / (\n",
    "                       storage[-2] + rain_lis[-1] * RAIN_EFF + snow_melt[-1] * SNOW_EFF - Q)\n",
    "    storage_C.append(newC)\n",
    "\n",
    "    FINAL_LIS.append(\n",
    "        [dayNumb[index], rain_lis[-1], snow_lis[-1], storage[-1], \n",
    "         snow_melt[-1], snow_height[-1], Q_flow[-1],\n",
    "         recharge_rain_lis[-1], recharge_snow_lis[-1], \n",
    "         prcpIso[index], snow_C[-1], storage_C[-1]        \n",
    "        ])\n",
    "    \n",
    "modoutput = pd.DataFrame(FINAL_LIS[1:],columns=FINAL_LIS[0])\n",
    "modoutput = modoutput.set_index(['Day number'])\n",
    "modoutput['Total Precip (mm)'] = prcp\n",
    "modoutput['Air Temperature (deg. C)'] = airTemp\n",
    "modoutput['Snowfall isotopic ratio'] = modoutput[['Total Precip (mm)',\n",
    "                                                  'Air Temperature (deg. C)',\n",
    "                                                  'Precip isotopic ratio']].apply(lambda x: snowfilteriso(x, varLSnowTemp=varLSnowTemp, varHSnowTemp=varHSnowTemp),1)\n",
    "modoutput['Rain isotopic ratio'] = modoutput[['Total Precip (mm)',\n",
    "                                                  'Air Temperature (deg. C)',\n",
    "                                                  'Precip isotopic ratio']].apply(lambda x: rainfilteriso(x, varLSnowTemp=varLSnowTemp, varHSnowTemp=varHSnowTemp),1)\n",
    "\n",
    "modoutput['Snowmelt isotopic ratio'] =  snowMeltIso"
   ]
  },
  {
   "cell_type": "code",
   "execution_count": 102,
   "metadata": {
    "ExecuteTime": {
     "end_time": "2020-11-16T15:56:17.360817Z",
     "start_time": "2020-11-16T15:56:16.938806Z"
    }
   },
   "outputs": [
    {
     "data": {
      "text/plain": [
       "[<matplotlib.lines.Line2D at 0x21684b74d90>]"
      ]
     },
     "execution_count": 102,
     "metadata": {},
     "output_type": "execute_result"
    },
    {
     "data": {
      "image/png": "[encoded data removed]",
      "text/plain": [
       "<Figure size 864x720 with 6 Axes>"
      ]
     },
     "metadata": {
      "needs_background": "light"
     },
     "output_type": "display_data"
    }
   ],
   "source": [
    "\n",
    "fig, ax = plt.subplots(2,3,figsize=(12,10),sharey='row')\n",
    "ax[0,0].scatter(modoutput.index, modoutput['Snowfall isotopic ratio'])\n",
    "ax[0,1].plot(modoutput.index, modoutput['Snowmelt isotopic ratio'])\n",
    "ax[0,2].plot(modoutput.index, modoutput['Storage isotopic ratio'])\n",
    "ax[1,0].plot(modoutput.index, modoutput['Snowfall (mm)'])\n",
    "ax[1,1].plot(modoutput.index, modoutput['Snowmelt (mm)'])\n",
    "ax[1,2].plot(modoutput.index, modoutput['Storage (mm)'])"
   ]
  },
  {
   "cell_type": "code",
   "execution_count": 103,
   "metadata": {
    "ExecuteTime": {
     "end_time": "2020-11-16T15:56:21.596585Z",
     "start_time": "2020-11-16T15:56:21.573074Z"
    }
   },
   "outputs": [
    {
     "data": {
      "text/html": [
       "<div>\n",
       "<style scoped>\n",
       "    .dataframe tbody tr th:only-of-type {\n",
       "        vertical-align: middle;\n",
       "    }\n",
       "\n",
       "    .dataframe tbody tr th {\n",
       "        vertical-align: top;\n",
       "    }\n",
       "\n",
       "    .dataframe thead th {\n",
       "        text-align: right;\n",
       "    }\n",
       "</style>\n",
       "<table border=\"1\" class=\"dataframe\">\n",
       "  <thead>\n",
       "    <tr style=\"text-align: right;\">\n",
       "      <th></th>\n",
       "      <th>Rainfall (mm)</th>\n",
       "      <th>Snowfall (mm)</th>\n",
       "      <th>Storage (mm)</th>\n",
       "      <th>Snowmelt (mm)</th>\n",
       "      <th>Snowheight (mm)</th>\n",
       "      <th>Q from GW (mm)</th>\n",
       "      <th>Rain recharge (mm)</th>\n",
       "      <th>Snow recharge (mm)</th>\n",
       "      <th>Precip isotopic ratio</th>\n",
       "      <th>Snowpack isotopic ratio</th>\n",
       "      <th>Storage isotopic ratio</th>\n",
       "      <th>Total Precip (mm)</th>\n",
       "      <th>Air Temperature (deg. C)</th>\n",
       "      <th>Snowfall isotopic ratio</th>\n",
       "      <th>Rain isotopic ratio</th>\n",
       "      <th>Snowmelt isotopic ratio</th>\n",
       "    </tr>\n",
       "    <tr>\n",
       "      <th>Day number</th>\n",
       "      <th></th>\n",
       "      <th></th>\n",
       "      <th></th>\n",
       "      <th></th>\n",
       "      <th></th>\n",
       "      <th></th>\n",
       "      <th></th>\n",
       "      <th></th>\n",
       "      <th></th>\n",
       "      <th></th>\n",
       "      <th></th>\n",
       "      <th></th>\n",
       "      <th></th>\n",
       "      <th></th>\n",
       "      <th></th>\n",
       "      <th></th>\n",
       "    </tr>\n",
       "  </thead>\n",
       "  <tbody>\n",
       "    <tr>\n",
       "      <th>1.0</th>\n",
       "      <td>0.0</td>\n",
       "      <td>0.0</td>\n",
       "      <td>1000.0</td>\n",
       "      <td>0.0</td>\n",
       "      <td>0.0</td>\n",
       "      <td>0.0</td>\n",
       "      <td>0.0</td>\n",
       "      <td>0.0</td>\n",
       "      <td>-129.402136</td>\n",
       "      <td>0.0</td>\n",
       "      <td>0.0</td>\n",
       "      <td>0.0</td>\n",
       "      <td>-3.957453</td>\n",
       "      <td>NaN</td>\n",
       "      <td>-129.402136</td>\n",
       "      <td>NaN</td>\n",
       "    </tr>\n",
       "    <tr>\n",
       "      <th>2.0</th>\n",
       "      <td>0.0</td>\n",
       "      <td>0.0</td>\n",
       "      <td>1000.0</td>\n",
       "      <td>0.0</td>\n",
       "      <td>0.0</td>\n",
       "      <td>0.0</td>\n",
       "      <td>0.0</td>\n",
       "      <td>0.0</td>\n",
       "      <td>-104.340339</td>\n",
       "      <td>0.0</td>\n",
       "      <td>0.0</td>\n",
       "      <td>0.0</td>\n",
       "      <td>-5.207336</td>\n",
       "      <td>NaN</td>\n",
       "      <td>-104.340339</td>\n",
       "      <td>NaN</td>\n",
       "    </tr>\n",
       "    <tr>\n",
       "      <th>3.0</th>\n",
       "      <td>0.0</td>\n",
       "      <td>0.0</td>\n",
       "      <td>1000.0</td>\n",
       "      <td>0.0</td>\n",
       "      <td>0.0</td>\n",
       "      <td>0.0</td>\n",
       "      <td>0.0</td>\n",
       "      <td>0.0</td>\n",
       "      <td>-123.286895</td>\n",
       "      <td>0.0</td>\n",
       "      <td>0.0</td>\n",
       "      <td>0.0</td>\n",
       "      <td>-5.096889</td>\n",
       "      <td>NaN</td>\n",
       "      <td>-123.286895</td>\n",
       "      <td>NaN</td>\n",
       "    </tr>\n",
       "    <tr>\n",
       "      <th>4.0</th>\n",
       "      <td>0.0</td>\n",
       "      <td>0.0</td>\n",
       "      <td>1000.0</td>\n",
       "      <td>0.0</td>\n",
       "      <td>0.0</td>\n",
       "      <td>0.0</td>\n",
       "      <td>0.0</td>\n",
       "      <td>0.0</td>\n",
       "      <td>-117.747697</td>\n",
       "      <td>0.0</td>\n",
       "      <td>0.0</td>\n",
       "      <td>0.0</td>\n",
       "      <td>-4.041726</td>\n",
       "      <td>NaN</td>\n",
       "      <td>-117.747697</td>\n",
       "      <td>NaN</td>\n",
       "    </tr>\n",
       "    <tr>\n",
       "      <th>5.0</th>\n",
       "      <td>0.0</td>\n",
       "      <td>0.0</td>\n",
       "      <td>1000.0</td>\n",
       "      <td>0.0</td>\n",
       "      <td>0.0</td>\n",
       "      <td>0.0</td>\n",
       "      <td>0.0</td>\n",
       "      <td>0.0</td>\n",
       "      <td>-113.974413</td>\n",
       "      <td>0.0</td>\n",
       "      <td>0.0</td>\n",
       "      <td>0.0</td>\n",
       "      <td>-3.898820</td>\n",
       "      <td>NaN</td>\n",
       "      <td>-113.974413</td>\n",
       "      <td>NaN</td>\n",
       "    </tr>\n",
       "  </tbody>\n",
       "</table>\n",
       "</div>"
      ],
      "text/plain": [
       "            Rainfall (mm)  Snowfall (mm)  Storage (mm)  Snowmelt (mm)  \\\n",
       "Day number                                                              \n",
       "1.0                   0.0            0.0        1000.0            0.0   \n",
       "2.0                   0.0            0.0        1000.0            0.0   \n",
       "3.0                   0.0            0.0        1000.0            0.0   \n",
       "4.0                   0.0            0.0        1000.0            0.0   \n",
       "5.0                   0.0            0.0        1000.0            0.0   \n",
       "\n",
       "            Snowheight (mm)  Q from GW (mm)  Rain recharge (mm)  \\\n",
       "Day number                                                        \n",
       "1.0                     0.0             0.0                 0.0   \n",
       "2.0                     0.0             0.0                 0.0   \n",
       "3.0                     0.0             0.0                 0.0   \n",
       "4.0                     0.0             0.0                 0.0   \n",
       "5.0                     0.0             0.0                 0.0   \n",
       "\n",
       "            Snow recharge (mm)  Precip isotopic ratio  \\\n",
       "Day number                                              \n",
       "1.0                        0.0            -129.402136   \n",
       "2.0                        0.0            -104.340339   \n",
       "3.0                        0.0            -123.286895   \n",
       "4.0                        0.0            -117.747697   \n",
       "5.0                        0.0            -113.974413   \n",
       "\n",
       "            Snowpack isotopic ratio  Storage isotopic ratio  \\\n",
       "Day number                                                    \n",
       "1.0                             0.0                     0.0   \n",
       "2.0                             0.0                     0.0   \n",
       "3.0                             0.0                     0.0   \n",
       "4.0                             0.0                     0.0   \n",
       "5.0                             0.0                     0.0   \n",
       "\n",
       "            Total Precip (mm)  Air Temperature (deg. C)  \\\n",
       "Day number                                                \n",
       "1.0                       0.0                 -3.957453   \n",
       "2.0                       0.0                 -5.207336   \n",
       "3.0                       0.0                 -5.096889   \n",
       "4.0                       0.0                 -4.041726   \n",
       "5.0                       0.0                 -3.898820   \n",
       "\n",
       "            Snowfall isotopic ratio  Rain isotopic ratio  \\\n",
       "Day number                                                 \n",
       "1.0                             NaN          -129.402136   \n",
       "2.0                             NaN          -104.340339   \n",
       "3.0                             NaN          -123.286895   \n",
       "4.0                             NaN          -117.747697   \n",
       "5.0                             NaN          -113.974413   \n",
       "\n",
       "            Snowmelt isotopic ratio  \n",
       "Day number                           \n",
       "1.0                             NaN  \n",
       "2.0                             NaN  \n",
       "3.0                             NaN  \n",
       "4.0                             NaN  \n",
       "5.0                             NaN  "
      ]
     },
     "execution_count": 103,
     "metadata": {},
     "output_type": "execute_result"
    }
   ],
   "source": [
    "modoutput.head()"
   ]
  },
  {
   "cell_type": "markdown",
   "metadata": {
    "ExecuteTime": {
     "end_time": "2020-11-04T00:25:20.771705Z",
     "start_time": "2020-11-04T00:25:20.240112Z"
    }
   },
   "source": [
    "## Saving the simulated data into a csv file"
   ]
  },
  {
   "cell_type": "code",
   "execution_count": 108,
   "metadata": {
    "ExecuteTime": {
     "end_time": "2020-11-16T15:58:42.068548Z",
     "start_time": "2020-11-16T15:58:41.400066Z"
    }
   },
   "outputs": [
    {
     "name": "stdout",
     "output_type": "stream",
     "text": [
      "G:/My Drive/Python/Pycharm/waterisomix//OutputFiles/GW_conceptual/RAIN_1.0_SNOW_1.0.csv\n"
     ]
    }
   ],
   "source": [
    "\n",
    "path = f\"{outputpath}RAIN_{RAIN_EFF:0.1f}_SNOW_{SNOW_EFF:0.1f}.csv\"\n",
    "\n",
    "modoutput.to_csv(path)\n",
    "#csv_writer(FINAL_LIS, path)\n",
    "print(path)"
   ]
  },
  {
   "cell_type": "markdown",
   "metadata": {},
   "source": [
    "## Plotting boxplots of snowfall and snowmelt"
   ]
  },
  {
   "cell_type": "code",
   "execution_count": 107,
   "metadata": {
    "ExecuteTime": {
     "end_time": "2020-11-16T15:57:46.718054Z",
     "start_time": "2020-11-16T15:57:46.553053Z"
    }
   },
   "outputs": [
    {
     "data": {
      "image/png": "[encoded data removed]",
      "text/plain": [
       "<Figure size 432x432 with 1 Axes>"
      ]
     },
     "metadata": {
      "needs_background": "light"
     },
     "output_type": "display_data"
    }
   ],
   "source": [
    "plt.figure(figsize=(6, 6))\n",
    "plt.boxplot([modoutput['Rain isotopic ratio'].dropna(),\n",
    "           modoutput['Snowfall isotopic ratio'].dropna(),\n",
    "             modoutput['Snowmelt isotopic ratio'].dropna()],labels=[\"Rain\", \"Snowfall\", \"Snowmelt\"]\n",
    "           )\n",
    "plt.ylabel(r'$\\delta^{2}$' + 'H ' + u'\\u2030' + ' (VSMOW)', fontsize=14)\n",
    "plt.tight_layout()"
   ]
  },
  {
   "cell_type": "markdown",
   "metadata": {
    "ExecuteTime": {
     "end_time": "2020-11-07T23:54:02.503955Z",
     "start_time": "2020-11-07T23:54:02.500963Z"
    }
   },
   "source": [
    "# GWisoPlot"
   ]
  },
  {
   "cell_type": "code",
   "execution_count": 11,
   "metadata": {
    "ExecuteTime": {
     "end_time": "2020-11-16T14:45:21.677719Z",
     "start_time": "2020-11-16T14:45:21.227629Z"
    }
   },
   "outputs": [
    {
     "name": "stdout",
     "output_type": "stream",
     "text": [
      "G:/My Drive/Python/Pycharm/waterisomix//OutputFiles/GW_conceptual/Figures/GW_iso_0.3_rain_0.6_snow.jpeg\n"
     ]
    },
    {
     "data": {
      "image/png": "[encoded data removed]",
      "text/plain": [
       "<Figure size 432x288 with 1 Axes>"
      ]
     },
     "metadata": {
      "needs_background": "light"
     },
     "output_type": "display_data"
    }
   ],
   "source": [
    "\"\"\"\n",
    "Created on: 3rd December 2018 (Harsh Beria)\n",
    "Last updated on\n",
    "What it does?\n",
    "\n",
    "Used for not so important plots\n",
    "\n",
    "SourceFiles used:\n",
    "OutputFiles/GW_conceptual/\n",
    "\n",
    "OutputFiles processed: NONE\n",
    "Figures made:\n",
    "OutputFiles/GW_conceptual/Figures/GW_iso_0.3_rain_0.6_snow.jpeg\n",
    "\n",
    "\"\"\"\n",
    "\n",
    "# Main variables\n",
    "\n",
    "RAIN_EFF, SNOW_EFF = 0.3, 0.6\n",
    "PATH = hydropath + \"/OutputFiles/GW_conceptual/\"\n",
    "\n",
    "# %% Plotting isotopic ratio in groundwater for the entire simulation period\n",
    "\n",
    "filename = PATH + \"RAIN_\" + str(RAIN_EFF) + \"_SNOW_\" + str(SNOW_EFF) + \".csv\"\n",
    "df = pd.read_csv(filename)\n",
    "GW_iso = df[\"Storage isotopic ratio\"].values\n",
    "\n",
    "fig, ax = plt.subplots(1)\n",
    "ax.plot(GW_iso)\n",
    "\n",
    "# To display yticks in multiple of 10 years\n",
    "ax.set_xticks(np.arange(0, 365*100+1, 365*10))\n",
    "ax.set_xticklabels([year for year in range(0, 101, 10)])\n",
    "\n",
    "# Setting the labels\n",
    "ax.set_ylabel(\"Groundwater \" + r'$\\delta^{2}$H' + u' \\u2030 ', fontsize=14)\n",
    "ax.set_xlabel(\"Year number\", fontsize=14)\n",
    "\n",
    "plt.tight_layout()\n",
    "plt.grid(linestyle='dotted')\n",
    "figOutput = PATH + \"Figures/GW_iso_\" + str(RAIN_EFF) + \"_rain_\" + str(SNOW_EFF) + \"_snow.jpeg\"\n",
    "plt.savefig(figOutput, dpi=300)\n",
    "\n",
    "print(figOutput)\n",
    "\n"
   ]
  },
  {
   "cell_type": "code",
   "execution_count": null,
   "metadata": {},
   "outputs": [],
   "source": []
  },
  {
   "cell_type": "markdown",
   "metadata": {},
   "source": [
    "# GW_mixing_HydroMix"
   ]
  },
  {
   "cell_type": "markdown",
   "metadata": {},
   "source": [
    "* This has been explained in Section 3.2 of the manuscript\n",
    "* Model run with a given rain and snow recharge efficiency can be made with the script: GW_conceptual.py. This script was run 100 times by varying rain and snow efficiency between 0.1 to 1 in steps of 0.1 and the results are saved in OutputFiles/GW_conceptual/ folder\n",
    "* An importance sampling and a MCMC sampler has been implemented to solve the mixing problem\n"
   ]
  },
  {
   "cell_type": "markdown",
   "metadata": {},
   "source": [
    "In this case study, we build a conceptual hydrologic model wherein groundwater is assumed to be recharged directly from rainfall and snowmelt. Stable isotopes of deuterium (δ2H) are used to see how the isotopic ratio in groundwater evolves under different assumptions of rain and snow recharge efficiencies.\n",
    "\n",
    "Synthetic time series are generated for precipitation, the isotopic ratio in precipitation, and air temperature at a daily time step. For generating the precipitation time series, the time between two successive precipitation events is assumed to be a Poisson process with the precipitation intensity following an exponential distribution (Botter et al., 2007; Rodriguez-Iturbe et al., 1999). Time series of air temperature and of isotopic ratios in precipitation are obtained by generating an uncorrelated Gaussian process with the mean following a sine function (to emulate a seasonal signal) and with constant variance (Allen et al., 2018; Parton and Logan, 1981). The separation of precipitation into rainfall (Pr) and snowfall (Ps) is done based on a temperature threshold approach (Harpold et al., 2017a), whereby the fraction of rainfall fr(t) at time step t is computed as a function of air temperature T(t)."
   ]
  },
  {
   "cell_type": "code",
   "execution_count": null,
   "metadata": {},
   "outputs": [],
   "source": []
  },
  {
   "cell_type": "code",
   "execution_count": null,
   "metadata": {},
   "outputs": [],
   "source": [
    "\"\"\"\n",
    "Created on: 21st November 2018 (Harsh Beria)\n",
    "Last updated on\n",
    "What it does?\n",
    "\n",
    "Runs HydroMix to estimate snow ratio in groundwater with the isotopic ratios generated by the script GW_conceptual.py\n",
    "The main feature is that this script can use different time periods during the computation of snow ratio\n",
    "\n",
    "SourceFiles used:\n",
    "OutputFiles/GW_conceptual/\n",
    "\n",
    "OutputFiles processed\n",
    "Figures made\n",
    "\"\"\""
   ]
  },
  {
   "cell_type": "markdown",
   "metadata": {},
   "source": [
    "## Set up Mixing Model Parameters"
   ]
  },
  {
   "cell_type": "code",
   "execution_count": 112,
   "metadata": {
    "ExecuteTime": {
     "end_time": "2020-11-16T16:14:17.636742Z",
     "start_time": "2020-11-16T16:14:17.625011Z"
    }
   },
   "outputs": [],
   "source": [
    "\n",
    "# Main variables\n",
    "\n",
    "rain_eff, snow_eff = 0.1, 0.1\n",
    "\n",
    "# Mixing model parameters\n",
    "number_iterations = 500\n",
    "lambda_range = [0., 1.]  # LAMBDA values imply the fraction of snow in groundwater\n",
    "# Number of best simulations using which lambda is computed\n",
    "best_sim_per = 5.  # In percentage\n",
    "\n",
    "years = 80 # Number of years for which simulation was carried out\n",
    "last_years = 2  # Number of years at the end of the timeseries from which isotopic data is sampled\n",
    "\n",
    "# Options are \"Snowfall/Snowmelt\", tells us which isotopic ratio is to be used to find groundwater recharge using HydroMix\n",
    "which_snow = \"Snowfall\"\n",
    "weighted = 0  # 0 => non-weighted mixing, 1 => weighted mixing\n",
    "\n",
    "PATH = hydropath + \"/OutputFiles/GW_conceptual/\"\n",
    "outputpath = hydropath + f\"/OutputFiles/GW_conceptual/Rainfall_{which_snow}_mixing_last_{last_years:0.0f}Yr\"\n",
    "if weighted:\n",
    "    outputpath += \"_weighted/\"\n",
    "else:\n",
    "    outputpath += \"/\"\n",
    "\n",
    "#################################################################################################################################\n",
    "# %% Initializing the seeds\n",
    "np.random.seed(15544)  # Setting up a common seed number for numpy function\n",
    "random.seed(55452)  # Setting up random seed for the random function\n"
   ]
  },
  {
   "cell_type": "markdown",
   "metadata": {
    "ExecuteTime": {
     "end_time": "2020-11-07T18:35:27.629498Z",
     "start_time": "2020-11-07T18:35:27.614455Z"
    }
   },
   "source": [
    "## Mixing for all the proportions of rain and snow efficiency in recharging groundwater"
   ]
  },
  {
   "cell_type": "code",
   "execution_count": 113,
   "metadata": {
    "ExecuteTime": {
     "end_time": "2020-11-17T15:18:17.154957Z",
     "start_time": "2020-11-17T15:18:16.924193Z"
    }
   },
   "outputs": [
    {
     "ename": "TypeError",
     "evalue": "Population must be a sequence or set.  For dicts, use list(d).",
     "output_type": "error",
     "traceback": [
      "\u001b[1;31m---------------------------------------------------------------------------\u001b[0m",
      "\u001b[1;31mTypeError\u001b[0m                                 Traceback (most recent call last)",
      "\u001b[1;32m<ipython-input-113-77aebda8046f>\u001b[0m in \u001b[0;36m<module>\u001b[1;34m\u001b[0m\n\u001b[0;32m     75\u001b[0m \u001b[1;33m\u001b[0m\u001b[0m\n\u001b[0;32m     76\u001b[0m                 \u001b[1;31m# Randomly choose one monthly groundwater sample\u001b[0m\u001b[1;33m\u001b[0m\u001b[1;33m\u001b[0m\u001b[1;33m\u001b[0m\u001b[0m\n\u001b[1;32m---> 77\u001b[1;33m                 \u001b[0mrandom_gw_iso\u001b[0m\u001b[1;33m.\u001b[0m\u001b[0mappend\u001b[0m\u001b[1;33m(\u001b[0m\u001b[0mrandom\u001b[0m\u001b[1;33m.\u001b[0m\u001b[0msample\u001b[0m\u001b[1;33m(\u001b[0m\u001b[0mstorage_isotopic_ratio\u001b[0m\u001b[1;33m,\u001b[0m \u001b[1;36m1\u001b[0m\u001b[1;33m)\u001b[0m\u001b[1;33m[\u001b[0m\u001b[1;36m0\u001b[0m\u001b[1;33m]\u001b[0m\u001b[1;33m)\u001b[0m\u001b[1;33m\u001b[0m\u001b[1;33m\u001b[0m\u001b[0m\n\u001b[0m\u001b[0;32m     78\u001b[0m \u001b[1;33m\u001b[0m\u001b[0m\n\u001b[0;32m     79\u001b[0m         \u001b[1;31m# Defining weights for rain and snowfall/snowmelt samples\u001b[0m\u001b[1;33m\u001b[0m\u001b[1;33m\u001b[0m\u001b[1;33m\u001b[0m\u001b[0m\n",
      "\u001b[1;32mC:\\ProgramData\\Anaconda3\\envs\\pygis38\\lib\\random.py\u001b[0m in \u001b[0;36msample\u001b[1;34m(self, population, k)\u001b[0m\n\u001b[0;32m    357\u001b[0m             \u001b[0mpopulation\u001b[0m \u001b[1;33m=\u001b[0m \u001b[0mtuple\u001b[0m\u001b[1;33m(\u001b[0m\u001b[0mpopulation\u001b[0m\u001b[1;33m)\u001b[0m\u001b[1;33m\u001b[0m\u001b[1;33m\u001b[0m\u001b[0m\n\u001b[0;32m    358\u001b[0m         \u001b[1;32mif\u001b[0m \u001b[1;32mnot\u001b[0m \u001b[0misinstance\u001b[0m\u001b[1;33m(\u001b[0m\u001b[0mpopulation\u001b[0m\u001b[1;33m,\u001b[0m \u001b[0m_Sequence\u001b[0m\u001b[1;33m)\u001b[0m\u001b[1;33m:\u001b[0m\u001b[1;33m\u001b[0m\u001b[1;33m\u001b[0m\u001b[0m\n\u001b[1;32m--> 359\u001b[1;33m             \u001b[1;32mraise\u001b[0m \u001b[0mTypeError\u001b[0m\u001b[1;33m(\u001b[0m\u001b[1;34m\"Population must be a sequence or set.  For dicts, use list(d).\"\u001b[0m\u001b[1;33m)\u001b[0m\u001b[1;33m\u001b[0m\u001b[1;33m\u001b[0m\u001b[0m\n\u001b[0m\u001b[0;32m    360\u001b[0m         \u001b[0mrandbelow\u001b[0m \u001b[1;33m=\u001b[0m \u001b[0mself\u001b[0m\u001b[1;33m.\u001b[0m\u001b[0m_randbelow\u001b[0m\u001b[1;33m\u001b[0m\u001b[1;33m\u001b[0m\u001b[0m\n\u001b[0;32m    361\u001b[0m         \u001b[0mn\u001b[0m \u001b[1;33m=\u001b[0m \u001b[0mlen\u001b[0m\u001b[1;33m(\u001b[0m\u001b[0mpopulation\u001b[0m\u001b[1;33m)\u001b[0m\u001b[1;33m\u001b[0m\u001b[1;33m\u001b[0m\u001b[0m\n",
      "\u001b[1;31mTypeError\u001b[0m: Population must be a sequence or set.  For dicts, use list(d)."
     ]
    }
   ],
   "source": [
    "\n",
    "\n",
    "\n",
    "while rain_eff <= 1.:\n",
    "    snow_eff = 0.1\n",
    "    while snow_eff <= 1.:\n",
    "\n",
    "        filename = PATH + f\"RAIN_{rain_eff:0.1f}_SNOW_{snow_eff:0.1f}.csv\"\n",
    "        df = pd.read_csv(filename)\n",
    "\n",
    "        # Computing the proportion of groundwater recharged from snow in long term\n",
    "        recharge_rain_amount = sum(df[\"Rain recharge (mm)\"].values)\n",
    "        recharge_snow_amount = sum(df[\"Snow recharge (mm)\"].values)\n",
    "        actual_snow_ratio_long_term = recharge_snow_amount / (recharge_rain_amount + recharge_snow_amount)\n",
    "\n",
    "        # Computing the proportion of groundwater recharged from snow in short term (corresponding to the isotopic data period)\n",
    "        recharge_rain_amount = sum(df[\"Rain recharge (mm)\"].values[(years - last_years) * 365:])\n",
    "        recharge_snow_amount = sum(df[\"Snow recharge (mm)\"].values[(years - last_years) * 365:])\n",
    "        actual_snow_ratio_short_term = recharge_snow_amount / (recharge_rain_amount + recharge_snow_amount)\n",
    "\n",
    "        # Building list containing isotopic ratio of rain, snowfall and groundwater\n",
    "        random_rain_iso, random_snow_iso, random_gw_iso = [], [], []\n",
    "        random_rain_amount, random_snow_amount = [], []  # Amount of rain and snowmelt corresponding to the isotopic ratio\n",
    "        for year_index in range(years - last_years, years):\n",
    "            for month in range(1, 13):\n",
    "\n",
    "                # Subsetting the dataframe\n",
    "                startDayNumb = datetime.datetime(2001, month, 1).timetuple().tm_yday\n",
    "                start_index = year_index * 365 + startDayNumb\n",
    "                end_index = start_index + calendar.monthrange(2001, month)[1]\n",
    "\n",
    "                # Rainfall amount and isotopic ratio\n",
    "                rain_amount = df[\"Rainfall (mm)\"].values[start_index: end_index + 1]  # Amount of rainfall\n",
    "                rain_isotopic_ratio = df[\"Precip isotopic ratio\"].values[\n",
    "                                      start_index: end_index + 1]  # Isotopic ratio of rainfall\n",
    "\n",
    "                # Amount of snowfall or snowmelt\n",
    "                if (which_snow == \"Snowfall\"):\n",
    "                    snow_amount = df[\"Snowfall (mm)\"].values[start_index: end_index + 1]  # Amount of snowfall\n",
    "                    snow_isotopic_ratio = df[\"Precip isotopic ratio\"].values[\n",
    "                                          start_index: end_index + 1]  # Snowfall isotopic ratio\n",
    "                elif (which_snow == \"Snowmelt\"):\n",
    "                    snow_amount = df[\"Snowmelt (mm)\"].values[start_index: end_index + 1]  # Amount of snowmelt\n",
    "                    # Shifted up by 1 row because the current snowmelt isotopic ratio is the snowpack isotopic ratio at the last timestep\n",
    "                    snow_isotopic_ratio = df[\"Snowpack isotopic ratio\"].values[\n",
    "                                          start_index - 1: end_index]  # Snowmelt isotopic ratio\n",
    "\n",
    "                storage_isotopic_ratio = df[\"Storage isotopic ratio\"].values[\n",
    "                                         start_index: end_index + 1]  # Groundwater isotopic ratio\n",
    "\n",
    "                # Only considering days when it rained or [snowed or the snow melted]\n",
    "                rain_index = np.nonzero(rain_amount)[0]  # Day when there was rain\n",
    "                snow_index = np.nonzero(snow_amount)[0]  # Day when there was snowfall or snowmelt\n",
    "\n",
    "                # Isotopic ratio of rainfall and snowfall/snowmelt\n",
    "                rain_Iso, snow_Iso = rain_isotopic_ratio[rain_index], snow_isotopic_ratio[snow_index]\n",
    "                # Magnitude of rainfall and snowfall/snowmelt\n",
    "                temp_rain_amount, temp_snow_amount = rain_amount[rain_index], snow_amount[snow_index]\n",
    "\n",
    "                # Choosing values of rain and snowfall/snowmelt isotopic ratio to be used in HydroMix\n",
    "                if (len(rain_Iso) != 0):\n",
    "                    #\t\t\t\t\t# Randomly choose one monthly rainfall sample\n",
    "                    #\t\t\t\t\trandom_rain_iso.append(random.sample(rain_Iso, 1)[0])\n",
    "                    #\t\t\t\t\trandom_rain_amount.append(random.sample(temp_rain_amount)[0])\n",
    "\n",
    "                    # Choose all the rainfall samples\n",
    "                    random_rain_iso.extend(rain_Iso)\n",
    "                    random_rain_amount.extend(temp_rain_amount)\n",
    "\n",
    "                if (len(snow_Iso) != 0):\n",
    "                    #\t\t\t\t\t# Randomly choose one monthly snowfall/snowmelt sample\n",
    "                    #\t\t\t\t\trandom_snow_iso.append(random.sample(snow_Iso, 1)[0])\n",
    "                    #\t\t\t\t\trandom_snow_amount.append(random.sample(temp_snow_amount, 1)[0])\n",
    "\n",
    "                    # Choose all the snowfall/snowmelt samples\n",
    "                    random_snow_iso.extend(snow_Iso)\n",
    "                    random_snow_amount.extend(temp_snow_amount)\n",
    "\n",
    "                # Randomly choose one monthly groundwater sample\n",
    "                random_gw_iso.append(np.random.choice(storage_isotopic_ratio, 1)[0])\n",
    "\n",
    "        # Defining weights for rain and snowfall/snowmelt samples\n",
    "        random_rain_weight = np.array([i * j for i, j in zip(random_rain_iso, random_rain_amount)]) / sum(\n",
    "            random_rain_amount + random_snow_amount)\n",
    "        random_snow_weight = np.array([i * j for i, j in zip(random_snow_iso, random_snow_amount)]) / sum(\n",
    "            random_rain_amount + random_snow_amount)\n",
    "\n",
    "        # Running the mixing model\n",
    "        # Initializing mixing model parameters\n",
    "        LAMBDA_params = np.random.uniform(lambda_range[0], lambda_range[1], number_iterations)\n",
    "        # Computing the variance of error from groundwater samples\n",
    "        LIKELIHOOD_std_params_H2 = np.full(number_iterations, np.std(random_gw_iso, ddof=1))\n",
    "        if weighted:  # Running HydroMix taking into account weights\n",
    "            likelihood_h2, lambda_h2, error_std_h2 = hydro_mix_weighted(random_snow_iso, random_snow_weight,\n",
    "                                                                        random_rain_iso, random_rain_weight,\n",
    "                                                                        random_gw_iso, LAMBDA_params,\n",
    "                                                                        LIKELIHOOD_std_params_H2, number_iterations)\n",
    "        else:\n",
    "            # Running HydroMix without taking into account weights\n",
    "            likelihood_h2, lambda_h2, error_std_h2 = hydro_mix(random_snow_iso, random_rain_iso, random_gw_iso,\n",
    "                                                               LAMBDA_params, LIKELIHOOD_std_params_H2, number_iterations)\n",
    "\n",
    "        # Writing in a csv file\n",
    "        final_lis = [[\"Snow ratio\", \"Log likelihood\", \"Error std\"]]\n",
    "        path = outputpath + \"results_RAIN_\" + str(rain_eff) + \"_SNOW_\" + str(snow_eff) + \".csv\"\n",
    "        for index in range(0, len(likelihood_h2)):\n",
    "            final_lis.append([round(lambda_h2[index], 2), round(likelihood_h2[index], 2), round(error_std_h2[index], 2)])\n",
    "        print(path)\n",
    "\n",
    "        # Creating and saving figure\n",
    "        plt.figure(figsize=(10, 6))\n",
    "        plt.hist(lambda_h2[0:int(0.01 * best_sim_per * number_iterations)], color='blue', alpha=0.4,\n",
    "                 label=r'$\\delta^{2}$H' + u' \\u2030 (VSMOW)', normed='True')\n",
    "        plt.axvline(x=actual_snow_ratio_long_term, label='Groundwater recharged from snowmelt (long term)', color='red')\n",
    "        plt.axvline(x=actual_snow_ratio_short_term, label='Groundwater recharged from snowmelt (short term)',\n",
    "                    color='black')\n",
    "        plt.xlim(0., 1.)\n",
    "        plt.grid(linestyle='dotted')\n",
    "        plt.xlabel(\"Fraction of snow in groundwater\", fontsize=14)\n",
    "        plt.ylabel(\"Normalised frequency\", fontsize=14)\n",
    "        plt.legend()\n",
    "        plt.tight_layout()\n",
    "        path = outputpath + f\"/Figures/posterior_RAIN_{rain_eff:0.1f}_SNOW_{snow_eff:0.1f}.jpeg\"\n",
    "        plt.savefig(path, dpi=300)\n",
    "        plt.close()\n",
    "        print(path)\n",
    "\n",
    "        del df\n",
    "\n",
    "        snow_eff += 0.1\n",
    "\n",
    "    rain_eff += 0.1\n"
   ]
  },
  {
   "cell_type": "code",
   "execution_count": null,
   "metadata": {},
   "outputs": [],
   "source": []
  },
  {
   "cell_type": "markdown",
   "metadata": {},
   "source": [
    "# GW_mixing_HydroMix_MCMC"
   ]
  },
  {
   "cell_type": "code",
   "execution_count": null,
   "metadata": {},
   "outputs": [],
   "source": [
    "\"\"\"\n",
    "Created on: 18th July 2019 (Harsh Beria)\n",
    "Last updated on\n",
    "What it does?\n",
    "\n",
    "Runs a MCMC implementation of HydroMix to estimate snow ratio in groundwater with the isotopic ratios generated by the script\n",
    "GW_conceptual.py\n",
    "The main feature is that this script can use different time periods during the computation of snow ratio\n",
    "\n",
    "SourceFiles used:\n",
    "OutputFiles/GW_conceptual/\n",
    "\n",
    "OutputFiles processed:\n",
    "Figures made:\n",
    "\"\"\""
   ]
  },
  {
   "cell_type": "markdown",
   "metadata": {},
   "source": [
    "## Set up MCMC Mixing Model Parameters"
   ]
  },
  {
   "cell_type": "code",
   "execution_count": 124,
   "metadata": {
    "ExecuteTime": {
     "end_time": "2020-11-17T15:27:03.136069Z",
     "start_time": "2020-11-17T15:27:03.124069Z"
    }
   },
   "outputs": [],
   "source": [
    "# Main variables\n",
    "\n",
    "rain_eff, snow_eff = 0.1, 0.1\n",
    "\n",
    "# Mixing model parameters\n",
    "NUMBER_ITERATIONS = 1000\n",
    "LAMBDA_RANGE = [0., 1.]  # LAMBDA values imply the fraction of snow in groundwater\n",
    "# Number of best simulations using which lambda is computed\n",
    "BEST_SIM_PER = 5.  # In percentage\n",
    "\n",
    "YEARS = 100  # Number of years for which simulation was carried out\n",
    "LAST_YEARS = 2  # Number of years at the end of the timeseries from which isotopic data is sampled\n",
    "\n",
    "# Options are \"Snowfall/Snowmelt\", tells us which isotopic ratio is to be used to find groundwater recharge using HydroMix\n",
    "which_snow = \"Snowmelt\"\n",
    "WEIGHTED = 1  # 0 => non-weighted mixing, 1 => weighted mixing\n",
    "\n",
    "JUMP_PERCENTAGE = 5  # In percentage (JUMP_PERCENTAGE/2 in both directions)\n",
    "PATH = hydropath + \"/OutputFiles/GW_conceptual/\"\n",
    "OUTPUTPATH = hydropath + \"/OutputFiles/GW_conceptual/Rainfall_\" + which_snow + \"_mixing_last_\" + str(LAST_YEARS) + \"Yr\"\n",
    "if (WEIGHTED):\n",
    "    OUTPUTPATH += \"_weighted_MCMC/\"\n",
    "else:\n",
    "    OUTPUTPATH += \"_MCMC/\"\n",
    "\n",
    "#################################################################################################################################\n",
    "# %% Initializing the seeds\n",
    "np.random.seed(15544)  # Setting up a common seed number for numpy function\n",
    "random.seed(55452)  # Setting up random seed for the random function"
   ]
  },
  {
   "cell_type": "code",
   "execution_count": 136,
   "metadata": {
    "ExecuteTime": {
     "end_time": "2020-11-17T16:13:31.672987Z",
     "start_time": "2020-11-17T15:34:02.915837Z"
    }
   },
   "outputs": [
    {
     "name": "stdout",
     "output_type": "stream",
     "text": [
      "Iteration number:1, Acceptance: 1.0\n"
     ]
    },
    {
     "name": "stderr",
     "output_type": "stream",
     "text": [
      "G:/My Drive/Python/Pycharm/waterisomix\\waterisomix\\mixingfunctions.py:216: RuntimeWarning: overflow encountered in exp\n",
      "  alpha = np.exp(LLValue - log_likelihood_lis[-1])\n"
     ]
    },
    {
     "name": "stdout",
     "output_type": "stream",
     "text": [
      "Iteration number:101, Acceptance: 0.46534653465346537\n",
      "Iteration number:201, Acceptance: 0.263681592039801\n",
      "Iteration number:301, Acceptance: 0.1760797342192691\n",
      "Iteration number:401, Acceptance: 0.13466334164588528\n",
      "Iteration number:501, Acceptance: 0.10778443113772455\n",
      "Iteration number:601, Acceptance: 0.09151414309484193\n",
      "Iteration number:701, Acceptance: 0.07845934379457917\n",
      "Iteration number:801, Acceptance: 0.0686641697877653\n",
      "Iteration number:901, Acceptance: 0.06215316315205328\n",
      "Iteration number:1001, Acceptance: 0.056943056943056944\n",
      "Iteration number:1101, Acceptance: 0.051771117166212535\n",
      "Iteration number:1201, Acceptance: 0.04746044962531224\n",
      "Iteration number:1301, Acceptance: 0.043812451960030745\n",
      "Iteration number:1401, Acceptance: 0.04068522483940043\n",
      "Iteration number:1501, Acceptance: 0.0379746835443038\n",
      "Iteration number:1601, Acceptance: 0.03560274828232355\n",
      "Iteration number:1701, Acceptance: 0.03350970017636684\n",
      "Iteration number:1801, Acceptance: 0.03164908384230983\n",
      "Iteration number:1901, Acceptance: 0.03051025775907417\n",
      "Iteration number:2001, Acceptance: 0.028985507246376812\n",
      "Iteration number:2101, Acceptance: 0.02760590195145169\n",
      "Iteration number:2201, Acceptance: 0.026351658337119492\n",
      "Iteration number:2301, Acceptance: 0.025206431986093004\n",
      "Iteration number:2401, Acceptance: 0.024156601416076635\n",
      "Iteration number:2501, Acceptance: 0.023190723710515795\n",
      "Iteration number:2601, Acceptance: 0.022683583237216455\n",
      "Iteration number:2701, Acceptance: 0.021843761569788966\n",
      "Iteration number:2801, Acceptance: 0.021063905747947163\n",
      "Iteration number:2901, Acceptance: 0.020337814546708032\n",
      "Iteration number:1, Acceptance: 1.0\n",
      "Iteration number:101, Acceptance: 0.38613861386138615\n",
      "Iteration number:201, Acceptance: 0.208955223880597\n",
      "Iteration number:301, Acceptance: 0.14285714285714285\n",
      "Iteration number:401, Acceptance: 0.10723192019950124\n",
      "Iteration number:501, Acceptance: 0.08582834331337326\n",
      "Iteration number:601, Acceptance: 0.07154742096505824\n",
      "Iteration number:701, Acceptance: 0.06276747503566334\n",
      "Iteration number:801, Acceptance: 0.056179775280898875\n",
      "Iteration number:901, Acceptance: 0.049944506104328525\n",
      "Iteration number:1001, Acceptance: 0.04495504495504495\n",
      "Iteration number:1101, Acceptance: 0.04450499545867393\n",
      "Iteration number:1201, Acceptance: 0.041631973355537054\n",
      "Iteration number:1301, Acceptance: 0.03843197540353574\n",
      "Iteration number:1401, Acceptance: 0.03568879371877231\n",
      "Iteration number:1501, Acceptance: 0.033311125916055964\n",
      "Iteration number:1601, Acceptance: 0.03123048094940662\n",
      "Iteration number:1701, Acceptance: 0.029982363315696647\n",
      "Iteration number:1801, Acceptance: 0.028872848417545807\n",
      "Iteration number:1901, Acceptance: 0.027880063124671225\n",
      "Iteration number:2001, Acceptance: 0.026486756621689155\n",
      "Iteration number:2101, Acceptance: 0.026653974297953357\n",
      "Iteration number:2201, Acceptance: 0.025442980463425715\n",
      "Iteration number:2301, Acceptance: 0.024337244676227728\n",
      "Iteration number:2401, Acceptance: 0.023740108288213244\n",
      "Iteration number:2501, Acceptance: 0.023590563774490203\n",
      "Iteration number:2601, Acceptance: 0.02306805074971165\n",
      "Iteration number:2701, Acceptance: 0.022584228063680118\n",
      "Iteration number:2801, Acceptance: 0.022134951802927526\n",
      "Iteration number:2901, Acceptance: 0.021371940710099964\n"
     ]
    },
    {
     "ename": "FileNotFoundError",
     "evalue": "[Errno 2] No such file or directory: 'G:/My Drive/Python/Pycharm/waterisomix//OutputFiles/GW_conceptual/RAIN_0.1_SNOW_0.30000000000000004.csv'",
     "output_type": "error",
     "traceback": [
      "\u001b[1;31m---------------------------------------------------------------------------\u001b[0m",
      "\u001b[1;31mFileNotFoundError\u001b[0m                         Traceback (most recent call last)",
      "\u001b[1;32m<ipython-input-136-22d0cccc51a6>\u001b[0m in \u001b[0;36m<module>\u001b[1;34m\u001b[0m\n\u001b[0;32m      6\u001b[0m \u001b[1;33m\u001b[0m\u001b[0m\n\u001b[0;32m      7\u001b[0m         \u001b[0mfilename\u001b[0m \u001b[1;33m=\u001b[0m \u001b[0mPATH\u001b[0m \u001b[1;33m+\u001b[0m \u001b[1;34m\"RAIN_\"\u001b[0m \u001b[1;33m+\u001b[0m \u001b[0mstr\u001b[0m\u001b[1;33m(\u001b[0m\u001b[0mrain_eff\u001b[0m\u001b[1;33m)\u001b[0m \u001b[1;33m+\u001b[0m \u001b[1;34m\"_SNOW_\"\u001b[0m \u001b[1;33m+\u001b[0m \u001b[0mstr\u001b[0m\u001b[1;33m(\u001b[0m\u001b[0msnow_eff\u001b[0m\u001b[1;33m)\u001b[0m \u001b[1;33m+\u001b[0m \u001b[1;34m\".csv\"\u001b[0m\u001b[1;33m\u001b[0m\u001b[1;33m\u001b[0m\u001b[0m\n\u001b[1;32m----> 8\u001b[1;33m         \u001b[0mdf\u001b[0m \u001b[1;33m=\u001b[0m \u001b[0mpd\u001b[0m\u001b[1;33m.\u001b[0m\u001b[0mread_csv\u001b[0m\u001b[1;33m(\u001b[0m\u001b[0mfilename\u001b[0m\u001b[1;33m)\u001b[0m\u001b[1;33m\u001b[0m\u001b[1;33m\u001b[0m\u001b[0m\n\u001b[0m\u001b[0;32m      9\u001b[0m \u001b[1;33m\u001b[0m\u001b[0m\n\u001b[0;32m     10\u001b[0m         \u001b[1;31m# Computing the proportion of groundwater recharged from snow in long term\u001b[0m\u001b[1;33m\u001b[0m\u001b[1;33m\u001b[0m\u001b[1;33m\u001b[0m\u001b[0m\n",
      "\u001b[1;32mC:\\ProgramData\\Anaconda3\\envs\\pygis38\\lib\\site-packages\\pandas\\io\\parsers.py\u001b[0m in \u001b[0;36mread_csv\u001b[1;34m(filepath_or_buffer, sep, delimiter, header, names, index_col, usecols, squeeze, prefix, mangle_dupe_cols, dtype, engine, converters, true_values, false_values, skipinitialspace, skiprows, skipfooter, nrows, na_values, keep_default_na, na_filter, verbose, skip_blank_lines, parse_dates, infer_datetime_format, keep_date_col, date_parser, dayfirst, cache_dates, iterator, chunksize, compression, thousands, decimal, lineterminator, quotechar, quoting, doublequote, escapechar, comment, encoding, dialect, error_bad_lines, warn_bad_lines, delim_whitespace, low_memory, memory_map, float_precision)\u001b[0m\n\u001b[0;32m    684\u001b[0m     )\n\u001b[0;32m    685\u001b[0m \u001b[1;33m\u001b[0m\u001b[0m\n\u001b[1;32m--> 686\u001b[1;33m     \u001b[1;32mreturn\u001b[0m \u001b[0m_read\u001b[0m\u001b[1;33m(\u001b[0m\u001b[0mfilepath_or_buffer\u001b[0m\u001b[1;33m,\u001b[0m \u001b[0mkwds\u001b[0m\u001b[1;33m)\u001b[0m\u001b[1;33m\u001b[0m\u001b[1;33m\u001b[0m\u001b[0m\n\u001b[0m\u001b[0;32m    687\u001b[0m \u001b[1;33m\u001b[0m\u001b[0m\n\u001b[0;32m    688\u001b[0m \u001b[1;33m\u001b[0m\u001b[0m\n",
      "\u001b[1;32mC:\\ProgramData\\Anaconda3\\envs\\pygis38\\lib\\site-packages\\pandas\\io\\parsers.py\u001b[0m in \u001b[0;36m_read\u001b[1;34m(filepath_or_buffer, kwds)\u001b[0m\n\u001b[0;32m    450\u001b[0m \u001b[1;33m\u001b[0m\u001b[0m\n\u001b[0;32m    451\u001b[0m     \u001b[1;31m# Create the parser.\u001b[0m\u001b[1;33m\u001b[0m\u001b[1;33m\u001b[0m\u001b[1;33m\u001b[0m\u001b[0m\n\u001b[1;32m--> 452\u001b[1;33m     \u001b[0mparser\u001b[0m \u001b[1;33m=\u001b[0m \u001b[0mTextFileReader\u001b[0m\u001b[1;33m(\u001b[0m\u001b[0mfp_or_buf\u001b[0m\u001b[1;33m,\u001b[0m \u001b[1;33m**\u001b[0m\u001b[0mkwds\u001b[0m\u001b[1;33m)\u001b[0m\u001b[1;33m\u001b[0m\u001b[1;33m\u001b[0m\u001b[0m\n\u001b[0m\u001b[0;32m    453\u001b[0m \u001b[1;33m\u001b[0m\u001b[0m\n\u001b[0;32m    454\u001b[0m     \u001b[1;32mif\u001b[0m \u001b[0mchunksize\u001b[0m \u001b[1;32mor\u001b[0m \u001b[0miterator\u001b[0m\u001b[1;33m:\u001b[0m\u001b[1;33m\u001b[0m\u001b[1;33m\u001b[0m\u001b[0m\n",
      "\u001b[1;32mC:\\ProgramData\\Anaconda3\\envs\\pygis38\\lib\\site-packages\\pandas\\io\\parsers.py\u001b[0m in \u001b[0;36m__init__\u001b[1;34m(self, f, engine, **kwds)\u001b[0m\n\u001b[0;32m    944\u001b[0m             \u001b[0mself\u001b[0m\u001b[1;33m.\u001b[0m\u001b[0moptions\u001b[0m\u001b[1;33m[\u001b[0m\u001b[1;34m\"has_index_names\"\u001b[0m\u001b[1;33m]\u001b[0m \u001b[1;33m=\u001b[0m \u001b[0mkwds\u001b[0m\u001b[1;33m[\u001b[0m\u001b[1;34m\"has_index_names\"\u001b[0m\u001b[1;33m]\u001b[0m\u001b[1;33m\u001b[0m\u001b[1;33m\u001b[0m\u001b[0m\n\u001b[0;32m    945\u001b[0m \u001b[1;33m\u001b[0m\u001b[0m\n\u001b[1;32m--> 946\u001b[1;33m         \u001b[0mself\u001b[0m\u001b[1;33m.\u001b[0m\u001b[0m_make_engine\u001b[0m\u001b[1;33m(\u001b[0m\u001b[0mself\u001b[0m\u001b[1;33m.\u001b[0m\u001b[0mengine\u001b[0m\u001b[1;33m)\u001b[0m\u001b[1;33m\u001b[0m\u001b[1;33m\u001b[0m\u001b[0m\n\u001b[0m\u001b[0;32m    947\u001b[0m \u001b[1;33m\u001b[0m\u001b[0m\n\u001b[0;32m    948\u001b[0m     \u001b[1;32mdef\u001b[0m \u001b[0mclose\u001b[0m\u001b[1;33m(\u001b[0m\u001b[0mself\u001b[0m\u001b[1;33m)\u001b[0m\u001b[1;33m:\u001b[0m\u001b[1;33m\u001b[0m\u001b[1;33m\u001b[0m\u001b[0m\n",
      "\u001b[1;32mC:\\ProgramData\\Anaconda3\\envs\\pygis38\\lib\\site-packages\\pandas\\io\\parsers.py\u001b[0m in \u001b[0;36m_make_engine\u001b[1;34m(self, engine)\u001b[0m\n\u001b[0;32m   1176\u001b[0m     \u001b[1;32mdef\u001b[0m \u001b[0m_make_engine\u001b[0m\u001b[1;33m(\u001b[0m\u001b[0mself\u001b[0m\u001b[1;33m,\u001b[0m \u001b[0mengine\u001b[0m\u001b[1;33m=\u001b[0m\u001b[1;34m\"c\"\u001b[0m\u001b[1;33m)\u001b[0m\u001b[1;33m:\u001b[0m\u001b[1;33m\u001b[0m\u001b[1;33m\u001b[0m\u001b[0m\n\u001b[0;32m   1177\u001b[0m         \u001b[1;32mif\u001b[0m \u001b[0mengine\u001b[0m \u001b[1;33m==\u001b[0m \u001b[1;34m\"c\"\u001b[0m\u001b[1;33m:\u001b[0m\u001b[1;33m\u001b[0m\u001b[1;33m\u001b[0m\u001b[0m\n\u001b[1;32m-> 1178\u001b[1;33m             \u001b[0mself\u001b[0m\u001b[1;33m.\u001b[0m\u001b[0m_engine\u001b[0m \u001b[1;33m=\u001b[0m \u001b[0mCParserWrapper\u001b[0m\u001b[1;33m(\u001b[0m\u001b[0mself\u001b[0m\u001b[1;33m.\u001b[0m\u001b[0mf\u001b[0m\u001b[1;33m,\u001b[0m \u001b[1;33m**\u001b[0m\u001b[0mself\u001b[0m\u001b[1;33m.\u001b[0m\u001b[0moptions\u001b[0m\u001b[1;33m)\u001b[0m\u001b[1;33m\u001b[0m\u001b[1;33m\u001b[0m\u001b[0m\n\u001b[0m\u001b[0;32m   1179\u001b[0m         \u001b[1;32melse\u001b[0m\u001b[1;33m:\u001b[0m\u001b[1;33m\u001b[0m\u001b[1;33m\u001b[0m\u001b[0m\n\u001b[0;32m   1180\u001b[0m             \u001b[1;32mif\u001b[0m \u001b[0mengine\u001b[0m \u001b[1;33m==\u001b[0m \u001b[1;34m\"python\"\u001b[0m\u001b[1;33m:\u001b[0m\u001b[1;33m\u001b[0m\u001b[1;33m\u001b[0m\u001b[0m\n",
      "\u001b[1;32mC:\\ProgramData\\Anaconda3\\envs\\pygis38\\lib\\site-packages\\pandas\\io\\parsers.py\u001b[0m in \u001b[0;36m__init__\u001b[1;34m(self, src, **kwds)\u001b[0m\n\u001b[0;32m   2006\u001b[0m         \u001b[0mkwds\u001b[0m\u001b[1;33m[\u001b[0m\u001b[1;34m\"usecols\"\u001b[0m\u001b[1;33m]\u001b[0m \u001b[1;33m=\u001b[0m \u001b[0mself\u001b[0m\u001b[1;33m.\u001b[0m\u001b[0musecols\u001b[0m\u001b[1;33m\u001b[0m\u001b[1;33m\u001b[0m\u001b[0m\n\u001b[0;32m   2007\u001b[0m \u001b[1;33m\u001b[0m\u001b[0m\n\u001b[1;32m-> 2008\u001b[1;33m         \u001b[0mself\u001b[0m\u001b[1;33m.\u001b[0m\u001b[0m_reader\u001b[0m \u001b[1;33m=\u001b[0m \u001b[0mparsers\u001b[0m\u001b[1;33m.\u001b[0m\u001b[0mTextReader\u001b[0m\u001b[1;33m(\u001b[0m\u001b[0msrc\u001b[0m\u001b[1;33m,\u001b[0m \u001b[1;33m**\u001b[0m\u001b[0mkwds\u001b[0m\u001b[1;33m)\u001b[0m\u001b[1;33m\u001b[0m\u001b[1;33m\u001b[0m\u001b[0m\n\u001b[0m\u001b[0;32m   2009\u001b[0m         \u001b[0mself\u001b[0m\u001b[1;33m.\u001b[0m\u001b[0munnamed_cols\u001b[0m \u001b[1;33m=\u001b[0m \u001b[0mself\u001b[0m\u001b[1;33m.\u001b[0m\u001b[0m_reader\u001b[0m\u001b[1;33m.\u001b[0m\u001b[0munnamed_cols\u001b[0m\u001b[1;33m\u001b[0m\u001b[1;33m\u001b[0m\u001b[0m\n\u001b[0;32m   2010\u001b[0m \u001b[1;33m\u001b[0m\u001b[0m\n",
      "\u001b[1;32mpandas\\_libs\\parsers.pyx\u001b[0m in \u001b[0;36mpandas._libs.parsers.TextReader.__cinit__\u001b[1;34m()\u001b[0m\n",
      "\u001b[1;32mpandas\\_libs\\parsers.pyx\u001b[0m in \u001b[0;36mpandas._libs.parsers.TextReader._setup_parser_source\u001b[1;34m()\u001b[0m\n",
      "\u001b[1;31mFileNotFoundError\u001b[0m: [Errno 2] No such file or directory: 'G:/My Drive/Python/Pycharm/waterisomix//OutputFiles/GW_conceptual/RAIN_0.1_SNOW_0.30000000000000004.csv'"
     ]
    }
   ],
   "source": [
    "# %% Mixing for all the proportions of rain and snow efficiency in recharging groundwater\n",
    "\n",
    "while rain_eff <= 1.:\n",
    "    snow_eff = 0.1\n",
    "    while (snow_eff <= 1.):\n",
    "\n",
    "        filename = PATH + \"RAIN_\" + str(rain_eff) + \"_SNOW_\" + str(snow_eff) + \".csv\"\n",
    "        df = pd.read_csv(filename)\n",
    "\n",
    "        # Computing the proportion of groundwater recharged from snow in long term\n",
    "        recharge_rain_amount = sum(df[\"Rain recharge (mm)\"].values)\n",
    "        recharge_snow_amount = sum(df[\"Snow recharge (mm)\"].values)\n",
    "        actual_snow_ratio_long_term = recharge_snow_amount / (recharge_rain_amount + recharge_snow_amount)\n",
    "\n",
    "        # Computing the proportion of groundwater recharged from snow in short term (corresponding to the isotopic data period)\n",
    "        recharge_rain_amount = sum(df[\"Rain recharge (mm)\"].values[(YEARS - LAST_YEARS) * 365:])\n",
    "        recharge_snow_amount = sum(df[\"Snow recharge (mm)\"].values[(YEARS - LAST_YEARS) * 365:])\n",
    "        actual_snow_ratio_short_term = recharge_snow_amount / (recharge_rain_amount + recharge_snow_amount)\n",
    "\n",
    "        # Building list containing isotopic ratio of rain, snowfall and groundwater\n",
    "        random_rain_iso, random_snow_iso, random_gw_iso = [], [], []\n",
    "        random_rain_amount, random_snow_amount = [], []  # Amount of rain and snowmelt corresponding to the isotopic ratio\n",
    "        for year_index in range(YEARS - LAST_YEARS, YEARS):\n",
    "            for month in range(1, 13):\n",
    "\n",
    "                # Subsetting the dataframe\n",
    "                startDayNumb = datetime.datetime(2001, month, 1).timetuple().tm_yday\n",
    "                start_index = year_index * 365 + startDayNumb\n",
    "                end_index = start_index + calendar.monthrange(2001, month)[1]\n",
    "\n",
    "                # Rainfall amount and isotopic ratio\n",
    "                rain_amount = df[\"Rainfall (mm)\"].values[start_index: end_index + 1]  # Amount of rainfall\n",
    "                rain_isotopic_ratio = df[\"Precip isotopic ratio\"].values[\n",
    "                                      start_index: end_index + 1]  # Isotopic ratio of rainfall\n",
    "\n",
    "                # Amount of snowfall or snowmelt\n",
    "                if which_snow == \"Snowfall\":\n",
    "                    snow_amount = df[\"Snowfall (mm)\"].values[start_index: end_index + 1]  # Amount of snowfall\n",
    "                    snow_isotopic_ratio = df[\"Precip isotopic ratio\"].values[\n",
    "                                          start_index: end_index + 1]  # Snowfall isotopic ratio\n",
    "                elif (which_snow == \"Snowmelt\"):\n",
    "                    snow_amount = df[\"Snowmelt (mm)\"].values[start_index: end_index + 1]  # Amount of snowmelt\n",
    "                    # Shifted up by 1 row because the current snowmelt isotopic ratio is the snowpack isotopic ratio at the last timestep\n",
    "                    snow_isotopic_ratio = df[\"Snowpack isotopic ratio\"].values[\n",
    "                                          start_index - 1: end_index]  # Snowmelt isotopic ratio\n",
    "\n",
    "                storage_isotopic_ratio = df[\"Storage isotopic ratio\"].values[\n",
    "                                         start_index: end_index + 1]  # Groundwater isotopic ratio\n",
    "\n",
    "                # Only considering days when it rained or [snowed or the snow melted]\n",
    "                rain_index = np.nonzero(rain_amount)[0]  # Day when there was rain\n",
    "                snow_index = np.nonzero(snow_amount)[0]  # Day when there was snowfall or snowmelt\n",
    "\n",
    "                # Isotopic ratio of rainfall and snowfall/snowmelt\n",
    "                rain_Iso, snow_Iso = rain_isotopic_ratio[rain_index], snow_isotopic_ratio[snow_index]\n",
    "                # Magnitude of rainfall and snowfall/snowmelt\n",
    "                temp_rain_amount, temp_snow_amount = rain_amount[rain_index], snow_amount[snow_index]\n",
    "\n",
    "                # Choosing values of rain and snowfall/snowmelt isotopic ratio to be used in HydroMix\n",
    "                if (len(rain_Iso) != 0):\n",
    "                    #\t\t\t\t\t# Randomly choose one monthly rainfall sample\n",
    "                    #\t\t\t\t\trandom_rain_iso.append(random.sample(rain_Iso, 1)[0])\n",
    "                    #\t\t\t\t\trandom_rain_amount.append(random.sample(temp_rain_amount)[0])\n",
    "\n",
    "                    # Choose all the rainfall samples\n",
    "                    random_rain_iso.extend(rain_Iso)\n",
    "                    random_rain_amount.extend(temp_rain_amount)\n",
    "\n",
    "                if (len(snow_Iso) != 0):\n",
    "                    #\t\t\t\t\t# Randomly choose one monthly snowfall/snowmelt sample\n",
    "                    #\t\t\t\t\trandom_snow_iso.append(random.sample(snow_Iso, 1)[0])\n",
    "                    #\t\t\t\t\trandom_snow_amount.append(random.sample(temp_snow_amount, 1)[0])\n",
    "\n",
    "                    # Choose all the snowfall/snowmelt samples\n",
    "                    random_snow_iso.extend(snow_Iso)\n",
    "                    random_snow_amount.extend(temp_snow_amount)\n",
    "\n",
    "                # Randomly choose one monthly groundwater sample\n",
    "                random_gw_iso.append(np.random.choice(storage_isotopic_ratio, 1)[0])\n",
    "\n",
    "        # Defining weights for rain and snowfall/snowmelt samples\n",
    "        random_rain_weight = np.array([i * j for i, j in zip(random_rain_iso, random_rain_amount)]) / sum(\n",
    "            random_rain_amount + random_snow_amount)\n",
    "        random_snow_weight = np.array([i * j for i, j in zip(random_snow_iso, random_snow_amount)]) / sum(\n",
    "            random_rain_amount + random_snow_amount)\n",
    "\n",
    "        # Running the mixing model\n",
    "\n",
    "        # List of initial parameter values\n",
    "        initParam = [np.random.uniform(LAMBDA_RANGE[0], LAMBDA_RANGE[1])]\n",
    "\n",
    "        # Lower and upper limits of the model parameters\n",
    "        paramLimit = [LAMBDA_RANGE]\n",
    "\n",
    "        # Standard deviation of H2 in groundwater\n",
    "        H2_std = np.std(random_gw_iso, ddof=1)\n",
    "\n",
    "        if (WEIGHTED):  # Running HydroMix taking into account weights\n",
    "            LOGLIKELIHOOD_H2, PARAM_H2 = hydro_mix_weighted_mcmc(random_snow_iso, random_snow_weight, random_rain_iso,\n",
    "                                                                 random_rain_weight,\n",
    "                                                                 random_gw_iso, H2_std, initParam, paramLimit,\n",
    "                                                                 NUMBER_ITERATIONS, JUMP_PERCENTAGE)\n",
    "            snowRatioLis_H2 = [i[0] for i in PARAM_H2]\n",
    "        else:  # Running HydroMix without taking into account weights\n",
    "            LOGLIKELIHOOD_H2, PARAM_H2 = hydro_mix_mcmc(random_snow_iso, random_rain_iso, random_gw_iso, H2_std,\n",
    "                                                        initParam,\n",
    "                                                        paramLimit, NUMBER_ITERATIONS, JUMP_PERCENTAGE)\n",
    "            snowRatioLis_H2 = [i[0] for i in PARAM_H2]\n",
    "\n",
    "        # Writing in a csv file\n",
    "        final_lis = [[\"Snow ratio\", \"Log likelihood\", \"Error std\"]]\n",
    "        path = f\"{OUTPUTPATH}results_RAIN_{rain_eff:0.1f}_SNOW_{snow_eff:0.1f}.csv\"\n",
    "        for index in range(0, len(LOGLIKELIHOOD_H2)):\n",
    "            final_lis.append([round(snowRatioLis_H2[index], 4), round(LOGLIKELIHOOD_H2[index], 4), round(H2_std, 4)])\n",
    "\n",
    "\n",
    "\n",
    "\n",
    "        del df\n",
    "\n",
    "        snow_eff += 0.1\n",
    "\n",
    "    rain_eff += 0.1\n",
    "\n",
    "#################################################################################################################################\n"
   ]
  },
  {
   "cell_type": "code",
   "execution_count": 137,
   "metadata": {
    "ExecuteTime": {
     "end_time": "2020-11-17T16:15:05.433168Z",
     "start_time": "2020-11-17T16:15:05.409156Z"
    }
   },
   "outputs": [
    {
     "data": {
      "text/plain": [
       "[['Snow ratio', 'Log likelihood', 'Error std'],\n",
       " [0.9803, -27763656.747, 0.7011],\n",
       " [0.9784, -26191175.9366, 0.7011],\n",
       " [0.974, -25800542.6674, 0.7011],\n",
       " [0.9569, -24334699.2343, 0.7011],\n",
       " [0.9422, -23113635.8225, 0.7011],\n",
       " [0.9244, -21695760.1736, 0.7011],\n",
       " [0.9206, -21395060.1989, 0.7011],\n",
       " [0.9065, -20318541.5938, 0.7011],\n",
       " [0.8961, -19547176.1232, 0.7011],\n",
       " [0.8829, -18596383.743, 0.7011],\n",
       " [0.8664, -17452672.3647, 0.7011],\n",
       " [0.8423, -15874401.1436, 0.7011],\n",
       " [0.826, -14861244.9034, 0.7011],\n",
       " [0.8157, -14250863.0165, 0.7011],\n",
       " [0.8033, -13538396.0077, 0.7011],\n",
       " [0.791, -12857389.8935, 0.7011],\n",
       " [0.7812, -12336350.508, 0.7011],\n",
       " [0.7671, -11616212.6895, 0.7011],\n",
       " [0.7484, -10721372.5676, 0.7011],\n",
       " [0.7349, -10109562.5908, 0.7011],\n",
       " [0.7335, -10048426.7901, 0.7011],\n",
       " [0.7246, -9669092.898, 0.7011],\n",
       " [0.7197, -9465890.0817, 0.7011],\n",
       " [0.7041, -8847788.7102, 0.7011],\n",
       " [0.6884, -8268535.4449, 0.7011],\n",
       " [0.6682, -7591383.6706, 0.7011],\n",
       " [0.6632, -7433678.4469, 0.7011],\n",
       " [0.6451, -6905835.8405, 0.7011],\n",
       " [0.623, -6342261.255, 0.7011],\n",
       " [0.6086, -6021132.1326, 0.7011],\n",
       " [0.5963, -5778209.9464, 0.7011],\n",
       " [0.5723, -5383281.9171, 0.7011],\n",
       " [0.5524, -5135471.7062, 0.7011],\n",
       " [0.5386, -5006543.1727, 0.7011],\n",
       " [0.5226, -4899076.6163, 0.7011],\n",
       " [0.5145, -4862810.1182, 0.7011],\n",
       " [0.4974, -4825278.578, 0.7011],\n",
       " [0.4951, -4824282.4872, 0.7011],\n",
       " [0.4945, -4824170.4484, 0.7011],\n",
       " [0.4943, -4824151.0231, 0.7011],\n",
       " [0.4942, -4824147.703, 0.7011],\n",
       " [0.4937, -4824140.3526, 0.7011],\n",
       " [0.4937, -4824139.4678, 0.7011],\n",
       " [0.4939, -4824135.8916, 0.7011],\n",
       " [0.4939, -4824135.9091, 0.7011],\n",
       " [0.494, -4824136.6188, 0.7011],\n",
       " [0.4938, -4824137.1441, 0.7011],\n",
       " [0.4937, -4824138.8897, 0.7011],\n",
       " [0.494, -4824137.2058, 0.7011],\n",
       " [0.494, -4824138.5667, 0.7011],\n",
       " [0.4938, -4824136.0348, 0.7011],\n",
       " [0.494, -4824136.4794, 0.7011],\n",
       " [0.4939, -4824135.9135, 0.7011],\n",
       " [0.4938, -4824136.0559, 0.7011],\n",
       " [0.4939, -4824135.8935, 0.7011],\n",
       " [0.4938, -4824136.009, 0.7011],\n",
       " [0.4939, -4824135.8954, 0.7011],\n",
       " [0.4939, -4824135.9565, 0.7011],\n",
       " [0.4939, -4824135.8893, 0.7011],\n",
       " [0.4937, -4824137.4861, 0.7011],\n",
       " [0.4939, -4824136.0464, 0.7011],\n",
       " [0.4939, -4824135.9039, 0.7011]]"
      ]
     },
     "execution_count": 137,
     "metadata": {},
     "output_type": "execute_result"
    }
   ],
   "source": [
    "final_lis"
   ]
  },
  {
   "cell_type": "markdown",
   "metadata": {},
   "source": [
    "# synthetic_mixing_MCMC"
   ]
  },
  {
   "cell_type": "markdown",
   "metadata": {},
   "source": [
    "* Created on 27th September 2019 by Harsh Beria\n",
    "* A mixing model to estimate source contribution in a two-source linear system using an average likelihood approach.\n",
    "Error in estimation is assumed to be normally distributed with zero mean and constant standard deviation (which is computed from data)\n",
    "* Model parameters:\n",
    "  * number_iterations => Number of model runs\n",
    "  * lambda_params => Fraction of source 1 in the mixture\n",
    "  * LIKELIHOOD_std_params => Fixed value\n",
    "* OutputFiles processed: OutputFiles/Synthetic_exp/\n"
   ]
  },
  {
   "cell_type": "markdown",
   "metadata": {},
   "source": [
    "\n",
    "* Generates a given number of samples (specified by user) and generates samples for two random variables with distinct means and variances (specified by user). Generates sample from the mixture distribution for a given mixing ratio (specified by user) and then uses the mixture and source samples to infer back the mixing ratio\n",
    "* Example runs for 100 samples and standard deviations of 0.5 and 5 are stored in\n",
    "        OutputFiles/Synthetic_exp/Normal_distribution_0.5Std_1000iter_100sample/\n",
    "        OutputFiles/Synthetic_exp/Normal_distribution_5Std_1000iter_100sample/\n"
   ]
  },
  {
   "cell_type": "code",
   "execution_count": null,
   "metadata": {},
   "outputs": [],
   "source": [
    "# HydroMix model parameters (in the given range (inclusive))\n",
    "NUMBER_ITERATIONS = 1000\n",
    "LAMBDA_RANGE = [0., 1.]\n",
    "JUMP_PERCENTAGE = 5.  # In percentage (JUMP_PERCENTAGE/2 in both directions)\n",
    "\n",
    "# Parameters to generate synthetic time series\n",
    "# Lower and upper bounds of rain and snow isotopic ratio (in H2)\n",
    "N_SAMPLES = 100  # Number of samples\n",
    "S1_MEAN, S1_STD, N_S1_SAMPLES = 10., .5, N_SAMPLES\n",
    "S2_MEAN, S2_STD, N_S2_SAMPLES = 20., .5, N_SAMPLES\n",
    "N_MIX_SAMPLES = N_SAMPLES\n",
    "\n",
    "OUTPUTPATH = \"OutputFiles/Synthetic_exp/Normal_distribution_0.5Std_\" + str(NUMBER_ITERATIONS) + \"iter_\"\n",
    "OUTPUTPATH += str(N_SAMPLES) + \"sample/\"\n",
    "\n",
    "# %% Setting up a random seed\n",
    "np.random.seed(1)  # Setting up a common seed number\n",
    "\n",
    "# %% Mixing for lambda ranging from 0.05 to 0.95\n",
    "LAMBDA = 0.05  # Ratio of source 1 in the mixture"
   ]
  },
  {
   "cell_type": "code",
   "execution_count": null,
   "metadata": {},
   "outputs": [],
   "source": [
    "scatterplot_orig_lambda, scatterplot_sim_lambda = [], []  \n",
    "# For displaying in the scatterplot\n",
    "\n",
    "while (LAMBDA <= 0.96):\n",
    "\n",
    "    # Computing GW mean and variance\n",
    "    MIX_MEAN = LAMBDA * S1_MEAN + (1 - LAMBDA) * S2_MEAN\n",
    "    MIX_STD = np.sqrt((LAMBDA * S1_STD)**2 + ((1 - LAMBDA) * S2_STD)**2)\n",
    "\n",
    "    # Generating synthetic values for the sources and the mixture\n",
    "    S1_val = np.random.normal(S1_MEAN, S1_STD, N_S1_SAMPLES)\n",
    "    S2_val = np.random.normal(S2_MEAN, S2_STD, N_S2_SAMPLES)\n",
    "    MIX_val = np.random.normal(MIX_MEAN, MIX_STD, N_MIX_SAMPLES)\n",
    "\n",
    "    # Saving it into a csv file\n",
    "    path = OUTPUTPATH + \"input_\" + str(LAMBDA) + \".csv\"\n",
    "    output_lis = [[\"Source 1\", \"Source 2\", \"Mixture\"]]\n",
    "    for temp_index in range(len(S1_val)):\n",
    "        output_lis.append(\n",
    "            [S1_val[temp_index], S2_val[temp_index], MIX_val[temp_index]])\n",
    "\n",
    "    print(path)\n",
    "\n",
    "    # List of initial parameter values\n",
    "    initParam = [np.random.uniform(LAMBDA_RANGE[0], LAMBDA_RANGE[1])]\n",
    "    paramLimit = [LAMBDA_RANGE\n",
    "                  ]  # Lower and upper limits of the model parameters\n",
    "\n",
    "    # Running the mixing model\n",
    "    LOGLIKELIHOOD, PARAM, RESIDUAL = hydro_mix_mcmc(S1_val, S2_val, MIX_val,\n",
    "                                                    MIX_STD, initParam,\n",
    "                                                    paramLimit,\n",
    "                                                    NUMBER_ITERATIONS,\n",
    "                                                    JUMP_PERCENTAGE)\n",
    "\n",
    "    mixingRatioLis = [i[0] for i in PARAM]\n",
    "\n",
    "    # Writing into a csv file\n",
    "    path = OUTPUTPATH + \"output_\" + str(LAMBDA) + \"_MCMC.csv\"\n",
    "    output_lis = [[\"Lambda value\", \"Log likelihood\", \"Error std\", \"Residual\"]]\n",
    "    for index in range(0, len(LOGLIKELIHOOD)):\n",
    "        output_lis.append([\n",
    "            round(mixingRatioLis[index], 4),\n",
    "            round(LOGLIKELIHOOD[index], 4),\n",
    "            round(MIX_STD, 4),\n",
    "            round(RESIDUAL[index], 4)\n",
    "        ])\n",
    "\n",
    "    print(path)\n",
    "\n",
    "    #\tscatterplot_orig_lambda.append(LAMBDA)\n",
    "    #\tscatterplot_sim_lambda.append(np.median(lambda_params[0:int(best_sim_per * number_iterations / 100.)]))\n",
    "    #\tprint (LAMBDA, np.median(lambda_params[0:int(best_sim_per * number_iterations / 100.)]))\n",
    "    LAMBDA += 0.05"
   ]
  },
  {
   "cell_type": "code",
   "execution_count": null,
   "metadata": {},
   "outputs": [],
   "source": [
    "## %% Plotting scatterplot\n",
    "\n",
    "plt.figure()\n",
    "plt.scatter(scatterplot_orig_lambda, scatterplot_sim_lambda)\n",
    "plt.plot([0., 1.], [0., 1.], 'k--', color='r')\n",
    "plt.xlabel(\"Original lambda\")\n",
    "plt.ylabel(\"Simulated labmda\")\n",
    "plt.xlim(0., 1.)\n",
    "plt.ylim(0., 1.)\n",
    "plt.tight_layout()\n",
    "path = outputpath + \"Figures/scatterplot.jpeg\"\n",
    "#plt.savefig(path)"
   ]
  },
  {
   "cell_type": "code",
   "execution_count": null,
   "metadata": {},
   "outputs": [],
   "source": []
  }
 ],
 "metadata": {
  "kernelspec": {
   "display_name": "Python 3",
   "language": "python",
   "name": "python3"
  },
  "language_info": {
   "codemirror_mode": {
    "name": "ipython",
    "version": 3
   },
   "file_extension": ".py",
   "mimetype": "text/x-python",
   "name": "python",
   "nbconvert_exporter": "python",
   "pygments_lexer": "ipython3",
   "version": "3.8.6"
  },
  "latex_envs": {
   "LaTeX_envs_menu_present": true,
   "autoclose": false,
   "autocomplete": true,
   "bibliofile": "biblio.bib",
   "cite_by": "apalike",
   "current_citInitial": 1,
   "eqLabelWithNumbers": true,
   "eqNumInitial": 1,
   "hotkeys": {
    "equation": "Ctrl-E",
    "itemize": "Ctrl-I"
   },
   "labels_anchors": false,
   "latex_user_defs": false,
   "report_style_numbering": false,
   "user_envs_cfg": false
  },
  "toc": {
   "base_numbering": 1,
   "nav_menu": {
    "height": "279px",
    "width": "458px"
   },
   "number_sections": true,
   "sideBar": true,
   "skip_h1_title": false,
   "title_cell": "Table of Contents",
   "title_sidebar": "Contents",
   "toc_cell": false,
   "toc_position": {
    "height": "calc(100% - 180px)",
    "left": "10px",
    "top": "150px",
    "width": "486.5px"
   },
   "toc_section_display": true,
   "toc_window_display": true
  }
 },
 "nbformat": 4,
 "nbformat_minor": 4
}
