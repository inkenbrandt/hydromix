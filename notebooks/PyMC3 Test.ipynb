{
 "cells": [
  {
   "cell_type": "code",
   "execution_count": 1,
   "metadata": {
    "ExecuteTime": {
     "end_time": "2020-11-08T15:33:17.503601Z",
     "start_time": "2020-11-08T15:33:15.536323Z"
    }
   },
   "outputs": [
    {
     "name": "stderr",
     "output_type": "stream",
     "text": [
      "WARNING (theano.configdefaults): g++ not available, if using conda: `conda install m2w64-toolchain`\n",
      "C:\\ProgramData\\Anaconda3\\envs\\mcmc\\lib\\site-packages\\theano\\configdefaults.py:560: UserWarning: DeprecationWarning: there is no c++ compiler.This is deprecated and with Theano 0.11 a c++ compiler will be mandatory\n",
      "  warnings.warn(\"DeprecationWarning: there is no c++ compiler.\"\n",
      "WARNING (theano.configdefaults): g++ not detected ! Theano will be unable to execute optimized C-implementations (for both CPU and GPU) and will default to Python implementations. Performance will be severely degraded. To remove this warning, set Theano flags cxx to an empty string.\n",
      "WARNING (theano.tensor.blas): Using NumPy C-API based implementation for BLAS functions.\n"
     ]
    }
   ],
   "source": [
    "\n",
    "import pymc3.distributions.transforms as tr\n",
    "import arviz as az\n",
    "import matplotlib.pyplot as plt\n",
    "import numpy as np\n",
    "import pymc3 as pm\n",
    "import theano.tensor as tt\n",
    "import warnings\n",
    "\n",
    "import pandas as pd\n",
    "import pymc3 as pm"
   ]
  },
  {
   "cell_type": "code",
   "execution_count": null,
   "metadata": {
    "ExecuteTime": {
     "end_time": "2020-11-08T15:27:11.850981Z",
     "start_time": "2020-11-08T15:27:11.839013Z"
    }
   },
   "outputs": [],
   "source": [
    "%config InlineBackend.figure_format = 'retina'\n",
    "az.style.use('arviz-darkgrid')\n",
    "print('Running on PyMC3 v{}'.format(pm.__version__))\n",
    "print('Running on ArviZ v{}'.format(az.__version__))"
   ]
  },
  {
   "cell_type": "markdown",
   "metadata": {},
   "source": [
    "# Gaussian Mixing Model"
   ]
  },
  {
   "cell_type": "markdown",
   "metadata": {
    "ExecuteTime": {
     "end_time": "2020-11-08T01:33:14.648293Z",
     "start_time": "2020-11-08T01:33:14.629316Z"
    }
   },
   "source": [
    "https://docs.pymc.io/notebooks/gaussian_mixture_model.html"
   ]
  },
  {
   "cell_type": "code",
   "execution_count": null,
   "metadata": {},
   "outputs": [],
   "source": []
  },
  {
   "cell_type": "code",
   "execution_count": null,
   "metadata": {},
   "outputs": [],
   "source": []
  },
  {
   "cell_type": "code",
   "execution_count": null,
   "metadata": {
    "ExecuteTime": {
     "end_time": "2020-11-08T15:27:20.350252Z",
     "start_time": "2020-11-08T15:27:20.329309Z"
    }
   },
   "outputs": [],
   "source": [
    "%config InlineBackend.figure_format = 'retina'\n",
    "az.style.use('arviz-darkgrid')"
   ]
  },
  {
   "cell_type": "code",
   "execution_count": null,
   "metadata": {
    "ExecuteTime": {
     "end_time": "2020-11-08T15:27:21.963917Z",
     "start_time": "2020-11-08T15:27:21.722191Z"
    }
   },
   "outputs": [],
   "source": [
    "# simulate data from a known mixture distribution\n",
    "np.random.seed(12345) # set random seed for reproducibility\n",
    "\n",
    "k = 3\n",
    "ndata = 500\n",
    "spread = 5\n",
    "centers = np.array([-spread, 0, spread])\n",
    "\n",
    "# simulate data from mixture distribution\n",
    "v = np.random.randint(0, k, ndata)\n",
    "data = centers[v] + np.random.randn(ndata)\n",
    "\n",
    "plt.hist(data);"
   ]
  },
  {
   "cell_type": "code",
   "execution_count": null,
   "metadata": {
    "ExecuteTime": {
     "end_time": "2020-11-08T15:27:30.100017Z",
     "start_time": "2020-11-08T15:27:29.764199Z"
    }
   },
   "outputs": [],
   "source": [
    "# setup model\n",
    "model = pm.Model()\n",
    "with model:\n",
    "    # cluster sizes\n",
    "    p = pm.Dirichlet('p', a=np.array([1., 1., 1.]), shape=k)\n",
    "    # ensure all clusters have some points\n",
    "    p_min_potential = pm.Potential('p_min_potential', tt.switch(tt.min(p) < .1, -np.inf, 0))\n",
    "\n",
    "\n",
    "    # cluster centers\n",
    "    means = pm.Normal('means', mu=[0, 0, 0], sigma=15, shape=k)\n",
    "    # break symmetry\n",
    "    order_means_potential = pm.Potential('order_means_potential',\n",
    "                                         tt.switch(means[1]-means[0] < 0, -np.inf, 0)\n",
    "                                         + tt.switch(means[2]-means[1] < 0, -np.inf, 0))\n",
    "\n",
    "    # measurement error\n",
    "    sd = pm.Uniform('sd', lower=0, upper=20)\n",
    "\n",
    "    # latent cluster of each observation\n",
    "    category = pm.Categorical('category',\n",
    "                              p=p,\n",
    "                              shape=ndata)\n",
    "\n",
    "    # likelihood for each observed value\n",
    "    points = pm.Normal('obs',\n",
    "                       mu=means[category],\n",
    "                       sigma=sd,\n",
    "                       observed=data)"
   ]
  },
  {
   "cell_type": "code",
   "execution_count": null,
   "metadata": {
    "ExecuteTime": {
     "end_time": "2020-11-08T15:27:56.688216Z",
     "start_time": "2020-11-08T15:27:44.531059Z"
    }
   },
   "outputs": [],
   "source": [
    "# fit model\n",
    "with model:\n",
    "    step1 = pm.Metropolis(vars=[p, sd, means])\n",
    "    step2 = pm.ElemwiseCategorical(vars=[category], values=[0, 1, 2])\n",
    "    tr = pm.sample(1000, step=[step1, step2], tune=500)"
   ]
  },
  {
   "cell_type": "markdown",
   "metadata": {
    "ExecuteTime": {
     "start_time": "2020-11-08T01:34:48.689Z"
    }
   },
   "source": [
    "## Full trace"
   ]
  },
  {
   "cell_type": "code",
   "execution_count": null,
   "metadata": {
    "ExecuteTime": {
     "end_time": "2020-11-08T02:23:33.674335Z",
     "start_time": "2020-11-08T01:37:33.987Z"
    }
   },
   "outputs": [],
   "source": [
    "pm.traceplot(tr, var_names=['p', 'sd', 'means']);"
   ]
  },
  {
   "cell_type": "markdown",
   "metadata": {},
   "source": [
    "## After convergence"
   ]
  },
  {
   "cell_type": "code",
   "execution_count": null,
   "metadata": {
    "ExecuteTime": {
     "end_time": "2020-11-08T02:23:33.675332Z",
     "start_time": "2020-11-08T01:38:14.607Z"
    }
   },
   "outputs": [],
   "source": [
    "# take a look at traceplot for some model parameters\n",
    "pm.plots.traceplot(tr[::5], var_names=['p', 'sd', 'means']);"
   ]
  },
  {
   "cell_type": "code",
   "execution_count": null,
   "metadata": {},
   "outputs": [],
   "source": [
    "# I prefer autocorrelation plots for serious confirmation of MCMC convergence\n",
    "pm.autocorrplot(tr[::5], var_names=['sd']);"
   ]
  },
  {
   "cell_type": "markdown",
   "metadata": {},
   "source": [
    "## Sampling of cluster for individual data point"
   ]
  },
  {
   "cell_type": "code",
   "execution_count": null,
   "metadata": {
    "ExecuteTime": {
     "end_time": "2020-11-08T02:23:33.676330Z",
     "start_time": "2020-11-08T01:39:09.134Z"
    }
   },
   "outputs": [],
   "source": [
    "i=0\n",
    "plt.plot(tr['category'][::5, i], drawstyle='steps-mid')\n",
    "plt.axis(ymin=-.1, ymax=2.1)"
   ]
  },
  {
   "cell_type": "code",
   "execution_count": null,
   "metadata": {
    "ExecuteTime": {
     "end_time": "2020-11-08T02:23:33.677332Z",
     "start_time": "2020-11-08T01:39:20.473Z"
    }
   },
   "outputs": [],
   "source": [
    "\n",
    "def cluster_posterior(i=0):\n",
    "    print('true cluster:', v[i])\n",
    "    print('  data value:', np.round(data[i],2))\n",
    "    plt.hist(tr['category'][::5,i], bins=[-.5,.5,1.5,2.5,], rwidth=.9)\n",
    "    plt.axis(xmin=-.5, xmax=2.5)\n",
    "    plt.xticks([0,1,2])\n",
    "cluster_posterior(i)\n",
    "\n"
   ]
  },
  {
   "cell_type": "code",
   "execution_count": null,
   "metadata": {},
   "outputs": [],
   "source": []
  }
 ],
 "metadata": {
  "kernelspec": {
   "display_name": "Python 3",
   "language": "python",
   "name": "python3"
  },
  "language_info": {
   "codemirror_mode": {
    "name": "ipython",
    "version": 3
   },
   "file_extension": ".py",
   "mimetype": "text/x-python",
   "name": "python",
   "nbconvert_exporter": "python",
   "pygments_lexer": "ipython3",
   "version": "3.7.8"
  },
  "latex_envs": {
   "LaTeX_envs_menu_present": true,
   "autoclose": false,
   "autocomplete": true,
   "bibliofile": "biblio.bib",
   "cite_by": "apalike",
   "current_citInitial": 1,
   "eqLabelWithNumbers": true,
   "eqNumInitial": 1,
   "hotkeys": {
    "equation": "Ctrl-E",
    "itemize": "Ctrl-I"
   },
   "labels_anchors": false,
   "latex_user_defs": false,
   "report_style_numbering": false,
   "user_envs_cfg": false
  },
  "toc": {
   "base_numbering": 1,
   "nav_menu": {},
   "number_sections": true,
   "sideBar": true,
   "skip_h1_title": false,
   "title_cell": "Table of Contents",
   "title_sidebar": "Contents",
   "toc_cell": false,
   "toc_position": {},
   "toc_section_display": true,
   "toc_window_display": false
  }
 },
 "nbformat": 4,
 "nbformat_minor": 4
}
