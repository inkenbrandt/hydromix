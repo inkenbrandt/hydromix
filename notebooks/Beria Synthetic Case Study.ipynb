{
 "cells": [
  {
   "cell_type": "code",
   "execution_count": null,
   "metadata": {},
   "outputs": [],
   "source": []
  },
  {
   "cell_type": "markdown",
   "metadata": {},
   "source": [
    "# Import Libraries"
   ]
  },
  {
   "cell_type": "code",
   "execution_count": 3,
   "metadata": {
    "ExecuteTime": {
     "end_time": "2020-11-07T16:47:28.003596Z",
     "start_time": "2020-11-07T16:47:27.200563Z"
    }
   },
   "outputs": [],
   "source": [
    "from __future__ import division\n",
    "import numpy as np\n",
    "import pandas as pd\n",
    "import random, datetime, calendar\n",
    "import csv\n",
    "import matplotlib\n",
    "import matplotlib.pyplot as plt\n",
    "%matplotlib inline"
   ]
  },
  {
   "cell_type": "code",
   "execution_count": 4,
   "metadata": {
    "ExecuteTime": {
     "end_time": "2020-11-07T16:47:28.628577Z",
     "start_time": "2020-11-07T16:47:28.059609Z"
    }
   },
   "outputs": [],
   "source": [
    "import sys\n",
    "hydropath = \"C:/Users/Hutto/PycharmProjects/hydromix\"\n",
    "sys.path.append(hydropath)\n",
    "import hydromix\n",
    "from hydromix.mixingfunctions import *"
   ]
  },
  {
   "cell_type": "code",
   "execution_count": null,
   "metadata": {},
   "outputs": [],
   "source": []
  },
  {
   "cell_type": "markdown",
   "metadata": {},
   "source": [
    "The first case study demonstrates the ability of HydroMix to converge on the correct posterior distribution for synthetically generated data. The second case study uses a synthetic dataset of rain, snow, and groundwater isotopic ratios using a conceptual hydrologic model and compares the results of HydroMix to the actual mixing ratios assumed to generate the dataset. It then weights the source samples and evaluates the effect of weighting on the mixing ratio (case study in Sect. 3.3). In the last two case studies, HydroMix is applied to observed tracer data from an Alpine catchment in the Swiss Alps to infer source mixing ratios and an additional parameter (isotopic lapse rate)."
   ]
  },
  {
   "cell_type": "markdown",
   "metadata": {
    "ExecuteTime": {
     "end_time": "2020-11-07T15:53:29.885841Z",
     "start_time": "2020-11-07T15:53:29.874765Z"
    }
   },
   "source": [
    "# GW_Conceptual"
   ]
  },
  {
   "cell_type": "markdown",
   "metadata": {
    "ExecuteTime": {
     "end_time": "2020-11-03T23:58:24.328384Z",
     "start_time": "2020-11-03T23:58:24.314892Z"
    }
   },
   "source": [
    "* Created on: 5th October 2018 (Harsh Beria)\n",
    "* Last updated on: 22th November 2018 (Put the mixing part in another script GW_mixing_HydroMix.py)\n",
    "* Last updated on: 21st December 2018 (Plots figure for snowfall vs snowmelt isotopic ratios)\n",
    "* Creates synthetic time series of rain and snow isotopic ratio, & simulates isotopic ratio in groundwater\n",
    "* Makes boxplots of isotopic ratio of snowfall vs snowmelt\n",
    "* OutputFiles processed: OutputFiles/GW_conceptual/\n",
    "* Figures made: OutputFiles/GW_conceptual/SF_SM_boxplot.jpeg"
   ]
  },
  {
   "cell_type": "markdown",
   "metadata": {},
   "source": [
    "## Set up parameters"
   ]
  },
  {
   "cell_type": "code",
   "execution_count": 5,
   "metadata": {
    "ExecuteTime": {
     "end_time": "2020-11-07T16:47:31.502346Z",
     "start_time": "2020-11-07T16:47:31.489381Z"
    }
   },
   "outputs": [],
   "source": [
    "# Percentage of rain and snow recharging groundwater\n",
    "\n",
    "RAIN_EFF = 1. \n",
    "SNOW_EFF = 1.\n",
    "K_Q = 0.1  # For Q = KS\n",
    "DEGDAYFACT = 2.5  # Degree day factor in mm/C/day\n",
    "TMELT = 0.  # Temperature at which snowpack starts melting\n",
    "const_storage = 1000. \n",
    "init_snow = 0.  # Constant storage in groundwater which is not fed to streamflow and initial snow height in catchment\n",
    "varLSnowTemp = -1. \n",
    "varHSnowTemp = 1.  # Threshold temperature for bounding thresholding method for snowfall estimation\n",
    "\n",
    "# Parameters for generation of air temperature, precipitation and precipitation isotopic ratio\n",
    "YEARS = 100  # Number of years for which simulation is carried out\n",
    "AirTempMean = 4. \n",
    "AirTempAmpl = 8.\n",
    "PrecipEventNumb = 30\n",
    "PrecipMean = 1000.\n",
    "PrecipIsoMean = -80.\n",
    "PrecipIsoAmpl = 40.\n",
    "\n",
    "# To save records into a csv file\n",
    "FINAL_LIS = [[\"Day number\", \"Rainfall (mm)\", \"Snowfall (mm)\", \n",
    "              \"Storage (mm)\", \"Snowmelt (mm)\", \"Snowheight (mm)\",\n",
    "              \"Q from GW (mm)\",\n",
    "              \"Rain recharge (mm)\", \"Snow recharge (mm)\", \n",
    "              \"Precip isotopic ratio\", \"Snowpack isotopic ratio\",\n",
    "              \"Storage isotopic ratio\"]]\n",
    "snowMeltIso = []  # For storing snowmelt isotopic ratios\n",
    "outputpath = hydropath + \"/OutputFiles/GW_conceptual/\"\n",
    "\n",
    "# Mixing model parameters\n",
    "NUMBER_ITERATIONS = 1000\n",
    "LAMBDA_RANGE = [0., 1.]  # LAMBDA values imply the fraction of snow in groundwater\n",
    "# Number of best simulations using which lambda is computed\n",
    "BEST_SIM_PER = 5.  # In percentage\n",
    "\n",
    "LAST_YEARS = 1  # Number of years at the end of the timeseries from which isotopic data is sampled\n",
    "\n",
    "np.random.seed(15544)  # Setting up a common seed number\n",
    "random.seed(55452)  # Setting up random seed for the random function"
   ]
  },
  {
   "cell_type": "markdown",
   "metadata": {
    "ExecuteTime": {
     "end_time": "2020-11-04T00:25:18.872230Z",
     "start_time": "2020-11-04T00:25:18.837323Z"
    }
   },
   "source": [
    "## Time series of air temperature, precipitation and isotopic ratio of precipitation"
   ]
  },
  {
   "cell_type": "code",
   "execution_count": 6,
   "metadata": {
    "ExecuteTime": {
     "end_time": "2020-11-07T16:47:34.807388Z",
     "start_time": "2020-11-07T16:47:34.788440Z"
    }
   },
   "outputs": [],
   "source": [
    "# %% Time series of air temperature, precipitation and isotopic ratio of precipitation\n",
    "airTemp = air_temp_gen(mean_temp=AirTempMean, ampl_temp=AirTempAmpl, years=YEARS)\n",
    "prcp = poisson_prcp(numb_event=PrecipEventNumb, mean_prcp=PrecipMean, years=YEARS)\n",
    "prcpIso = prcp_iso(mean_iso=PrecipIsoMean, ampl_iso=PrecipIsoAmpl, years=YEARS)\n",
    "dayNumb = np.linspace(1, 365 * YEARS, 365 * YEARS)  # Day numbering"
   ]
  },
  {
   "cell_type": "markdown",
   "metadata": {},
   "source": [
    "## Running the hydrologic model"
   ]
  },
  {
   "cell_type": "code",
   "execution_count": 8,
   "metadata": {
    "ExecuteTime": {
     "end_time": "2020-11-07T16:48:52.438829Z",
     "start_time": "2020-11-07T16:48:51.923060Z"
    }
   },
   "outputs": [],
   "source": [
    "# %% Running the hydrologic model\n",
    "storage = [const_storage]  # Catchment storage\n",
    "snow_height = [init_snow]  # Snow height\n",
    "snow_melt = [0.]  # Snow melt\n",
    "storage_C = [0.]  # Isotopic ratio in catchment storage (groundwater)\n",
    "snow_C = [0.]  # Isotopic ratio in snowpack\n",
    "rain_lis = [0.]\n",
    "snow_lis = [0.]  # Daily rainfall and snowfall amount\n",
    "recharge_rain_lis = [0.]\n",
    "recharge_snow_lis = [0.]  # Daily groundwater recharge values from rainfall and snowmelt\n",
    "Q_flow = [0.]  # Daily flow into the stream from groundwater\n",
    "\n",
    "for index in range(len(dayNumb)):\n",
    "\n",
    "    # Estimating amount of rain and snow\n",
    "    if airTemp[index] <= varLSnowTemp:\n",
    "        rain_frac = 0.\n",
    "    elif airTemp[index] >= varHSnowTemp:\n",
    "        rain_frac = 1.\n",
    "    else:\n",
    "        rain_frac = (airTemp[index] - varLSnowTemp) * 1. / (varHSnowTemp - varLSnowTemp)\n",
    "    rain_mag = rain_frac * prcp[index] * 1.\n",
    "    snow_mag = (1 - rain_frac) * prcp[index] * 1.\n",
    "    rain_lis.append(rain_mag)\n",
    "    snow_lis.append(snow_mag)\n",
    "\n",
    "    # Computing snow height and snowmelt volume\n",
    "    if airTemp[index] >= TMELT:\n",
    "        melt = DEGDAYFACT * (airTemp[index] - TMELT)\n",
    "        if melt > snow_height[-1]:  # Applying limit of available storage\n",
    "            melt = snow_height[-1] + snow_lis[-1]\n",
    "    else:\n",
    "        melt = 0.\n",
    "    snow_height.append(snow_height[-1] + snow_lis[-1] - melt)\n",
    "    snow_melt.append(melt)\n",
    "\n",
    "    # Isotopic ratio of snowpack\n",
    "    if snow_height[-1] == 0.:  # No more snowpack left\n",
    "        newC = 0.\n",
    "    else:\n",
    "        newC = (snow_height[-2] * snow_C[-1] + snow_lis[-1] * prcpIso[index] - melt * snow_C[-1]) * 1. / (\n",
    "                snow_height[-2] + snow_lis[-1] - melt)\n",
    "        snowMeltIso.append(newC)\n",
    "    snow_C.append(newC)\n",
    "\n",
    "    # Computing groundwater recharge from rain and snow\n",
    "    recharge_rain, recharge_snow = rain_lis[-1] * RAIN_EFF * 1., snow_melt[-1] * SNOW_EFF * 1.\n",
    "    recharge_rain_lis.append(recharge_rain)\n",
    "    recharge_snow_lis.append(recharge_snow)\n",
    "\n",
    "    recharge = recharge_rain + recharge_snow\n",
    "    storage.append(storage[-1] + recharge)\n",
    "    Q = K_Q * (storage[-1] - const_storage)  # Flow into streamflow from groundwater\n",
    "    storage[-1] -= Q  # Updating groundwater volume\n",
    "    Q_flow.append(Q)\n",
    "\n",
    "    # Isotopic ratio of groundwater storage\n",
    "    if round(storage[-1], 2) == 0.:\n",
    "        newC = 0.\n",
    "    else:\n",
    "        newC = (storage[-2] * storage_C[-1] + rain_lis[-1] * RAIN_EFF * prcpIso[index] + snow_melt[-1] * SNOW_EFF *\n",
    "                snow_C[-2] - Q * storage_C[-1]) * 1. / (\n",
    "                       storage[-2] + rain_lis[-1] * RAIN_EFF + snow_melt[-1] * SNOW_EFF - Q)\n",
    "    storage_C.append(newC)\n",
    "\n",
    "    FINAL_LIS.append(\n",
    "        [dayNumb[index], rain_lis[-1], snow_lis[-1], storage[-1], snow_melt[-1], snow_height[-1], Q_flow[-1],\n",
    "         recharge_rain_lis[-1], recharge_snow_lis[-1], prcpIso[index], snow_C[-1], storage_C[-1]])\n"
   ]
  },
  {
   "cell_type": "markdown",
   "metadata": {
    "ExecuteTime": {
     "end_time": "2020-11-04T00:25:20.771705Z",
     "start_time": "2020-11-04T00:25:20.240112Z"
    }
   },
   "source": [
    "## Saving the simulated data into a csv file"
   ]
  },
  {
   "cell_type": "code",
   "execution_count": 9,
   "metadata": {
    "ExecuteTime": {
     "end_time": "2020-11-07T16:48:54.139303Z",
     "start_time": "2020-11-07T16:48:53.508868Z"
    }
   },
   "outputs": [
    {
     "name": "stdout",
     "output_type": "stream",
     "text": [
      "C:/Users/Hutto/PycharmProjects/hydromix/OutputFiles/GW_conceptual/RAIN_1.0_SNOW_1.0.csv\n"
     ]
    }
   ],
   "source": [
    "path = f\"{outputpath}RAIN_{RAIN_EFF:0.1f}_SNOW_{SNOW_EFF:0.1f}.csv\"\n",
    "csv_writer(FINAL_LIS, path)\n",
    "print(path)"
   ]
  },
  {
   "cell_type": "markdown",
   "metadata": {},
   "source": [
    "## Plotting boxplots of snowfall and snowmelt"
   ]
  },
  {
   "cell_type": "code",
   "execution_count": null,
   "metadata": {},
   "outputs": [],
   "source": []
  },
  {
   "cell_type": "code",
   "execution_count": 10,
   "metadata": {
    "ExecuteTime": {
     "end_time": "2020-11-07T16:48:57.846529Z",
     "start_time": "2020-11-07T16:48:57.282516Z"
    }
   },
   "outputs": [
    {
     "name": "stdout",
     "output_type": "stream",
     "text": [
      "C:/Users/Hutto/PycharmProjects/hydromix/OutputFiles/GW_conceptual/Figures/SF_SM_boxplot.jpeg\n"
     ]
    },
    {
     "data": {
      "image/png": "[encoded data removed]",
      "text/plain": [
       "<Figure size 288x432 with 1 Axes>"
      ]
     },
     "metadata": {
      "needs_background": "light"
     },
     "output_type": "display_data"
    }
   ],
   "source": [
    "snowFallIso = prcpIso[(prcp > 0.) & (airTemp < (0.5 * (varLSnowTemp + varHSnowTemp)))]  # Snowfall isotopic ratios\n",
    "\n",
    "matplotlib.rc('xtick', labelsize=14)\n",
    "plt.figure(figsize=(4, 6))\n",
    "plt.boxplot([snowFallIso, snowMeltIso], labels=[\"Snowfall\", \"Snowmelt\"])\n",
    "plt.ylabel(r'$\\delta^{2}$' + 'H ' + u'\\u2030' + ' (VSMOW)', fontsize=14)\n",
    "plt.tight_layout()\n",
    "path = outputpath + \"Figures/SF_SM_boxplot.jpeg\"\n",
    "plt.savefig(path, dpi=300)\n",
    "\n",
    "print(path)"
   ]
  },
  {
   "cell_type": "markdown",
   "metadata": {
    "ExecuteTime": {
     "end_time": "2020-11-07T23:54:02.503955Z",
     "start_time": "2020-11-07T23:54:02.500963Z"
    }
   },
   "source": [
    "# GWisoPlot"
   ]
  },
  {
   "cell_type": "code",
   "execution_count": null,
   "metadata": {},
   "outputs": [],
   "source": [
    "\"\"\"\n",
    "Created on: 3rd December 2018 (Harsh Beria)\n",
    "Last updated on\n",
    "What it does?\n",
    "\n",
    "Used for not so important plots\n",
    "\n",
    "SourceFiles used:\n",
    "OutputFiles/GW_conceptual/\n",
    "\n",
    "OutputFiles processed: NONE\n",
    "Figures made:\n",
    "OutputFiles/GW_conceptual/Figures/GW_iso_0.3_rain_0.6_snow.jpeg\n",
    "\n",
    "\"\"\"\n",
    "\n",
    "# Main variables\n",
    "\n",
    "RAIN_EFF, SNOW_EFF = 0.3, 0.6\n",
    "PATH = hydropath + \"/OutputFiles/GW_conceptual/\"\n",
    "\n",
    "# %% Plotting isotopic ratio in groundwater for the entire simulation period\n",
    "\n",
    "filename = PATH + \"RAIN_\" + str(RAIN_EFF) + \"_SNOW_\" + str(SNOW_EFF) + \".csv\"\n",
    "df = pd.read_csv(filename)\n",
    "GW_iso = df[\"Storage isotopic ratio\"].values\n",
    "\n",
    "fig, ax = plt.subplots(1)\n",
    "ax.plot(GW_iso)\n",
    "\n",
    "# To display yticks in multiple of 10 years\n",
    "ax.set_xticks(np.arange(0, 365*100+1, 365*10))\n",
    "ax.set_xticklabels([year for year in range(0, 101, 10)])\n",
    "\n",
    "# Setting the labels\n",
    "ax.set_ylabel(\"Groundwater \" + r'$\\delta^{2}$H' + u' \\u2030 ', fontsize=14)\n",
    "ax.set_xlabel(\"Year number\", fontsize=14)\n",
    "\n",
    "plt.tight_layout()\n",
    "plt.grid(linestyle='dotted')\n",
    "figOutput = PATH + \"Figures/GW_iso_\" + str(RAIN_EFF) + \"_rain_\" + str(SNOW_EFF) + \"_snow.jpeg\"\n",
    "plt.savefig(figOutput, dpi=300)\n",
    "plt.close()\n",
    "print(figOutput)\n",
    "\n"
   ]
  },
  {
   "cell_type": "code",
   "execution_count": null,
   "metadata": {},
   "outputs": [],
   "source": []
  },
  {
   "cell_type": "markdown",
   "metadata": {},
   "source": [
    "# GW_mixing_HydroMix"
   ]
  },
  {
   "cell_type": "markdown",
   "metadata": {},
   "source": [
    "* This has been explained in Section 3.2 of the manuscript\n",
    "* Model run with a given rain and snow recharge efficiency can be made with the script: GW_conceptual.py. This script was run 100 times by varying rain and snow efficiency between 0.1 to 1 in steps of 0.1 and the results are saved in OutputFiles/GW_conceptual/ folder\n",
    "* An importance sampling and a MCMC sampler has been implemented to solve the mixing problem\n"
   ]
  },
  {
   "cell_type": "markdown",
   "metadata": {},
   "source": [
    "In this case study, we build a conceptual hydrologic model wherein groundwater is assumed to be recharged directly from rainfall and snowmelt. Stable isotopes of deuterium (δ2H) are used to see how the isotopic ratio in groundwater evolves under different assumptions of rain and snow recharge efficiencies.\n",
    "\n",
    "Synthetic time series are generated for precipitation, the isotopic ratio in precipitation, and air temperature at a daily time step. For generating the precipitation time series, the time between two successive precipitation events is assumed to be a Poisson process with the precipitation intensity following an exponential distribution (Botter et al., 2007; Rodriguez-Iturbe et al., 1999). Time series of air temperature and of isotopic ratios in precipitation are obtained by generating an uncorrelated Gaussian process with the mean following a sine function (to emulate a seasonal signal) and with constant variance (Allen et al., 2018; Parton and Logan, 1981). The separation of precipitation into rainfall (Pr) and snowfall (Ps) is done based on a temperature threshold approach (Harpold et al., 2017a), whereby the fraction of rainfall fr(t) at time step t is computed as a function of air temperature T(t)."
   ]
  },
  {
   "cell_type": "code",
   "execution_count": null,
   "metadata": {},
   "outputs": [],
   "source": []
  },
  {
   "cell_type": "code",
   "execution_count": null,
   "metadata": {},
   "outputs": [],
   "source": [
    "\"\"\"\n",
    "Created on: 21st November 2018 (Harsh Beria)\n",
    "Last updated on\n",
    "What it does?\n",
    "\n",
    "Runs HydroMix to estimate snow ratio in groundwater with the isotopic ratios generated by the script GW_conceptual.py\n",
    "The main feature is that this script can use different time periods during the computation of snow ratio\n",
    "\n",
    "SourceFiles used:\n",
    "OutputFiles/GW_conceptual/\n",
    "\n",
    "OutputFiles processed\n",
    "Figures made\n",
    "\"\"\""
   ]
  },
  {
   "cell_type": "markdown",
   "metadata": {},
   "source": [
    "## Set up Mixing Model Parameters"
   ]
  },
  {
   "cell_type": "code",
   "execution_count": null,
   "metadata": {},
   "outputs": [],
   "source": [
    "\n",
    "# Main variables\n",
    "\n",
    "rain_eff, snow_eff = 0.1, 0.1\n",
    "\n",
    "# Mixing model parameters\n",
    "number_iterations = 500\n",
    "lambda_range = [0., 1.]  # LAMBDA values imply the fraction of snow in groundwater\n",
    "# Number of best simulations using which lambda is computed\n",
    "best_sim_per = 5.  # In percentage\n",
    "\n",
    "years = 80 # Number of years for which simulation was carried out\n",
    "last_years = 2  # Number of years at the end of the timeseries from which isotopic data is sampled\n",
    "\n",
    "# Options are \"Snowfall/Snowmelt\", tells us which isotopic ratio is to be used to find groundwater recharge using HydroMix\n",
    "which_snow = \"Snowfall\"\n",
    "weighted = 0  # 0 => non-weighted mixing, 1 => weighted mixing\n",
    "\n",
    "PATH = hydropath + \"/OutputFiles/GW_conceptual/\"\n",
    "outputpath = hydropath + f\"/OutputFiles/GW_conceptual/Rainfall_{which_snow:0.1f}_mixing_last_{last_years:0.0f}Yr\"\n",
    "if weighted:\n",
    "    outputpath += \"_weighted/\"\n",
    "else:\n",
    "    outputpath += \"/\"\n",
    "\n",
    "#################################################################################################################################\n",
    "# %% Initializing the seeds\n",
    "np.random.seed(15544)  # Setting up a common seed number for numpy function\n",
    "random.seed(55452)  # Setting up random seed for the random function\n"
   ]
  },
  {
   "cell_type": "markdown",
   "metadata": {
    "ExecuteTime": {
     "end_time": "2020-11-07T18:35:27.629498Z",
     "start_time": "2020-11-07T18:35:27.614455Z"
    }
   },
   "source": [
    "## Mixing for all the proportions of rain and snow efficiency in recharging groundwater"
   ]
  },
  {
   "cell_type": "code",
   "execution_count": null,
   "metadata": {},
   "outputs": [],
   "source": [
    "\n",
    "\n",
    "\n",
    "while rain_eff <= 1.:\n",
    "    snow_eff = 0.1\n",
    "    while snow_eff <= 1.:\n",
    "\n",
    "        filename = PATH + f\"RAIN_{rain_eff:0.1f}_SNOW_{snow_eff:0.1f}.csv\"\n",
    "        df = pd.read_csv(filename)\n",
    "\n",
    "        # Computing the proportion of groundwater recharged from snow in long term\n",
    "        recharge_rain_amount = sum(df[\"Rain recharge (mm)\"].values)\n",
    "        recharge_snow_amount = sum(df[\"Snow recharge (mm)\"].values)\n",
    "        actual_snow_ratio_long_term = recharge_snow_amount / (recharge_rain_amount + recharge_snow_amount)\n",
    "\n",
    "        # Computing the proportion of groundwater recharged from snow in short term (corresponding to the isotopic data period)\n",
    "        recharge_rain_amount = sum(df[\"Rain recharge (mm)\"].values[(years - last_years) * 365:])\n",
    "        recharge_snow_amount = sum(df[\"Snow recharge (mm)\"].values[(years - last_years) * 365:])\n",
    "        actual_snow_ratio_short_term = recharge_snow_amount / (recharge_rain_amount + recharge_snow_amount)\n",
    "\n",
    "        # Building list containing isotopic ratio of rain, snowfall and groundwater\n",
    "        random_rain_iso, random_snow_iso, random_gw_iso = [], [], []\n",
    "        random_rain_amount, random_snow_amount = [], []  # Amount of rain and snowmelt corresponding to the isotopic ratio\n",
    "        for year_index in range(years - last_years, years):\n",
    "            for month in range(1, 13):\n",
    "\n",
    "                # Subsetting the dataframe\n",
    "                startDayNumb = datetime.datetime(2001, month, 1).timetuple().tm_yday\n",
    "                start_index = year_index * 365 + startDayNumb\n",
    "                end_index = start_index + calendar.monthrange(2001, month)[1]\n",
    "\n",
    "                # Rainfall amount and isotopic ratio\n",
    "                rain_amount = df[\"Rainfall (mm)\"].values[start_index: end_index + 1]  # Amount of rainfall\n",
    "                rain_isotopic_ratio = df[\"Precip isotopic ratio\"].values[\n",
    "                                      start_index: end_index + 1]  # Isotopic ratio of rainfall\n",
    "\n",
    "                # Amount of snowfall or snowmelt\n",
    "                if (which_snow == \"Snowfall\"):\n",
    "                    snow_amount = df[\"Snowfall (mm)\"].values[start_index: end_index + 1]  # Amount of snowfall\n",
    "                    snow_isotopic_ratio = df[\"Precip isotopic ratio\"].values[\n",
    "                                          start_index: end_index + 1]  # Snowfall isotopic ratio\n",
    "                elif (which_snow == \"Snowmelt\"):\n",
    "                    snow_amount = df[\"Snowmelt (mm)\"].values[start_index: end_index + 1]  # Amount of snowmelt\n",
    "                    # Shifted up by 1 row because the current snowmelt isotopic ratio is the snowpack isotopic ratio at the last timestep\n",
    "                    snow_isotopic_ratio = df[\"Snowpack isotopic ratio\"].values[\n",
    "                                          start_index - 1: end_index]  # Snowmelt isotopic ratio\n",
    "\n",
    "                storage_isotopic_ratio = df[\"Storage isotopic ratio\"].values[\n",
    "                                         start_index: end_index + 1]  # Groundwater isotopic ratio\n",
    "\n",
    "                # Only considering days when it rained or [snowed or the snow melted]\n",
    "                rain_index = np.nonzero(rain_amount)[0]  # Day when there was rain\n",
    "                snow_index = np.nonzero(snow_amount)[0]  # Day when there was snowfall or snowmelt\n",
    "\n",
    "                # Isotopic ratio of rainfall and snowfall/snowmelt\n",
    "                rain_Iso, snow_Iso = rain_isotopic_ratio[rain_index], snow_isotopic_ratio[snow_index]\n",
    "                # Magnitude of rainfall and snowfall/snowmelt\n",
    "                temp_rain_amount, temp_snow_amount = rain_amount[rain_index], snow_amount[snow_index]\n",
    "\n",
    "                # Choosing values of rain and snowfall/snowmelt isotopic ratio to be used in HydroMix\n",
    "                if (len(rain_Iso) != 0):\n",
    "                    #\t\t\t\t\t# Randomly choose one monthly rainfall sample\n",
    "                    #\t\t\t\t\trandom_rain_iso.append(random.sample(rain_Iso, 1)[0])\n",
    "                    #\t\t\t\t\trandom_rain_amount.append(random.sample(temp_rain_amount)[0])\n",
    "\n",
    "                    # Choose all the rainfall samples\n",
    "                    random_rain_iso.extend(rain_Iso)\n",
    "                    random_rain_amount.extend(temp_rain_amount)\n",
    "\n",
    "                if (len(snow_Iso) != 0):\n",
    "                    #\t\t\t\t\t# Randomly choose one monthly snowfall/snowmelt sample\n",
    "                    #\t\t\t\t\trandom_snow_iso.append(random.sample(snow_Iso, 1)[0])\n",
    "                    #\t\t\t\t\trandom_snow_amount.append(random.sample(temp_snow_amount, 1)[0])\n",
    "\n",
    "                    # Choose all the snowfall/snowmelt samples\n",
    "                    random_snow_iso.extend(snow_Iso)\n",
    "                    random_snow_amount.extend(temp_snow_amount)\n",
    "\n",
    "                # Randomly choose one monthly groundwater sample\n",
    "                random_gw_iso.append(random.sample(storage_isotopic_ratio, 1)[0])\n",
    "\n",
    "        # Defining weights for rain and snowfall/snowmelt samples\n",
    "        random_rain_weight = np.array([i * j for i, j in zip(random_rain_iso, random_rain_amount)]) / sum(\n",
    "            random_rain_amount + random_snow_amount)\n",
    "        random_snow_weight = np.array([i * j for i, j in zip(random_snow_iso, random_snow_amount)]) / sum(\n",
    "            random_rain_amount + random_snow_amount)\n",
    "\n",
    "        # Running the mixing model\n",
    "        # Initializing mixing model parameters\n",
    "        LAMBDA_params = np.random.uniform(lambda_range[0], lambda_range[1], number_iterations)\n",
    "        # Computing the variance of error from groundwater samples\n",
    "        LIKELIHOOD_std_params_H2 = np.full(number_iterations, np.std(random_gw_iso, ddof=1))\n",
    "        if weighted:  # Running HydroMix taking into account weights\n",
    "            likelihood_h2, lambda_h2, error_std_h2 = hydro_mix_weighted(random_snow_iso, random_snow_weight,\n",
    "                                                                        random_rain_iso, random_rain_weight,\n",
    "                                                                        random_gw_iso, LAMBDA_params,\n",
    "                                                                        LIKELIHOOD_std_params_H2, number_iterations)\n",
    "        else:\n",
    "            # Running HydroMix without taking into account weights\n",
    "            likelihood_h2, lambda_h2, error_std_h2 = hydro_mix(random_snow_iso, random_rain_iso, random_gw_iso,\n",
    "                                                               LAMBDA_params, LIKELIHOOD_std_params_H2, number_iterations)\n",
    "\n",
    "        # Writing in a csv file\n",
    "        final_lis = [[\"Snow ratio\", \"Log likelihood\", \"Error std\"]]\n",
    "        path = outputpath + \"results_RAIN_\" + str(rain_eff) + \"_SNOW_\" + str(snow_eff) + \".csv\"\n",
    "        for index in range(0, len(likelihood_h2)):\n",
    "            final_lis.append([round(lambda_h2[index], 2), round(likelihood_h2[index], 2), round(error_std_h2[index], 2)])\n",
    "        print(path)\n",
    "\n",
    "        # Creating and saving figure\n",
    "        plt.figure(figsize=(10, 6))\n",
    "        plt.hist(lambda_h2[0:int(0.01 * best_sim_per * number_iterations)], color='blue', alpha=0.4,\n",
    "                 label=r'$\\delta^{2}$H' + u' \\u2030 (VSMOW)', normed='True')\n",
    "        plt.axvline(x=actual_snow_ratio_long_term, label='Groundwater recharged from snowmelt (long term)', color='red')\n",
    "        plt.axvline(x=actual_snow_ratio_short_term, label='Groundwater recharged from snowmelt (short term)',\n",
    "                    color='black')\n",
    "        plt.xlim(0., 1.)\n",
    "        plt.grid(linestyle='dotted')\n",
    "        plt.xlabel(\"Fraction of snow in groundwater\", fontsize=14)\n",
    "        plt.ylabel(\"Normalised frequency\", fontsize=14)\n",
    "        plt.legend()\n",
    "        plt.tight_layout()\n",
    "        path = outputpath + f\"Figures/posterior_RAIN_{rain_eff:0.1f}_SNOW_{snow_eff:0.1f}.jpeg\"\n",
    "        plt.savefig(path, dpi=300)\n",
    "        plt.close()\n",
    "        print(path)\n",
    "\n",
    "        del df\n",
    "\n",
    "        snow_eff += 0.1\n",
    "\n",
    "    rain_eff += 0.1\n"
   ]
  },
  {
   "cell_type": "code",
   "execution_count": null,
   "metadata": {},
   "outputs": [],
   "source": []
  },
  {
   "cell_type": "markdown",
   "metadata": {},
   "source": [
    "# GW_mixing_HydroMix_MCMC"
   ]
  },
  {
   "cell_type": "code",
   "execution_count": null,
   "metadata": {},
   "outputs": [],
   "source": [
    "\"\"\"\n",
    "Created on: 18th July 2019 (Harsh Beria)\n",
    "Last updated on\n",
    "What it does?\n",
    "\n",
    "Runs a MCMC implementation of HydroMix to estimate snow ratio in groundwater with the isotopic ratios generated by the script\n",
    "GW_conceptual.py\n",
    "The main feature is that this script can use different time periods during the computation of snow ratio\n",
    "\n",
    "SourceFiles used:\n",
    "OutputFiles/GW_conceptual/\n",
    "\n",
    "OutputFiles processed:\n",
    "Figures made:\n",
    "\"\"\""
   ]
  },
  {
   "cell_type": "markdown",
   "metadata": {},
   "source": [
    "## Set up MCMC Mixing Model Parameters"
   ]
  },
  {
   "cell_type": "code",
   "execution_count": null,
   "metadata": {},
   "outputs": [],
   "source": [
    "# Main variables\n",
    "\n",
    "rain_eff, snow_eff = 0.1, 0.1\n",
    "\n",
    "# Mixing model parameters\n",
    "NUMBER_ITERATIONS = 3000\n",
    "LAMBDA_RANGE = [0., 1.]  # LAMBDA values imply the fraction of snow in groundwater\n",
    "# Number of best simulations using which lambda is computed\n",
    "BEST_SIM_PER = 5.  # In percentage\n",
    "\n",
    "YEARS = 100  # Number of years for which simulation was carried out\n",
    "LAST_YEARS = 2  # Number of years at the end of the timeseries from which isotopic data is sampled\n",
    "\n",
    "# Options are \"Snowfall/Snowmelt\", tells us which isotopic ratio is to be used to find groundwater recharge using HydroMix\n",
    "which_snow = \"Snowmelt\"\n",
    "WEIGHTED = 1  # 0 => non-weighted mixing, 1 => weighted mixing\n",
    "\n",
    "JUMP_PERCENTAGE = 5  # In percentage (JUMP_PERCENTAGE/2 in both directions)\n",
    "\n",
    "PATH = \"../../../Downloads/Zenodo_dataset/Zenodo_dataset/OutputFiles/GW_conceptual/\"\n",
    "OUTPUTPATH = \"OutputFiles/GW_conceptual/Rainfall_\" + which_snow + \"_mixing_last_\" + str(LAST_YEARS) + \"Yr\"\n",
    "if (WEIGHTED):\n",
    "    OUTPUTPATH += \"_weighted_MCMC/\"\n",
    "else:\n",
    "    OUTPUTPATH += \"_MCMC/\"\n",
    "\n",
    "#################################################################################################################################\n",
    "# %% Initializing the seeds\n",
    "np.random.seed(15544)  # Setting up a common seed number for numpy function\n",
    "random.seed(55452)  # Setting up random seed for the random function"
   ]
  },
  {
   "cell_type": "code",
   "execution_count": null,
   "metadata": {},
   "outputs": [],
   "source": [
    "# %% Mixing for all the proportions of rain and snow efficiency in recharging groundwater\n",
    "\n",
    "while rain_eff <= 1.:\n",
    "    snow_eff = 0.1\n",
    "    while (snow_eff <= 1.):\n",
    "\n",
    "        filename = PATH + \"RAIN_\" + str(rain_eff) + \"_SNOW_\" + str(snow_eff) + \".csv\"\n",
    "        df = pd.read_csv(filename)\n",
    "\n",
    "        # Computing the proportion of groundwater recharged from snow in long term\n",
    "        recharge_rain_amount = sum(df[\"Rain recharge (mm)\"].values)\n",
    "        recharge_snow_amount = sum(df[\"Snow recharge (mm)\"].values)\n",
    "        actual_snow_ratio_long_term = recharge_snow_amount / (recharge_rain_amount + recharge_snow_amount)\n",
    "\n",
    "        # Computing the proportion of groundwater recharged from snow in short term (corresponding to the isotopic data period)\n",
    "        recharge_rain_amount = sum(df[\"Rain recharge (mm)\"].values[(YEARS - LAST_YEARS) * 365:])\n",
    "        recharge_snow_amount = sum(df[\"Snow recharge (mm)\"].values[(YEARS - LAST_YEARS) * 365:])\n",
    "        actual_snow_ratio_short_term = recharge_snow_amount / (recharge_rain_amount + recharge_snow_amount)\n",
    "\n",
    "        # Building list containing isotopic ratio of rain, snowfall and groundwater\n",
    "        random_rain_iso, random_snow_iso, random_gw_iso = [], [], []\n",
    "        random_rain_amount, random_snow_amount = [], []  # Amount of rain and snowmelt corresponding to the isotopic ratio\n",
    "        for year_index in range(YEARS - LAST_YEARS, YEARS):\n",
    "            for month in range(1, 13):\n",
    "\n",
    "                # Subsetting the dataframe\n",
    "                startDayNumb = datetime.datetime(2001, month, 1).timetuple().tm_yday\n",
    "                start_index = year_index * 365 + startDayNumb\n",
    "                end_index = start_index + calendar.monthrange(2001, month)[1]\n",
    "\n",
    "                # Rainfall amount and isotopic ratio\n",
    "                rain_amount = df[\"Rainfall (mm)\"].values[start_index: end_index + 1]  # Amount of rainfall\n",
    "                rain_isotopic_ratio = df[\"Precip isotopic ratio\"].values[\n",
    "                                      start_index: end_index + 1]  # Isotopic ratio of rainfall\n",
    "\n",
    "                # Amount of snowfall or snowmelt\n",
    "                if which_snow == \"Snowfall\":\n",
    "                    snow_amount = df[\"Snowfall (mm)\"].values[start_index: end_index + 1]  # Amount of snowfall\n",
    "                    snow_isotopic_ratio = df[\"Precip isotopic ratio\"].values[\n",
    "                                          start_index: end_index + 1]  # Snowfall isotopic ratio\n",
    "                elif (which_snow == \"Snowmelt\"):\n",
    "                    snow_amount = df[\"Snowmelt (mm)\"].values[start_index: end_index + 1]  # Amount of snowmelt\n",
    "                    # Shifted up by 1 row because the current snowmelt isotopic ratio is the snowpack isotopic ratio at the last timestep\n",
    "                    snow_isotopic_ratio = df[\"Snowpack isotopic ratio\"].values[\n",
    "                                          start_index - 1: end_index]  # Snowmelt isotopic ratio\n",
    "\n",
    "                storage_isotopic_ratio = df[\"Storage isotopic ratio\"].values[\n",
    "                                         start_index: end_index + 1]  # Groundwater isotopic ratio\n",
    "\n",
    "                # Only considering days when it rained or [snowed or the snow melted]\n",
    "                rain_index = np.nonzero(rain_amount)[0]  # Day when there was rain\n",
    "                snow_index = np.nonzero(snow_amount)[0]  # Day when there was snowfall or snowmelt\n",
    "\n",
    "                # Isotopic ratio of rainfall and snowfall/snowmelt\n",
    "                rain_Iso, snow_Iso = rain_isotopic_ratio[rain_index], snow_isotopic_ratio[snow_index]\n",
    "                # Magnitude of rainfall and snowfall/snowmelt\n",
    "                temp_rain_amount, temp_snow_amount = rain_amount[rain_index], snow_amount[snow_index]\n",
    "\n",
    "                # Choosing values of rain and snowfall/snowmelt isotopic ratio to be used in HydroMix\n",
    "                if (len(rain_Iso) != 0):\n",
    "                    #\t\t\t\t\t# Randomly choose one monthly rainfall sample\n",
    "                    #\t\t\t\t\trandom_rain_iso.append(random.sample(rain_Iso, 1)[0])\n",
    "                    #\t\t\t\t\trandom_rain_amount.append(random.sample(temp_rain_amount)[0])\n",
    "\n",
    "                    # Choose all the rainfall samples\n",
    "                    random_rain_iso.extend(rain_Iso)\n",
    "                    random_rain_amount.extend(temp_rain_amount)\n",
    "\n",
    "                if (len(snow_Iso) != 0):\n",
    "                    #\t\t\t\t\t# Randomly choose one monthly snowfall/snowmelt sample\n",
    "                    #\t\t\t\t\trandom_snow_iso.append(random.sample(snow_Iso, 1)[0])\n",
    "                    #\t\t\t\t\trandom_snow_amount.append(random.sample(temp_snow_amount, 1)[0])\n",
    "\n",
    "                    # Choose all the snowfall/snowmelt samples\n",
    "                    random_snow_iso.extend(snow_Iso)\n",
    "                    random_snow_amount.extend(temp_snow_amount)\n",
    "\n",
    "                # Randomly choose one monthly groundwater sample\n",
    "                random_gw_iso.append(random.sample(storage_isotopic_ratio, 1)[0])\n",
    "\n",
    "        # Defining weights for rain and snowfall/snowmelt samples\n",
    "        random_rain_weight = np.array([i * j for i, j in zip(random_rain_iso, random_rain_amount)]) / sum(\n",
    "            random_rain_amount + random_snow_amount)\n",
    "        random_snow_weight = np.array([i * j for i, j in zip(random_snow_iso, random_snow_amount)]) / sum(\n",
    "            random_rain_amount + random_snow_amount)\n",
    "\n",
    "        # Running the mixing model\n",
    "\n",
    "        # List of initial parameter values\n",
    "        initParam = [np.random.uniform(LAMBDA_RANGE[0], LAMBDA_RANGE[1])]\n",
    "\n",
    "        # Lower and upper limits of the model parameters\n",
    "        paramLimit = [LAMBDA_RANGE]\n",
    "\n",
    "        # Standard deviation of H2 in groundwater\n",
    "        H2_std = np.std(random_gw_iso, ddof=1)\n",
    "\n",
    "        if (WEIGHTED):  # Running HydroMix taking into account weights\n",
    "            LOGLIKELIHOOD_H2, PARAM_H2 = hydro_mix_weighted_mcmc(random_snow_iso, random_snow_weight, random_rain_iso,\n",
    "                                                                 random_rain_weight,\n",
    "                                                                 random_gw_iso, H2_std, initParam, paramLimit,\n",
    "                                                                 NUMBER_ITERATIONS, JUMP_PERCENTAGE)\n",
    "            snowRatioLis_H2 = [i[0] for i in PARAM_H2]\n",
    "        else:  # Running HydroMix without taking into account weights\n",
    "            LOGLIKELIHOOD_H2, PARAM_H2 = hydro_mix_mcmc(random_snow_iso, random_rain_iso, random_gw_iso, H2_std,\n",
    "                                                        initParam,\n",
    "                                                        paramLimit, NUMBER_ITERATIONS, JUMP_PERCENTAGE)\n",
    "            snowRatioLis_H2 = [i[0] for i in PARAM_H2]\n",
    "\n",
    "        # Writing in a csv file\n",
    "        final_lis = [[\"Snow ratio\", \"Log likelihood\", \"Error std\"]]\n",
    "        path = OUTPUTPATH + \"results_RAIN_\" + str(rain_eff) + \"_SNOW_\" + str(snow_eff) + \".csv\"\n",
    "        for index in range(0, len(LOGLIKELIHOOD_H2)):\n",
    "            final_lis.append([round(snowRatioLis_H2[index], 4), round(LOGLIKELIHOOD_H2[index], 4), round(H2_std, 4)])\n",
    "\n",
    "\n",
    "\n",
    "\n",
    "        del df\n",
    "\n",
    "        snow_eff += 0.1\n",
    "\n",
    "    rain_eff += 0.1\n",
    "\n",
    "#################################################################################################################################\n"
   ]
  },
  {
   "cell_type": "markdown",
   "metadata": {},
   "source": [
    "# synthetic_mixing_MCMC"
   ]
  },
  {
   "cell_type": "markdown",
   "metadata": {},
   "source": [
    "* Created on 27th September 2019 by Harsh Beria\n",
    "* A mixing model to estimate source contribution in a two-source linear system using an average likelihood approach.\n",
    "Error in estimation is assumed to be normally distributed with zero mean and constant standard deviation (which is computed from data)\n",
    "* Model parameters:\n",
    "  * number_iterations => Number of model runs\n",
    "  * lambda_params => Fraction of source 1 in the mixture\n",
    "  * LIKELIHOOD_std_params => Fixed value\n",
    "* OutputFiles processed: OutputFiles/Synthetic_exp/\n"
   ]
  },
  {
   "cell_type": "markdown",
   "metadata": {},
   "source": [
    "\n",
    "* Generates a given number of samples (specified by user) and generates samples for two random variables with distinct means and variances (specified by user). Generates sample from the mixture distribution for a given mixing ratio (specified by user) and then uses the mixture and source samples to infer back the mixing ratio\n",
    "* Example runs for 100 samples and standard deviations of 0.5 and 5 are stored in\n",
    "        OutputFiles/Synthetic_exp/Normal_distribution_0.5Std_1000iter_100sample/\n",
    "        OutputFiles/Synthetic_exp/Normal_distribution_5Std_1000iter_100sample/\n"
   ]
  },
  {
   "cell_type": "code",
   "execution_count": null,
   "metadata": {},
   "outputs": [],
   "source": [
    "# HydroMix model parameters (in the given range (inclusive))\n",
    "NUMBER_ITERATIONS = 1000\n",
    "LAMBDA_RANGE = [0., 1.]\n",
    "JUMP_PERCENTAGE = 5.  # In percentage (JUMP_PERCENTAGE/2 in both directions)\n",
    "\n",
    "# Parameters to generate synthetic time series\n",
    "# Lower and upper bounds of rain and snow isotopic ratio (in H2)\n",
    "N_SAMPLES = 100  # Number of samples\n",
    "S1_MEAN, S1_STD, N_S1_SAMPLES = 10., .5, N_SAMPLES\n",
    "S2_MEAN, S2_STD, N_S2_SAMPLES = 20., .5, N_SAMPLES\n",
    "N_MIX_SAMPLES = N_SAMPLES\n",
    "\n",
    "OUTPUTPATH = \"OutputFiles/Synthetic_exp/Normal_distribution_0.5Std_\" + str(NUMBER_ITERATIONS) + \"iter_\"\n",
    "OUTPUTPATH += str(N_SAMPLES) + \"sample/\"\n",
    "\n",
    "# %% Setting up a random seed\n",
    "np.random.seed(1)  # Setting up a common seed number\n",
    "\n",
    "# %% Mixing for lambda ranging from 0.05 to 0.95\n",
    "LAMBDA = 0.05  # Ratio of source 1 in the mixture"
   ]
  },
  {
   "cell_type": "code",
   "execution_count": null,
   "metadata": {},
   "outputs": [],
   "source": [
    "scatterplot_orig_lambda, scatterplot_sim_lambda = [], []  \n",
    "# For displaying in the scatterplot\n",
    "\n",
    "while (LAMBDA <= 0.96):\n",
    "\n",
    "    # Computing GW mean and variance\n",
    "    MIX_MEAN = LAMBDA * S1_MEAN + (1 - LAMBDA) * S2_MEAN\n",
    "    MIX_STD = np.sqrt((LAMBDA * S1_STD)**2 + ((1 - LAMBDA) * S2_STD)**2)\n",
    "\n",
    "    # Generating synthetic values for the sources and the mixture\n",
    "    S1_val = np.random.normal(S1_MEAN, S1_STD, N_S1_SAMPLES)\n",
    "    S2_val = np.random.normal(S2_MEAN, S2_STD, N_S2_SAMPLES)\n",
    "    MIX_val = np.random.normal(MIX_MEAN, MIX_STD, N_MIX_SAMPLES)\n",
    "\n",
    "    # Saving it into a csv file\n",
    "    path = OUTPUTPATH + \"input_\" + str(LAMBDA) + \".csv\"\n",
    "    output_lis = [[\"Source 1\", \"Source 2\", \"Mixture\"]]\n",
    "    for temp_index in range(len(S1_val)):\n",
    "        output_lis.append(\n",
    "            [S1_val[temp_index], S2_val[temp_index], MIX_val[temp_index]])\n",
    "\n",
    "    print(path)\n",
    "\n",
    "    # List of initial parameter values\n",
    "    initParam = [np.random.uniform(LAMBDA_RANGE[0], LAMBDA_RANGE[1])]\n",
    "    paramLimit = [LAMBDA_RANGE\n",
    "                  ]  # Lower and upper limits of the model parameters\n",
    "\n",
    "    # Running the mixing model\n",
    "    LOGLIKELIHOOD, PARAM, RESIDUAL = hydro_mix_mcmc(S1_val, S2_val, MIX_val,\n",
    "                                                    MIX_STD, initParam,\n",
    "                                                    paramLimit,\n",
    "                                                    NUMBER_ITERATIONS,\n",
    "                                                    JUMP_PERCENTAGE)\n",
    "\n",
    "    mixingRatioLis = [i[0] for i in PARAM]\n",
    "\n",
    "    # Writing into a csv file\n",
    "    path = OUTPUTPATH + \"output_\" + str(LAMBDA) + \"_MCMC.csv\"\n",
    "    output_lis = [[\"Lambda value\", \"Log likelihood\", \"Error std\", \"Residual\"]]\n",
    "    for index in range(0, len(LOGLIKELIHOOD)):\n",
    "        output_lis.append([\n",
    "            round(mixingRatioLis[index], 4),\n",
    "            round(LOGLIKELIHOOD[index], 4),\n",
    "            round(MIX_STD, 4),\n",
    "            round(RESIDUAL[index], 4)\n",
    "        ])\n",
    "\n",
    "    print(path)\n",
    "\n",
    "    #\tscatterplot_orig_lambda.append(LAMBDA)\n",
    "    #\tscatterplot_sim_lambda.append(np.median(lambda_params[0:int(best_sim_per * number_iterations / 100.)]))\n",
    "    #\tprint (LAMBDA, np.median(lambda_params[0:int(best_sim_per * number_iterations / 100.)]))\n",
    "    LAMBDA += 0.05"
   ]
  },
  {
   "cell_type": "code",
   "execution_count": null,
   "metadata": {},
   "outputs": [],
   "source": [
    "## %% Plotting scatterplot\n",
    "\n",
    "plt.figure()\n",
    "plt.scatter(scatterplot_orig_lambda, scatterplot_sim_lambda)\n",
    "plt.plot([0., 1.], [0., 1.], 'k--', color='r')\n",
    "plt.xlabel(\"Original lambda\")\n",
    "plt.ylabel(\"Simulated labmda\")\n",
    "plt.xlim(0., 1.)\n",
    "plt.ylim(0., 1.)\n",
    "plt.tight_layout()\n",
    "path = outputpath + \"Figures/scatterplot.jpeg\"\n",
    "#plt.savefig(path)"
   ]
  },
  {
   "cell_type": "code",
   "execution_count": null,
   "metadata": {},
   "outputs": [],
   "source": []
  }
 ],
 "metadata": {
  "kernelspec": {
   "display_name": "Python 3",
   "language": "python",
   "name": "python3"
  },
  "language_info": {
   "codemirror_mode": {
    "name": "ipython",
    "version": 3
   },
   "file_extension": ".py",
   "mimetype": "text/x-python",
   "name": "python",
   "nbconvert_exporter": "python",
   "pygments_lexer": "ipython3",
   "version": "3.7.8"
  },
  "latex_envs": {
   "LaTeX_envs_menu_present": true,
   "autoclose": false,
   "autocomplete": true,
   "bibliofile": "biblio.bib",
   "cite_by": "apalike",
   "current_citInitial": 1,
   "eqLabelWithNumbers": true,
   "eqNumInitial": 1,
   "hotkeys": {
    "equation": "Ctrl-E",
    "itemize": "Ctrl-I"
   },
   "labels_anchors": false,
   "latex_user_defs": false,
   "report_style_numbering": false,
   "user_envs_cfg": false
  },
  "toc": {
   "base_numbering": 1,
   "nav_menu": {
    "height": "279px",
    "width": "458px"
   },
   "number_sections": true,
   "sideBar": true,
   "skip_h1_title": false,
   "title_cell": "Table of Contents",
   "title_sidebar": "Contents",
   "toc_cell": false,
   "toc_position": {
    "height": "calc(100% - 180px)",
    "left": "10px",
    "top": "150px",
    "width": "165px"
   },
   "toc_section_display": true,
   "toc_window_display": true
  }
 },
 "nbformat": 4,
 "nbformat_minor": 4
}
