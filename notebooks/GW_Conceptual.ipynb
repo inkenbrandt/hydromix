{
 "cells": [
  {
   "cell_type": "code",
   "execution_count": 2,
   "metadata": {
    "ExecuteTime": {
     "end_time": "2020-11-04T21:20:34.047116Z",
     "start_time": "2020-11-04T21:20:33.509006Z"
    }
   },
   "outputs": [],
   "source": [
    "from __future__ import division\n",
    "import numpy as np\n",
    "import pandas as pd\n",
    "import random\n",
    "import csv\n",
    "import matplotlib\n",
    "import matplotlib.pyplot as plt\n",
    "%matplotlib inline"
   ]
  },
  {
   "cell_type": "code",
   "execution_count": 6,
   "metadata": {
    "ExecuteTime": {
     "end_time": "2020-11-04T21:20:58.111948Z",
     "start_time": "2020-11-04T21:20:58.098093Z"
    }
   },
   "outputs": [
    {
     "data": {
      "text/html": [
       "<div>\n",
       "<style scoped>\n",
       "    .dataframe tbody tr th:only-of-type {\n",
       "        vertical-align: middle;\n",
       "    }\n",
       "\n",
       "    .dataframe tbody tr th {\n",
       "        vertical-align: top;\n",
       "    }\n",
       "\n",
       "    .dataframe thead th {\n",
       "        text-align: right;\n",
       "    }\n",
       "</style>\n",
       "<table border=\"1\" class=\"dataframe\">\n",
       "  <thead>\n",
       "    <tr style=\"text-align: right;\">\n",
       "      <th></th>\n",
       "      <th>swo</th>\n",
       "    </tr>\n",
       "  </thead>\n",
       "  <tbody>\n",
       "    <tr>\n",
       "      <th>0</th>\n",
       "      <td>-10.2</td>\n",
       "    </tr>\n",
       "    <tr>\n",
       "      <th>1</th>\n",
       "      <td>-8.5</td>\n",
       "    </tr>\n",
       "    <tr>\n",
       "      <th>2</th>\n",
       "      <td>-5.7</td>\n",
       "    </tr>\n",
       "    <tr>\n",
       "      <th>3</th>\n",
       "      <td>-6.8</td>\n",
       "    </tr>\n",
       "  </tbody>\n",
       "</table>\n",
       "</div>"
      ],
      "text/plain": [
       "    swo\n",
       "0 -10.2\n",
       "1  -8.5\n",
       "2  -5.7\n",
       "3  -6.8"
      ]
     },
     "execution_count": 6,
     "metadata": {},
     "output_type": "execute_result"
    }
   ],
   "source": [
    "\n"
   ]
  },
  {
   "cell_type": "code",
   "execution_count": null,
   "metadata": {},
   "outputs": [],
   "source": []
  },
  {
   "cell_type": "code",
   "execution_count": 8,
   "metadata": {
    "ExecuteTime": {
     "end_time": "2020-11-04T00:25:17.866807Z",
     "start_time": "2020-11-04T00:25:17.848855Z"
    }
   },
   "outputs": [],
   "source": [
    "import sys\n",
    "hydropath = \"C:/Users/Hutto/PycharmProjects/hydromix\"\n",
    "sys.path.append(hydropath)\n",
    "import hydromix\n",
    "from hydromix.mixingfunctions import *"
   ]
  },
  {
   "cell_type": "code",
   "execution_count": null,
   "metadata": {
    "ExecuteTime": {
     "end_time": "2020-11-03T22:49:05.901429Z",
     "start_time": "2020-11-03T22:49:05.893450Z"
    }
   },
   "outputs": [],
   "source": []
  },
  {
   "cell_type": "markdown",
   "metadata": {
    "ExecuteTime": {
     "end_time": "2020-11-03T23:58:24.328384Z",
     "start_time": "2020-11-03T23:58:24.314892Z"
    }
   },
   "source": [
    "* Created on: 5th October 2018 (Harsh Beria)\n",
    "* Last updated on: 22th November 2018 (Put the mixing part in another script GW_mixing_HydroMix.py)\n",
    "* Last updated on: 21st December 2018 (Plots figure for snowfall vs snowmelt isotopic ratios)\n",
    "* Creates synthetic time series of rain and snow isotopic ratio, & simulates isotopic ratio in groundwater\n",
    "* Makes boxplots of isotopic ratio of snowfall vs snowmelt\n",
    "* OutputFiles processed: OutputFiles/GW_conceptual/\n",
    "* Figures made: OutputFiles/GW_conceptual/SF_SM_boxplot.jpeg"
   ]
  },
  {
   "cell_type": "code",
   "execution_count": 9,
   "metadata": {
    "ExecuteTime": {
     "end_time": "2020-11-04T00:25:18.872230Z",
     "start_time": "2020-11-04T00:25:18.837323Z"
    }
   },
   "outputs": [],
   "source": [
    "# Percentage of rain and snow recharging groundwater\n",
    "RAIN_EFF = 1. \n",
    "SNOW_EFF = 1.\n",
    "K_Q = 0.1  # For Q = KS\n",
    "DEGDAYFACT = 2.5  # Degree day factor in mm/C/day\n",
    "TMELT = 0.  # Temperature at which snowpack starts melting\n",
    "const_storage = 1000. \n",
    "init_snow = 0.  # Constant storage in groundwater which is not fed to streamflow and initial snow height in catchment\n",
    "varLSnowTemp = -1. \n",
    "varHSnowTemp = 1.  # Threshold temperature for bounding thresholding method for snowfall estimation\n",
    "\n",
    "# Parameters for generation of air temperature, precipitation and precipitation isotopic ratio\n",
    "YEARS = 100  # Number of years for which simulation is carried out\n",
    "AirTempMean = 4. \n",
    "AirTempAmpl = 8.\n",
    "PrecipEventNumb = 30\n",
    "PrecipMean = 1000.\n",
    "PrecipIsoMean = -80.\n",
    "PrecipIsoAmpl = 40.\n",
    "\n",
    "# To save records into a csv file\n",
    "FINAL_LIS = [[\"Day number\", \"Rainfall (mm)\", \"Snowfall (mm)\", \n",
    "              \"Storage (mm)\", \"Snowmelt (mm)\", \"Snowheight (mm)\",\n",
    "              \"Q from GW (mm)\",\n",
    "              \"Rain recharge (mm)\", \"Snow recharge (mm)\", \n",
    "              \"Precip isotopic ratio\", \"Snowpack isotopic ratio\",\n",
    "              \"Storage isotopic ratio\"]]\n",
    "snowMeltIso = []  # For storing snowmelt isotopic ratios\n",
    "outputpath = \"C:/Users/Hutto/PycharmProjects/hydromix/OutputFiles/GW_conceptual/\"\n",
    "\n",
    "# Mixing model parameters\n",
    "NUMBER_ITERATIONS = 1000\n",
    "LAMBDA_RANGE = [0., 1.]  # LAMBDA values imply the fraction of snow in groundwater\n",
    "# Number of best simulations using which lambda is computed\n",
    "BEST_SIM_PER = 5.  # In percentage\n",
    "\n",
    "LAST_YEARS = 1  # Number of years at the end of the timeseries from which isotopic data is sampled\n"
   ]
  },
  {
   "cell_type": "code",
   "execution_count": 10,
   "metadata": {
    "ExecuteTime": {
     "end_time": "2020-11-04T00:25:19.369472Z",
     "start_time": "2020-11-04T00:25:19.310598Z"
    }
   },
   "outputs": [],
   "source": [
    "np.random.seed(15544)  # Setting up a common seed number\n",
    "random.seed(55452)  # Setting up random seed for the random function\n",
    "\n",
    "# %% Time series of air temperature, precipitation and isotopic ratio of precipitation\n",
    "airTemp = air_temp_gen(mean_temp=AirTempMean, ampl_temp=AirTempAmpl, years=YEARS)\n",
    "prcp = poisson_prcp(numb_event=PrecipEventNumb, mean_prcp=PrecipMean, years=YEARS)\n",
    "prcpIso = prcp_iso(mean_iso=PrecipIsoMean, ampl_iso=PrecipIsoAmpl, years=YEARS)\n",
    "dayNumb = np.linspace(1, 365 * YEARS, 365 * YEARS)  # Day numbering\n",
    "\n",
    "# %% Running the hydrologic model\n",
    "storage = [const_storage]  # Catchment storage\n",
    "snow_height = [init_snow]  # Snow height\n",
    "snow_melt = [0.]  # Snow melt\n",
    "storage_C = [0.]  # Isotopic ratio in catchment storage (groundwater)\n",
    "snow_C = [0.]  # Isotopic ratio in snowpack\n",
    "rain_lis = [0.]\n",
    "snow_lis = [0.]  # Daily rainfall and snowfall amount\n",
    "recharge_rain_lis = [0.]\n",
    "recharge_snow_lis = [0.]  # Daily groundwater recharge values from rainfall and snowmelt\n",
    "Q_flow = [0.]  # Daily flow into the stream from groundwater"
   ]
  },
  {
   "cell_type": "code",
   "execution_count": 11,
   "metadata": {
    "ExecuteTime": {
     "end_time": "2020-11-04T00:25:20.771705Z",
     "start_time": "2020-11-04T00:25:20.240112Z"
    }
   },
   "outputs": [],
   "source": [
    "for index in range(len(dayNumb)):\n",
    "\n",
    "    # Estimating amount of rain and snow\n",
    "    if airTemp[index] <= varLSnowTemp:\n",
    "        rain_frac = 0.\n",
    "    elif airTemp[index] >= varHSnowTemp:\n",
    "        rain_frac = 1.\n",
    "    else:\n",
    "        rain_frac = (airTemp[index] - varLSnowTemp) * 1. / (varHSnowTemp - varLSnowTemp)\n",
    "    rain_mag = rain_frac * prcp[index] * 1.\n",
    "    snow_mag = (1 - rain_frac) * prcp[index] * 1.\n",
    "    rain_lis.append(rain_mag)\n",
    "    snow_lis.append(snow_mag)\n",
    "\n",
    "    # Computing snow height and snowmelt volume\n",
    "    if airTemp[index] >= TMELT:\n",
    "        melt = DEGDAYFACT * (airTemp[index] - TMELT)\n",
    "        if melt > snow_height[-1]:  # Applying limit of available storage\n",
    "            melt = snow_height[-1] + snow_lis[-1]\n",
    "    else:\n",
    "        melt = 0.\n",
    "    snow_height.append(snow_height[-1] + snow_lis[-1] - melt)\n",
    "    snow_melt.append(melt)\n",
    "\n",
    "    # Isotopic ratio of snowpack\n",
    "    if snow_height[-1] == 0.:  # No more snowpack left\n",
    "        newC = 0.\n",
    "    else:\n",
    "        newC = (snow_height[-2] * snow_C[-1] + snow_lis[-1] * prcpIso[index] - melt * snow_C[-1]) * 1. / (\n",
    "                snow_height[-2] + snow_lis[-1] - melt)\n",
    "        snowMeltIso.append(newC)\n",
    "    snow_C.append(newC)\n",
    "\n",
    "    # Computing groundwater recharge from rain and snow\n",
    "    recharge_rain, recharge_snow = rain_lis[-1] * RAIN_EFF * 1., snow_melt[-1] * SNOW_EFF * 1.\n",
    "    recharge_rain_lis.append(recharge_rain)\n",
    "    recharge_snow_lis.append(recharge_snow)\n",
    "\n",
    "    recharge = recharge_rain + recharge_snow\n",
    "    storage.append(storage[-1] + recharge)\n",
    "    Q = K_Q * (storage[-1] - const_storage)  # Flow into streamflow from groundwater\n",
    "    storage[-1] -= Q  # Updating groundwater volume\n",
    "    Q_flow.append(Q)\n",
    "\n",
    "    # Isotopic ratio of groundwater storage\n",
    "    if round(storage[-1], 2) == 0.:\n",
    "        newC = 0.\n",
    "    else:\n",
    "        newC = (storage[-2] * storage_C[-1] + rain_lis[-1] * RAIN_EFF * prcpIso[index] + snow_melt[-1] * SNOW_EFF *\n",
    "                snow_C[-2] - Q * storage_C[-1]) * 1. / (\n",
    "                       storage[-2] + rain_lis[-1] * RAIN_EFF + snow_melt[-1] * SNOW_EFF - Q)\n",
    "    storage_C.append(newC)\n",
    "\n",
    "    FINAL_LIS.append(\n",
    "        [dayNumb[index], rain_lis[-1], snow_lis[-1], storage[-1], snow_melt[-1], snow_height[-1], Q_flow[-1],\n",
    "         recharge_rain_lis[-1], recharge_snow_lis[-1], prcpIso[index], snow_C[-1], storage_C[-1]])"
   ]
  },
  {
   "cell_type": "code",
   "execution_count": 12,
   "metadata": {
    "ExecuteTime": {
     "end_time": "2020-11-04T00:25:21.909675Z",
     "start_time": "2020-11-04T00:25:21.409000Z"
    }
   },
   "outputs": [
    {
     "name": "stdout",
     "output_type": "stream",
     "text": [
      "C:/Users/Hutto/PycharmProjects/hydromix/OutputFiles/GW_conceptual/RAIN_1.0_SNOW_1.0.csv\n",
      "C:/Users/Hutto/PycharmProjects/hydromix/OutputFiles/GW_conceptual/Figures/SF_SM_boxplot.jpeg\n"
     ]
    },
    {
     "data": {
      "image/png": "[encoded data removed]",
      "text/plain": [
       "<Figure size 288x432 with 1 Axes>"
      ]
     },
     "metadata": {
      "needs_background": "light"
     },
     "output_type": "display_data"
    }
   ],
   "source": [
    "# %% Saving the simulated data into a csv file\n",
    "\n",
    "path = f\"{outputpath}RAIN_{RAIN_EFF:0.1f}_SNOW_{SNOW_EFF:0.1f}.csv\"\n",
    "csv_writer(FINAL_LIS, path)\n",
    "print(path)\n",
    "\n",
    "# %% Plotting boxplots of snowfall and snowmelt\n",
    "\n",
    "snowFallIso = prcpIso[(prcp > 0.) & (airTemp < (0.5 * (varLSnowTemp + varHSnowTemp)))]  # Snowfall isotopic ratios\n",
    "\n",
    "matplotlib.rc('xtick', labelsize=14)\n",
    "plt.figure(figsize=(4, 6))\n",
    "plt.boxplot([snowFallIso, snowMeltIso], labels=[\"Snowfall\", \"Snowmelt\"])\n",
    "plt.ylabel(r'$\\delta^{2}$' + 'H ' + u'\\u2030' + ' (VSMOW)', fontsize=14)\n",
    "plt.tight_layout()\n",
    "path = outputpath + \"Figures/SF_SM_boxplot.jpeg\"\n",
    "plt.savefig(path, dpi=300)\n",
    "\n",
    "print(path)"
   ]
  },
  {
   "cell_type": "code",
   "execution_count": 13,
   "metadata": {
    "ExecuteTime": {
     "end_time": "2020-11-04T00:25:30.494612Z",
     "start_time": "2020-11-04T00:25:30.488630Z"
    }
   },
   "outputs": [
    {
     "data": {
      "text/plain": [
       "970"
      ]
     },
     "execution_count": 13,
     "metadata": {},
     "output_type": "execute_result"
    }
   ],
   "source": [
    "len(snowFallIso)"
   ]
  },
  {
   "cell_type": "code",
   "execution_count": 14,
   "metadata": {
    "ExecuteTime": {
     "end_time": "2020-11-04T00:25:31.092019Z",
     "start_time": "2020-11-04T00:25:31.085034Z"
    }
   },
   "outputs": [
    {
     "data": {
      "text/plain": [
       "15296"
      ]
     },
     "execution_count": 14,
     "metadata": {},
     "output_type": "execute_result"
    }
   ],
   "source": [
    "len(snowMeltIso)"
   ]
  },
  {
   "cell_type": "code",
   "execution_count": null,
   "metadata": {},
   "outputs": [],
   "source": []
  }
 ],
 "metadata": {
  "kernelspec": {
   "display_name": "Python 3",
   "language": "python",
   "name": "python3"
  },
  "language_info": {
   "codemirror_mode": {
    "name": "ipython",
    "version": 3
   },
   "file_extension": ".py",
   "mimetype": "text/x-python",
   "name": "python",
   "nbconvert_exporter": "python",
   "pygments_lexer": "ipython3",
   "version": "3.7.8"
  },
  "toc": {
   "base_numbering": 1,
   "nav_menu": {},
   "number_sections": true,
   "sideBar": true,
   "skip_h1_title": false,
   "title_cell": "Table of Contents",
   "title_sidebar": "Contents",
   "toc_cell": false,
   "toc_position": {},
   "toc_section_display": true,
   "toc_window_display": false
  }
 },
 "nbformat": 4,
 "nbformat_minor": 4
}
