{
 "cells": [
  {
   "cell_type": "code",
   "execution_count": 1,
   "metadata": {
    "ExecuteTime": {
     "end_time": "2020-11-08T00:08:39.180999Z",
     "start_time": "2020-11-08T00:08:38.664592Z"
    }
   },
   "outputs": [],
   "source": [
    "from __future__ import division\n",
    "import pandas as pd\n",
    "import numpy as np\n",
    "import matplotlib.pyplot as plt\n",
    "\n"
   ]
  },
  {
   "cell_type": "code",
   "execution_count": 2,
   "metadata": {
    "ExecuteTime": {
     "end_time": "2020-11-08T00:08:40.157067Z",
     "start_time": "2020-11-08T00:08:39.849441Z"
    }
   },
   "outputs": [],
   "source": [
    "import sys\n",
    "hydropath = \"../\"\n",
    "sys.path.append(hydropath)\n",
    "import hydromix\n",
    "import re\n",
    "from hydromix.mixingfunctions import *"
   ]
  },
  {
   "cell_type": "markdown",
   "metadata": {
    "ExecuteTime": {
     "end_time": "2020-11-07T02:44:46.091608Z",
     "start_time": "2020-11-07T02:44:46.083629Z"
    }
   },
   "source": [
    "* Created on: 8th November 2018 by Harsh Beria\n",
    "* Original paper at https://gmd.copernicus.org/articles/13/2433/2020/#section3\n",
    "* Original code at https://github.com/harshberia93/HydroMix/tree/20191007_GMD\n",
    "* Computes the proportion of groundwater that is made of snow vs rain\n",
    "* SourceFiles used: SourceFiles/Rain_SP_GW_VdN.xlsx\n",
    "* OutputFiles processed: OutputFiles/VdN/H2_results.csv, OutputFiles/VdN/O18_results.csv\n",
    "* Figures made: OutputFiles/VdN/posterior.jpeg\n"
   ]
  },
  {
   "cell_type": "markdown",
   "metadata": {},
   "source": [
    "https://gmd.copernicus.org/articles/13/2433/2020/#section3"
   ]
  },
  {
   "cell_type": "markdown",
   "metadata": {},
   "source": [
    "The objective of this case study is to infer the proportional contributions of snow versus rainfall to the groundwater of an Alpine headwater catchment, Vallon de Nant (Switzerland), using stable water isotopes.\n",
    "3.4.1 Catchment description\n",
    "\n",
    "Vallon de Nant is a 13.4 km2 catchment located in the Vaud Alps in the southwest of Switzerland (Fig. 1), with elevation ranging from 1253 m to 3051 m a.s.l. Steep slopes form a major part of the catchment with a mean catchment slope of around 36∘ (Thornton et al., 2018). At lower elevations, a dense forest dominated by Picea abies covers 14 % of the catchment area. At around 1500 m a.s.l., there is an active pasture area with scattered trees and an open forest dominated by Larix decidua. Additional species scattered throughout the catchment include Pinus sp., Alnus sp., and Acer pseudoplatanus. Alpine meadows cover most of the higher-elevation land surfaces. Despite the relatively low elevation, there is a small glacier on its southwestern tip, which covers around 4.4 % of the catchment area, below which an extended moraine occupies 10.1 % of the catchment area. A large part (28 % of catchment area) of the hillslopes are composed of steep rock walls. At lower to mid-elevations, talus slopes account for about 6 % of the catchment area.\n",
    "\n",
    "Vallon de Nant has a typical Alpine climate, with around 1900 mm of annual precipitation and a mean air temperature of 1.8 ∘C (Michelon, 2017). For this paper, long-term climate statistics are computed using the MeteoSwiss gridded precipitation and air temperature dataset for 1961–2015 (Isotta et al., 2013; MeteoSwiss, 2016, 2017). Applying a simple temperature threshold (0 and 1 ∘C) to observed precipitation indicates that, on average, 40 %–45 % of the total precipitation falls as snow in the catchment. There is a small degree of seasonality in precipitation, with higher precipitation between June and August and lower precipitation in the months of September and October."
   ]
  },
  {
   "cell_type": "markdown",
   "metadata": {
    "ExecuteTime": {
     "end_time": "2020-11-07T03:20:37.480683Z",
     "start_time": "2020-11-07T03:20:37.451761Z"
    }
   },
   "source": [
    "![title](https://gmd.copernicus.org/articles/13/2433/2020/gmd-13-2433-2020-f01-web.png)\n"
   ]
  },
  {
   "cell_type": "markdown",
   "metadata": {},
   "source": [
    "HydroMix is used to estimate the proportion of snow recharging groundwater (subsequently referred to as the “snow recharge coefficient”). In order to obtain a PDF of the snow recharge coefficient, isotopic ratios in all the water samples from rain, snowpack, and groundwater are used. A uniform prior distribution is assigned to the snow recharge coefficient, which varies between 0 and 1, representing the entire range of possible values."
   ]
  },
  {
   "cell_type": "markdown",
   "metadata": {
    "ExecuteTime": {
     "end_time": "2020-11-08T00:10:15.527188Z",
     "start_time": "2020-11-08T00:10:15.518204Z"
    }
   },
   "source": [
    "# VdN_Mixing"
   ]
  },
  {
   "cell_type": "markdown",
   "metadata": {},
   "source": [
    "## Import Parameters"
   ]
  },
  {
   "cell_type": "code",
   "execution_count": 4,
   "metadata": {
    "ExecuteTime": {
     "end_time": "2020-11-08T00:09:12.949473Z",
     "start_time": "2020-11-08T00:09:12.850901Z"
    }
   },
   "outputs": [],
   "source": [
    "# Main variables\n",
    "\n",
    "number_iterations = 500\n",
    "LAMBDA_RANGE = [0., 1.] # LAMBDA values imply the fraction of snow in groundwater\n",
    "# Number of best simulations using which lambda is computed\n",
    "BEST_SIM_PER = 5. # In percentage\n",
    "\n",
    "#outputfilepath = \"OutputFiles/VdN/\"\n",
    "outputfilepath = hydropath + \"/OutputFiles/GW_conceptual/\"\n",
    "\n",
    "# etting up a random seed\n",
    "np.random.seed(1) # Setting up a common seed number\n",
    "\n",
    "# Reading all the isotopic data\n",
    "\n",
    "filename = hydropath + \"/SourceFiles/Rain_SP_GW_VdN.xlsx\"\n",
    "df = pd.read_excel(filename, sheet_name='Sheet1')"
   ]
  },
  {
   "cell_type": "code",
   "execution_count": 5,
   "metadata": {
    "ExecuteTime": {
     "end_time": "2020-11-08T00:09:21.165941Z",
     "start_time": "2020-11-08T00:09:21.137511Z"
    }
   },
   "outputs": [],
   "source": [
    "# Separating the isotopic ratios in rain, snow and groundwater\n",
    "rain_df = df[(df[\"Type\"] == \"Rain\")]\n",
    "snow_df = df[(df[\"Type\"] == \"Snow\")]\n",
    "gw_df = df[(df[\"Type\"] == \"Groundwater\")]\n",
    "\n",
    "# Initializing the model parameters\n",
    "lambda_params = np.random.uniform(LAMBDA_RANGE[0], LAMBDA_RANGE[1], number_iterations)\n",
    "\n",
    "# Assuming constant error variance computed from data\n",
    "likelihood_std_params_h2 = np.full(number_iterations, np.std(gw_df[\"H2 isotope\"].values, ddof=1))\n",
    "likelihood_std_params_o18 = np.full(number_iterations, np.std(gw_df[\"O18 isotope\"].values, ddof=1))"
   ]
  },
  {
   "cell_type": "markdown",
   "metadata": {},
   "source": [
    "## Run Hydromix Model"
   ]
  },
  {
   "cell_type": "markdown",
   "metadata": {},
   "source": [
    "### Running HydroMix for H2"
   ]
  },
  {
   "cell_type": "code",
   "execution_count": 7,
   "metadata": {
    "ExecuteTime": {
     "end_time": "2020-11-08T00:14:58.970127Z",
     "start_time": "2020-11-08T00:12:38.044865Z"
    }
   },
   "outputs": [
    {
     "name": "stdout",
     "output_type": "stream",
     "text": [
      "Iteration number:1\n",
      "Iteration number:101\n",
      "Iteration number:201\n",
      "Iteration number:301\n",
      "Iteration number:401\n",
      "..//OutputFiles/GW_conceptual/H2_results.csv\n"
     ]
    }
   ],
   "source": [
    "# Running HydroMix for H2\n",
    "\n",
    "rain, snow, gw = rain_df[\"H2 isotope\"].values, snow_df[\"H2 isotope\"].values, gw_df[\"H2 isotope\"].values\n",
    "likelihood_h2, LAMBDA_H2, ErrorSTD_H2 = hydro_mix(snow, rain, gw, lambda_params, likelihood_std_params_h2, number_iterations)\n",
    "\n",
    "# Writing output in csv file\n",
    "\n",
    "final_lis = [[\"Snow ratio\", \"Log likelihood\", \"Error std\"]]\n",
    "path = outputfilepath + \"H2_results.csv\"\n",
    "for index in range(0, len(likelihood_h2)):\n",
    "    final_lis.append([round(LAMBDA_H2[index], 2), round(likelihood_h2[index], 2), round(ErrorSTD_H2[index], 2)])\n",
    "\n",
    "print (path)"
   ]
  },
  {
   "cell_type": "markdown",
   "metadata": {
    "ExecuteTime": {
     "end_time": "2020-11-07T02:36:51.021702Z",
     "start_time": "2020-11-07T02:31:57.965768Z"
    }
   },
   "source": [
    "### Running HydroMix for O18"
   ]
  },
  {
   "cell_type": "code",
   "execution_count": 8,
   "metadata": {
    "ExecuteTime": {
     "end_time": "2020-11-08T00:20:18.954007Z",
     "start_time": "2020-11-08T00:17:58.124964Z"
    }
   },
   "outputs": [
    {
     "name": "stdout",
     "output_type": "stream",
     "text": [
      "Iteration number:1\n",
      "Iteration number:101\n",
      "Iteration number:201\n",
      "Iteration number:301\n",
      "Iteration number:401\n",
      "..//OutputFiles/GW_conceptual/O18_results.csv\n"
     ]
    }
   ],
   "source": [
    "# Running HydroMix for O18\n",
    "\n",
    "rain, snow, gw = rain_df[\"O18 isotope\"].values, snow_df[\"O18 isotope\"].values, gw_df[\"O18 isotope\"].values\n",
    "likelihood_o18, lambda_o18, error_std_o18 = hydro_mix(snow, rain, gw, lambda_params, likelihood_std_params_o18, number_iterations)\n",
    "\n",
    "# Writing output in csv file\n",
    "\n",
    "final_lis = [[\"Snow ratio\", \"Log likelihood\", \"Error std\"]]\n",
    "path = outputfilepath + \"O18_results.csv\"\n",
    "for index in range(0, len(likelihood_o18)):\n",
    "    final_lis.append([round(lambda_o18[index], 2), round(likelihood_o18[index], 2), round(error_std_o18[index], 2)])\n",
    "\n",
    "\n",
    "print (path)\n"
   ]
  },
  {
   "cell_type": "markdown",
   "metadata": {},
   "source": [
    "## Histogram plot showing snow ratio in groundwater using H2 and O18"
   ]
  },
  {
   "cell_type": "markdown",
   "metadata": {},
   "source": [
    "Using the dataset from an Alpine catchment (Vallon de Nant, Switzerland), HydroMix estimates that 60 %–62 % of the groundwater is recharged from snowmelt (using unweighted approach), with the full posterior distributions shown in Fig. 8a. This estimate is consistent for both of the isotopic tracers (δ2H and δ18O), which are often used interchangeably in the hydrologic literature (Gat, 1996). Comparing this recharge estimate to the proportion of total precipitation that falls as snow (around 40 %–45 %; see Sect. 3.4.1) suggests that snowmelt is more effective at reaching the aquifer than an equivalent amount of rainfall falling at a different period of the year. Similar results have been obtained in a number of previous studies across the temperate and mountainous regions of the world (see Table 1 in the work of Beria et al., 2018, for a summary)."
   ]
  },
  {
   "cell_type": "code",
   "execution_count": 9,
   "metadata": {
    "ExecuteTime": {
     "end_time": "2020-11-08T00:20:30.250734Z",
     "start_time": "2020-11-08T00:20:29.641346Z"
    }
   },
   "outputs": [
    {
     "name": "stdout",
     "output_type": "stream",
     "text": [
      "..//OutputFiles/GW_conceptual/posterior.jpeg\n"
     ]
    },
    {
     "data": {
      "image/png": "[encoded data removed]",
      "text/plain": [
       "<Figure size 432x288 with 1 Axes>"
      ]
     },
     "metadata": {
      "needs_background": "light"
     },
     "output_type": "display_data"
    }
   ],
   "source": [
    "# %% Histogram plot showing snow ratio in groundwater using H2 and O18\n",
    "\n",
    "plt.figure()\n",
    "plt.hist(LAMBDA_H2[0:int(0.01 * BEST_SIM_PER * number_iterations)], density=True,\n",
    "         color='blue', alpha=0.4, label=r'$\\delta^{2}$H' + u' \\u2030 (VSMOW)')\n",
    "plt.hist(lambda_o18[0:int(0.01 * BEST_SIM_PER * number_iterations)], density=True,\n",
    "         color='red', alpha=0.4, label=r'$\\delta^{18}$O' + u' \\u2030 (VSMOW)')\n",
    "plt.xlim(0.55, .7)\n",
    "plt.grid(linestyle='dotted')\n",
    "plt.xlabel(\"Fraction of snow in groundwater\", fontsize=14)\n",
    "plt.ylabel(\"Normalised frequency\", fontsize=14)\n",
    "plt.legend()\n",
    "plt.tight_layout()\n",
    "path = outputfilepath + \"posterior.jpeg\"\n",
    "plt.savefig(path, dpi=300)\n",
    "\n",
    "print (path)"
   ]
  },
  {
   "cell_type": "markdown",
   "metadata": {
    "ExecuteTime": {
     "end_time": "2020-11-07T03:13:42.671048Z",
     "start_time": "2020-11-07T03:13:42.662073Z"
    }
   },
   "source": [
    "# VdN_mixing_additional_params"
   ]
  },
  {
   "cell_type": "markdown",
   "metadata": {
    "ExecuteTime": {
     "end_time": "2020-11-07T03:29:15.712105Z",
     "start_time": "2020-11-07T03:29:15.701134Z"
    }
   },
   "source": [
    "* Created on 12th November 2018 by Harsh Beria\n",
    "* Computes the proportion of groundwater that is made of snow vs rain\n",
    "* Introduced additional model parameters (isotopic lapse rate)\n",
    "* SourceFiles used: SourceFiles/Rain_SP_GW_VdN.xlsx, SourceFiles/Hypsometric_curve_data.xlsx\n",
    "* OutputFiles processed: OutputFiles/VdN/Lapse_rate/H2_results.csv, OutputFiles/VdN/Lapse_rate/O18_results.csv\n",
    "* Figures made: OutputFiles/VdN/Lapse_rate/lapse_rate_posterior.jpeg, OutputFiles/VdN/Lapse_rate/posterior.jpeg"
   ]
  },
  {
   "cell_type": "markdown",
   "metadata": {},
   "source": [
    "In any mixing analysis, it may be useful or desirable for users to specify an additional model parameter that is able to modify the tracer concentrations based on their process understanding of the system. In the case of Alpine catchments with large elevation gradients, stable isotopes in precipitation often exhibit a systematic trend with elevation, becoming more depleted in heavier isotopes with increasing elevation. This is also known as the “isotopic lapse rate” (Dansgaard, 1964; Friedman et al., 1964). In typical field campaigns, because of logistical challenges, precipitation samples are collected only at a few points in a catchment, with often fewer precipitation samples at high elevations. This leads to oversampling at lower elevations and undersampling at higher elevations, which can bias mixing estimates. This has been found to be especially relevant for hydrograph separation in forested catchments (Cayuela et al., 2019). To allow a process compensation for this, an additional lapse rate factor is introduced with which each observed point-scale sample (observed at a given elevation) is corrected to a reference elevation as follows:\n",
    "\n",
    "\\begin{equation*}\n",
    "r¯=∑kj=1[α(ej−e)+r]aj∑kj=1aj\n",
    "\\end{equation*}\n",
    "\n",
    "where r is the isotopic ratio in precipitation collected at elevation e, r¯ is the catchment-averaged isotopic ratio in precipitation, α is the isotopic lapse rate factor, ej is the elevation of the jth elevation band, and aj is the catchment area under the jth elevation band; the catchment is divided into k elevation bands. These bands are obtained by constructing a hypsometric curve of the catchment (Strahler, 1952).\n",
    "\n",
    "The lapse rate factor is allowed to modify both rainfall and snowpack isotopic ratios to obtain a catchment-averaged isotopic ratio, which is then used in the mixing model. Using this formulation of an isotopic lapse rate makes the following implicit assumptions: (1) precipitation storms on aggregate move from the lower part of the catchment to the upper part of the catchment, thus creating a lapse rate effect, and (2) precipitation falls uniformly over the catchment. It is important to note that the isotopic lapse rate is different from the precipitation lapse rate; i.e., the rate of change of precipitation with elevation is different from the rate of change of the precipitation isotopic ratio with elevation."
   ]
  },
  {
   "cell_type": "markdown",
   "metadata": {},
   "source": [
    "## Set Up Parameters"
   ]
  },
  {
   "cell_type": "markdown",
   "metadata": {},
   "source": [
    "### Main variables"
   ]
  },
  {
   "cell_type": "code",
   "execution_count": 10,
   "metadata": {
    "ExecuteTime": {
     "end_time": "2020-11-08T00:26:32.851667Z",
     "start_time": "2020-11-08T00:26:32.832197Z"
    }
   },
   "outputs": [],
   "source": [
    "NUMBER_ITERATIONS = 500\n",
    "\n",
    "# Bayesian model parameters (in the given range (inclusive))\n",
    "LAMBDA_RANGE = [0., 1.]  # LAMBDA values imply the fraction of snow in groundwater\n",
    "O18_LAPSE_SLOPE = [-0.0081, 0.0081]  # Obtained from GNIP Swiss data (-0.0027)\n",
    "H2_LAPSE_SLOPE = [-0.0582, 0.0582]  # Obtained from GNIP Swiss data (-0.0194)\n",
    "\n",
    "SWISS_LAPSE = {\"H2\": -0.0194, \"O18\": -0.0027}  # Swiss lapse rate according to GNIP data\n",
    "SWISS_LAPSE_lowBound = {\"H2\": -0.029, \"O18\": -0.0039}  # Swiss lapse rate according to GNIP data\n",
    "SWISS_LAPSE_highBound = {\"H2\": -0.0076, \"O18\": -0.0013}  # Swiss lapse rate according to GNIP data\n",
    "\n",
    "# Number of best simulations using which lambda is computed\n",
    "BEST_SIM_PER = 5.  # In percentage\n",
    "\n",
    "HYPS_DIC = {}  # Key is elevation and value is the percent of catchment at that elevation\n",
    "\n",
    "OUTPUTFILEPATH = hydropath + \"/OutputFiles/VdN/Lapse_rate/\"\n",
    "\n",
    "# %% Setting up a random seed\n",
    "np.random.seed(1)  # Setting up a common seed number\n",
    "\n",
    "\n"
   ]
  },
  {
   "cell_type": "markdown",
   "metadata": {},
   "source": [
    "### Reading the hypsometric curve data"
   ]
  },
  {
   "cell_type": "code",
   "execution_count": 11,
   "metadata": {
    "ExecuteTime": {
     "end_time": "2020-11-08T00:26:35.587710Z",
     "start_time": "2020-11-08T00:26:35.560311Z"
    }
   },
   "outputs": [],
   "source": [
    "filename =  hydropath + \"/SourceFiles/Hypsometric_curve_data.xlsx\"\n",
    "df = pd.read_excel(filename, 'Sheet1')\n",
    "for index, row in df.iterrows():\n",
    "    temp_elev_lis = re.findall(r'\\d+', row[\n",
    "        'Elevation band'])  # Identifying the numbers in the string and putting them in a list\n",
    "    temp_elev_lis = [float(k) for k in temp_elev_lis]  # Converting characters to floats\n",
    "    elevation_avg = sum(temp_elev_lis) * 1. / len(temp_elev_lis)  # Average elevation in a given elevation band\n",
    "    HYPS_DIC[elevation_avg] = float(row['Percentage of grids'])"
   ]
  },
  {
   "cell_type": "markdown",
   "metadata": {},
   "source": [
    "### Reading all the isotopic data"
   ]
  },
  {
   "cell_type": "code",
   "execution_count": 12,
   "metadata": {
    "ExecuteTime": {
     "end_time": "2020-11-08T00:26:46.919259Z",
     "start_time": "2020-11-08T00:26:46.892826Z"
    }
   },
   "outputs": [],
   "source": [
    "filename = hydropath + \"/SourceFiles/Rain_SP_GW_VdN.xlsx\"\n",
    "df = pd.read_excel(filename, sheet_name='Sheet1')\n",
    "\n",
    "# Separating the isotopic ratios in rain, snow and groundwater\n",
    "rain_df = df[(df[\"Type\"] == \"Rain\")]\n",
    "snow_df = df[(df[\"Type\"] == \"Snow\")]\n",
    "gw_df = df[(df[\"Type\"] == \"Groundwater\")]"
   ]
  },
  {
   "cell_type": "markdown",
   "metadata": {},
   "source": [
    "### Initializing the model parameters"
   ]
  },
  {
   "cell_type": "code",
   "execution_count": 13,
   "metadata": {
    "ExecuteTime": {
     "end_time": "2020-11-08T00:27:41.178300Z",
     "start_time": "2020-11-08T00:27:41.169324Z"
    }
   },
   "outputs": [],
   "source": [
    "# %% Initializing the model parameters\n",
    "\n",
    "LAMBDA_params = np.random.uniform(LAMBDA_RANGE[0], LAMBDA_RANGE[1], NUMBER_ITERATIONS)\n",
    "O18_lapse_param_lis = np.random.uniform(O18_LAPSE_SLOPE[0], O18_LAPSE_SLOPE[1], NUMBER_ITERATIONS)\n",
    "H2_lapse_param_lis = np.random.uniform(H2_LAPSE_SLOPE[0], H2_LAPSE_SLOPE[1], NUMBER_ITERATIONS)\n",
    "\n",
    "# Assuming constant error variance computed from data\n",
    "LIKELIHOOD_std_params_H2 = np.full(NUMBER_ITERATIONS, np.std(gw_df[\"H2 isotope\"].values, ddof=1))\n",
    "LIKELIHOOD_std_params_O18 = np.full(NUMBER_ITERATIONS, np.std(gw_df[\"O18 isotope\"].values, ddof=1))"
   ]
  },
  {
   "cell_type": "markdown",
   "metadata": {},
   "source": [
    "## Running HydroMix"
   ]
  },
  {
   "cell_type": "code",
   "execution_count": 14,
   "metadata": {
    "ExecuteTime": {
     "end_time": "2020-11-08T00:29:59.863671Z",
     "start_time": "2020-11-08T00:27:42.364316Z"
    }
   },
   "outputs": [
    {
     "name": "stdout",
     "output_type": "stream",
     "text": [
      "Iteration number:1\n",
      "Iteration number:101\n",
      "Iteration number:201\n",
      "Iteration number:301\n",
      "Iteration number:401\n"
     ]
    }
   ],
   "source": [
    "# %% Running HydroMix for H2\n",
    "\n",
    "rain, snow, gw = rain_df[\"H2 isotope\"].values, snow_df[\"H2 isotope\"].values, gw_df[\"H2 isotope\"].values\n",
    "rain_elev, snow_elev = rain_df[\"Elevation (m)\"].values, snow_df[\"Elevation (m)\"].values\n",
    "LIKELIHOOD_H2, LAMBDA_H2, LIKELIHOOD_std_params_H2, H2_lapse_param_lis = hydro_mix_elev(snow, snow_elev, rain, \n",
    "                                                                                        rain_elev, gw,\n",
    "                                                                                   LAMBDA_params,\n",
    "                                                                                   LIKELIHOOD_std_params_H2,\n",
    "                                                                                   NUMBER_ITERATIONS,\n",
    "                                                                                   H2_lapse_param_lis, HYPS_DIC)"
   ]
  },
  {
   "cell_type": "code",
   "execution_count": 15,
   "metadata": {
    "ExecuteTime": {
     "end_time": "2020-11-08T00:29:59.878671Z",
     "start_time": "2020-11-08T00:29:59.864672Z"
    }
   },
   "outputs": [
    {
     "name": "stdout",
     "output_type": "stream",
     "text": [
      "..//OutputFiles/VdN/Lapse_rate/H2_results.csv\n"
     ]
    }
   ],
   "source": [
    "# %% Writing output in csv file\n",
    "\n",
    "final_lis = [[\"Snow ratio\", \"Log likelihood\", \"Error std\", \"H2 lapse rate\"]]\n",
    "path = OUTPUTFILEPATH + \"H2_results.csv\"\n",
    "for index in range(0, len(LIKELIHOOD_H2)):\n",
    "    final_lis.append(\n",
    "        [round(LAMBDA_H2[index], 2), round(LIKELIHOOD_H2[index], 2), round(LIKELIHOOD_std_params_H2[index], 2),\n",
    "         round(H2_lapse_param_lis[index], 2)])\n",
    "\n",
    "print(path)"
   ]
  },
  {
   "cell_type": "code",
   "execution_count": 16,
   "metadata": {
    "ExecuteTime": {
     "end_time": "2020-11-08T00:32:18.063855Z",
     "start_time": "2020-11-08T00:29:59.879668Z"
    }
   },
   "outputs": [
    {
     "name": "stdout",
     "output_type": "stream",
     "text": [
      "Iteration number:1\n",
      "Iteration number:101\n",
      "Iteration number:201\n",
      "Iteration number:301\n",
      "Iteration number:401\n",
      "..//OutputFiles/VdN/Lapse_rate/O18_results.csv\n"
     ]
    }
   ],
   "source": [
    "# %% Running HydroMix for O18\n",
    "\n",
    "rain, snow, gw = rain_df[\"O18 isotope\"].values, snow_df[\"O18 isotope\"].values, gw_df[\"O18 isotope\"].values\n",
    "LIKELIHOOD_O18, LAMBDA_O18, LIKELIHOOD_std_params_O18, O18_lapse_param_lis = hydro_mix_elev(snow, snow_elev, \n",
    "                                                                                            rain, rain_elev,\n",
    "                                                                                       gw,\n",
    "                                                                                       LAMBDA_params,\n",
    "                                                                                       LIKELIHOOD_std_params_O18,\n",
    "                                                                                       NUMBER_ITERATIONS,\n",
    "                                                                                       O18_lapse_param_lis, \n",
    "                                                                                            HYPS_DIC)\n",
    "\n",
    "# %% Writing output in csv file\n",
    "\n",
    "final_lis = [[\"Snow ratio\", \"Log likelihood\", \"Error std\", \"O18 lapse rate\"]]\n",
    "path = OUTPUTFILEPATH + \"O18_results.csv\"\n",
    "for index in range(0, len(LIKELIHOOD_O18)):\n",
    "    final_lis.append(\n",
    "        [round(LAMBDA_O18[index], 2), round(LIKELIHOOD_O18[index], 2), round(LIKELIHOOD_std_params_O18[index], 2),\n",
    "         round(O18_lapse_param_lis[index], 2)])\n",
    "\n",
    "print(path)"
   ]
  },
  {
   "cell_type": "markdown",
   "metadata": {},
   "source": [
    "## Histogram of snow ratio in groundwater using H2 and O18"
   ]
  },
  {
   "cell_type": "code",
   "execution_count": 17,
   "metadata": {
    "ExecuteTime": {
     "end_time": "2020-11-08T00:32:18.374549Z",
     "start_time": "2020-11-08T00:32:18.064622Z"
    }
   },
   "outputs": [
    {
     "name": "stdout",
     "output_type": "stream",
     "text": [
      "..//OutputFiles/VdN/Lapse_rate/posterior.jpeg\n"
     ]
    },
    {
     "data": {
      "image/png": "[encoded data removed]",
      "text/plain": [
       "<Figure size 432x288 with 1 Axes>"
      ]
     },
     "metadata": {
      "needs_background": "light"
     },
     "output_type": "display_data"
    }
   ],
   "source": [
    "# %% \n",
    "\n",
    "plt.figure()\n",
    "plt.hist(LAMBDA_H2[0:int(0.01 * BEST_SIM_PER * NUMBER_ITERATIONS)], color='blue', alpha=0.4,\n",
    "         label=r'$\\delta^{2}$H' + u' \\u2030 (VSMOW)')\n",
    "plt.hist(LAMBDA_O18[0:int(0.01 * BEST_SIM_PER * NUMBER_ITERATIONS)], color='red', alpha=0.4,\n",
    "         label=r'$\\delta^{18}$O' + u' \\u2030 (VSMOW)')\n",
    "plt.xlim(0., 1.)\n",
    "plt.grid(linestyle='dotted')\n",
    "plt.xlabel(\"Fraction of snow in groundwater\", fontsize=14)\n",
    "plt.ylabel(\"Normalised frequency\", fontsize=14)\n",
    "plt.legend()\n",
    "plt.tight_layout()\n",
    "path = OUTPUTFILEPATH + \"posterior.jpeg\"\n",
    "plt.savefig(path, dpi=300)\n",
    "\n",
    "print(path)\n",
    "\n"
   ]
  },
  {
   "cell_type": "markdown",
   "metadata": {},
   "source": [
    "## Histogram of posterior distributions of isotopic lapse rates in 2H and 18O"
   ]
  },
  {
   "cell_type": "markdown",
   "metadata": {},
   "source": [
    "Histogram showing the posterior distribution of the isotope lapse rate parameter in δ2H and δ18O. The green region shows the confidence bounds (significant at α=0.01) of the lapse rate computed over Switzerland by using inverse variance-weighted regression. The limits of the prior distribution of the isotopic lapse rates correspond to the limits of the x axis. The slope of the isotopic ratio when plotted against elevation for the Swiss-wide data is shown in Fig. 3 of Beria et al. (2018)."
   ]
  },
  {
   "cell_type": "code",
   "execution_count": null,
   "metadata": {
    "ExecuteTime": {
     "end_time": "2020-11-07T13:53:49.627575Z",
     "start_time": "2020-11-07T13:53:48.904271Z"
    }
   },
   "outputs": [],
   "source": [
    "# %% Histogram plot showing posterior distributions of isotopic lapse rates in 2H and 18O\n",
    "\n",
    "f, axarr = plt.subplots(2, figsize=(10, 10))\n",
    "axarr[0].hist(H2_lapse_param_lis[0:int(0.01 * BEST_SIM_PER * NUMBER_ITERATIONS)], color='blue', alpha=0.4)\n",
    "axarr[0].set_xlim(H2_LAPSE_SLOPE[0], H2_LAPSE_SLOPE[1])\n",
    "axarr[0].set_ylabel(\"Normalised frequency\", fontsize=14)\n",
    "axarr[0].set_xlabel(\"Lapse rate in\" + r'$\\ ^{2}$H', fontsize=14)\n",
    "axarr[0].grid(linestyle='dotted')\n",
    "# axarr[0].axvline(x=SWISS_LAPSE[\"H2\"], color='black', label=\"Swiss lapse rate in\" + r'$\\ ^{2}$H')\n",
    "axarr[0].axvspan(SWISS_LAPSE_lowBound[\"H2\"], SWISS_LAPSE_highBound[\"H2\"], facecolor='green', alpha=0.3,\n",
    "                 label=\"Swiss lapse rate range in\" + r'$\\ ^{2}$H')\n",
    "axarr[0].legend(fontsize=14)\n",
    "axarr[0].tick_params(labelsize=14)\n",
    "\n",
    "axarr[1].hist(O18_lapse_param_lis[0:int(0.01 * BEST_SIM_PER * NUMBER_ITERATIONS)], color='red', alpha=0.4)\n",
    "axarr[1].set_xlim(O18_LAPSE_SLOPE[0], O18_LAPSE_SLOPE[1])\n",
    "axarr[1].set_ylabel(\"Normalised frequency\", fontsize=14)\n",
    "axarr[1].set_xlabel(\"Lapse rate in\" + r'$\\ ^{18}$O', fontsize=14)\n",
    "axarr[1].grid(linestyle='dotted')\n",
    "# axarr[1].axvline(x=SWISS_LAPSE[\"O18\"], color='black', label=\"Swiss lapse rate in\" + r'$\\ ^{18}$O')\n",
    "axarr[1].axvspan(SWISS_LAPSE_lowBound[\"O18\"], SWISS_LAPSE_highBound[\"O18\"], facecolor='green', alpha=0.3,\n",
    "                 label=\"Swiss lapse rate range in\" + r'$\\ ^{18}$O')\n",
    "axarr[1].legend(fontsize=14)\n",
    "axarr[1].tick_params(labelsize=14)\n",
    "\n",
    "plt.tight_layout()\n",
    "\n",
    "path = OUTPUTFILEPATH + \"lapse_rate_posterior.jpeg\"\n",
    "plt.savefig(path, dpi=300)\n",
    "\n",
    "print(path)\n"
   ]
  },
  {
   "cell_type": "markdown",
   "metadata": {},
   "source": [
    "# VdN_mixing_MCMC"
   ]
  },
  {
   "cell_type": "code",
   "execution_count": null,
   "metadata": {},
   "outputs": [],
   "source": [
    "\"\"\"\n",
    "Created on: 8th November 2018 (Harsh Beria)\n",
    "Last updated on: 26th September 2019 (Saved last accepted parameter in rejection step of Metropolis Hastings step)\n",
    "What it does?\n",
    "\n",
    "Computes the proportion of groundwater that is made of snow vs rain using a MCMC sampler\n",
    "\n",
    "SourceFiles used:\n",
    "SourceFiles/Rain_SP_GW_VdN.xlsx\n",
    "\n",
    "\n",
    "OutputFiles processed:\n",
    "OutputFiles/VdN/H2_results_MCMC.csv\n",
    "OutputFiles/VdN/O18_results_MCMC.csv\n",
    "\n",
    "Figures made: NONE\n",
    "\"\"\"\n",
    "\n",
    "from __future__ import division\n",
    "import pandas as pd\n",
    "import numpy as np\n",
    "from hydromix.mixingfunctions import *\n",
    "# %% Main variables\n",
    "\n",
    "NUMBER_ITERATIONS = 1000\n",
    "LAMBDA_RANGE = [0., 1.] # LAMBDA values imply the fraction of snow in groundwater\n",
    "JUMP_PERCENTAGE = 5. # In percentage (JUMP_PERCENTAGE/2 in both directions)\n",
    "\n",
    "OUTPUTFILEPATH = \"OutputFiles/VdN/\"\n",
    "\n",
    "# %% Setting up a random seed\n",
    "np.random.seed(1234) # Setting up a common seed number\n",
    "\n",
    "# %% Reading all the isotopic data\n",
    "\n",
    "filename = \"../../../Downloads/Zenodo_dataset/Zenodo_dataset/SourceFiles/Rain_SP_GW_VdN.xlsx\"\n",
    "df = pd.read_excel(filename, sheet_name='Sheet1')\n",
    "\n",
    "# Separating the isotopic ratios in rain, snow and groundwater\n",
    "rain_df = df[(df[\"Type\"] == \"Rain\")]\n",
    "snow_df = df[(df[\"Type\"] == \"Snow\")]\n",
    "gw_df = df[(df[\"Type\"] == \"Groundwater\")]\n",
    "\n",
    "# %% Running HydroMix for H2\n",
    "\n",
    "rain, snow, gw = rain_df[\"H2 isotope\"].values, snow_df[\"H2 isotope\"].values, gw_df[\"H2 isotope\"].values\n",
    "\n",
    "H2_std = np.std(gw_df[\"H2 isotope\"].values, ddof=1) # Standard deviation of H2 in groundwater\n",
    "\n",
    "# List of initial parameter values \n",
    "initParam = [np.random.uniform(LAMBDA_RANGE[0], LAMBDA_RANGE[1])]\n",
    "\n",
    "# Lower and upper limits of the model parameters\n",
    "paramLimit = [LAMBDA_RANGE]\n",
    "\n",
    "# Running the mixing model\n",
    "LOGLIKELIHOOD_H2, PARAM_H2, RESIDUAL_H2 = hydro_mix(snow, rain, gw, H2_std,\n",
    "\t\t\t\t\t\t\t\t\t\t\t\t   initParam, paramLimit, NUMBER_ITERATIONS, JUMP_PERCENTAGE)\n",
    "\n",
    "snowRatioLis_H2 = [i[0] for i in PARAM_H2]\n",
    "\n",
    "# %% Writing output in csv file\n",
    "\n",
    "final_lis = [[\"Snow ratio\", \"Log likelihood\", \"Error std\", \"Residual\"]]\n",
    "path = OUTPUTFILEPATH + \"H2_results_MCMC_\" + str(NUMBER_ITERATIONS) + \".csv\"\n",
    "for index in range(0, len(LOGLIKELIHOOD_H2)):\n",
    "\tfinal_lis.append([ round(snowRatioLis_H2[index], 4), round(LOGLIKELIHOOD_H2[index], 4), round(H2_std, 4), \n",
    "\t\t\t\t   round(RESIDUAL_H2[index], 4) ])\n",
    "\n",
    "\n",
    "# %% Running HydroMix for O18\n",
    "\n",
    "rain, snow, gw = rain_df[\"O18 isotope\"].values, snow_df[\"O18 isotope\"].values, gw_df[\"O18 isotope\"].values\n",
    "\n",
    "O18_std = np.std(gw_df[\"O18 isotope\"].values, ddof=1) # Standard deviation of O18 in groundwater\n",
    "\n",
    "# List of initial parameter values \n",
    "initParam = [np.random.uniform(LAMBDA_RANGE[0], LAMBDA_RANGE[1])]\n",
    "\n",
    "# Lower and upper limits of the model parameters\n",
    "paramLimit = [LAMBDA_RANGE]\n",
    "\n",
    "# Running the mixing model\n",
    "LOGLIKELIHOOD_O18, PARAM_O18, RESIDUAL_O18 = hydro_mix_mcmc(snow, rain, gw, O18_std, initParam, paramLimit, NUMBER_ITERATIONS, JUMP_PERCENTAGE)\n",
    "\n",
    "snowRatioLis_O18 = [i[0] for i in PARAM_O18]\n",
    "\n",
    "# %% Writing output in csv file\n",
    "\n",
    "final_lis = [[\"Snow ratio\", \"Log likelihood\", \"Error std\", \"Residual\"]]\n",
    "path = OUTPUTFILEPATH + \"O18_results_MCMC_\" + str(NUMBER_ITERATIONS) + \".csv\"\n",
    "for index in range(0, len(LOGLIKELIHOOD_O18)):\n",
    "\tfinal_lis.append([ round(snowRatioLis_O18[index], 4), round(LOGLIKELIHOOD_O18[index], 4), round(O18_std, 4),\n",
    "\t\t\t\t   round(RESIDUAL_O18[index], 4) ])\n"
   ]
  },
  {
   "cell_type": "markdown",
   "metadata": {
    "ExecuteTime": {
     "end_time": "2020-11-08T00:47:22.667545Z",
     "start_time": "2020-11-08T00:47:22.657307Z"
    }
   },
   "source": [
    "# VdN_mixing_additional_params_MCMC"
   ]
  },
  {
   "cell_type": "code",
   "execution_count": null,
   "metadata": {},
   "outputs": [],
   "source": [
    "\"\"\"\n",
    "Created on: 30th September 2019 (Harsh Beria)\n",
    "Last updated on\n",
    "What it does?\n",
    "\n",
    "Computes the proportion of groundwater that is made of snow vs rain using a MCMC sampler\n",
    "Introduced additional model parameters (isotopic lapse rate)\n",
    "\n",
    "SourceFiles used:\n",
    "SourceFiles/Rain_SP_GW_VdN.xlsx\n",
    "SourceFiles/Hypsometric_curve_data.xlsx\n",
    "\n",
    "OutputFiles processed:\n",
    "OutputFiles/VdN/Lapse_rate/H2_results_MCMC_1000.csv\n",
    "OutputFiles/VdN/Lapse_rate/O18_results_MCMC_1000.csv\n",
    "\n",
    "Figures made: NONE\n",
    "\"\"\"\n",
    "# %% Imports\n",
    "\n",
    "from __future__ import division\n",
    "import pandas as pd\n",
    "import numpy as np\n",
    "import re\n",
    "from hydromix.mixingfunctions import *\n",
    "\n",
    "# %% Main variables\n",
    "\n",
    "NUMBER_ITERATIONS = 10000\n",
    "\n",
    "# Bayesian model parameters (in the given range (inclusive))\n",
    "LAMBDA_RANGE = [0., 1.]  # LAMBDA values imply the fraction of snow in groundwater\n",
    "O18_LAPSE_SLOPE = [-0.0081, 0.0081]  # Obtained from GNIP Swiss data (-0.0027)\n",
    "H2_LAPSE_SLOPE = [-0.0582, 0.0582]  # Obtained from GNIP Swiss data (-0.0194)\n",
    "\n",
    "SWISS_LAPSE = {\"H2\": -0.0194, \"O18\": -0.0027}  # Swiss lapse rate according to GNIP data\n",
    "SWISS_LAPSE_lowBound = {\"H2\": -0.029, \"O18\": -0.0039}  # Swiss lapse rate according to GNIP data\n",
    "SWISS_LAPSE_highBound = {\"H2\": -0.0076, \"O18\": -0.0013}  # Swiss lapse rate according to GNIP data\n",
    "\n",
    "JUMP_PERCENTAGE = 5.  # In percentage (JUMP_PERCENTAGE/2 in both directions)\n",
    "\n",
    "HYPS_DIC = {}  # Key is elevation and value is the percent of catchment at that elevation\n",
    "\n",
    "OUTPUTFILEPATH = \"OutputFiles/VdN/Lapse_rate/\"\n",
    "\n",
    "# %% Setting up a random seed\n",
    "np.random.seed(1)  # Setting up a common seed number\n",
    "\n",
    "# %% Reading the hypsometric curve data\n",
    "\n",
    "filename = \"../../../Downloads/Zenodo_dataset/Zenodo_dataset/SourceFiles/Hypsometric_curve_data.xlsx\"\n",
    "df = pd.read_excel(filename, sheetname='Sheet1')\n",
    "for index, row in df.iterrows():\n",
    "    temp_elev_lis = re.findall(r'\\d+', row[\n",
    "        'Elevation band'])  # Identifying the numbers in the string and putting them in a list\n",
    "    temp_elev_lis = [float(k) for k in temp_elev_lis]  # Converting characters to floats\n",
    "    elevation_avg = sum(temp_elev_lis) * 1. / len(temp_elev_lis)  # Average elevation in a given elevation band\n",
    "    HYPS_DIC[elevation_avg] = float(row['Percentage of grids'])\n",
    "\n",
    "# %% Reading all the isotopic data\n",
    "\n",
    "filename = \"../../../Downloads/Zenodo_dataset/Zenodo_dataset/SourceFiles/Rain_SP_GW_VdN.xlsx\"\n",
    "df = pd.read_excel(filename, sheet_name='Sheet1')\n",
    "\n",
    "# Separating the isotopic ratios in rain, snow and groundwater\n",
    "rain_df = df[(df[\"Type\"] == \"Rain\")]\n",
    "snow_df = df[(df[\"Type\"] == \"Snow\")]\n",
    "gw_df = df[(df[\"Type\"] == \"Groundwater\")]\n",
    "\n",
    "#################################################################################################################################\n",
    "# %% Running HydroMix for H2\n",
    "\n",
    "rain, snow, gw = rain_df[\"H2 isotope\"].values, snow_df[\"H2 isotope\"].values, gw_df[\"H2 isotope\"].values\n",
    "rain_elev, snow_elev = rain_df[\"Elevation (m)\"].values, snow_df[\"Elevation (m)\"].values\n",
    "\n",
    "H2_std = np.std(gw_df[\"H2 isotope\"].values, ddof=1)  # Standard deviation of H2 in groundwater\n",
    "\n",
    "# List of initial parameter values \n",
    "initParam = [np.random.uniform(LAMBDA_RANGE[0], LAMBDA_RANGE[1]),\n",
    "             np.random.uniform(H2_LAPSE_SLOPE[0], H2_LAPSE_SLOPE[1])]\n",
    "\n",
    "# Lower and upper limits of the model parameters\n",
    "paramLimit = [LAMBDA_RANGE, H2_LAPSE_SLOPE]\n",
    "\n",
    "# Running the mixing model\n",
    "LOGLIKELIHOOD_H2, PARAM_H2, RESIDUAL_H2 = hydro_mix_mcmc(snow, snow_elev, rain, rain_elev, gw, H2_std,\n",
    "                                                         initParam, paramLimit, NUMBER_ITERATIONS, HYPS_DIC,\n",
    "                                                         JUMP_PERCENTAGE)\n",
    "\n",
    "snowRatioLis_H2 = [i[0] for i in PARAM_H2]\n",
    "lapseLis_H2 = [i[1] for i in PARAM_H2]\n",
    "\n",
    "# %% Writing output in csv file\n",
    "\n",
    "final_lis = [[\"Snow ratio\", \"Log likelihood\", \"Error std\", \"H2 lapse rate\", \"Residual\"]]\n",
    "path = OUTPUTFILEPATH + \"H2_results_MCMC_\" + str(NUMBER_ITERATIONS) + \".csv\"\n",
    "for index in range(0, len(LOGLIKELIHOOD_H2)):\n",
    "    final_lis.append([round(snowRatioLis_H2[index], 4), round(LOGLIKELIHOOD_H2[index], 4), round(H2_std, 4),\n",
    "                      round(lapseLis_H2[index], 4), round(RESIDUAL_H2[index], 4)])\n",
    "\n",
    "print(path)\n",
    "\n",
    "# %% Running HydroMix for O18\n",
    "\n",
    "rain, snow, gw = rain_df[\"O18 isotope\"].values, snow_df[\"O18 isotope\"].values, gw_df[\"O18 isotope\"].values\n",
    "rain_elev, snow_elev = rain_df[\"Elevation (m)\"].values, snow_df[\"Elevation (m)\"].values\n",
    "\n",
    "O18_std = np.std(gw_df[\"O18 isotope\"].values, ddof=1)  # Standard deviation of O18 in groundwater\n",
    "\n",
    "# List of initial parameter values \n",
    "initParam = [np.random.uniform(LAMBDA_RANGE[0], LAMBDA_RANGE[1]),\n",
    "             np.random.uniform(O18_LAPSE_SLOPE[0], O18_LAPSE_SLOPE[1])]\n",
    "\n",
    "# Lower and upper limits of the model parameters\n",
    "paramLimit = [LAMBDA_RANGE, O18_LAPSE_SLOPE]\n",
    "\n",
    "# Running the mixing model\n",
    "LOGLIKELIHOOD_O18, PARAM_O18, RESIDUAL_O18 = hydro_mix_mcmc(snow, snow_elev, rain, rain_elev, gw, O18_std,\n",
    "                                                            initParam, paramLimit, NUMBER_ITERATIONS, HYPS_DIC,\n",
    "                                                            JUMP_PERCENTAGE)\n",
    "\n",
    "snowRatioLis_O18 = [i[0] for i in PARAM_O18]\n",
    "lapseLis_O18 = [i[1] for i in PARAM_O18]\n",
    "\n",
    "# %% Writing output in csv file\n",
    "\n",
    "final_lis = [[\"Snow ratio\", \"Log likelihood\", \"Error std\", \"O18 lapse rate\", \"Residual\"]]\n",
    "path = OUTPUTFILEPATH + \"O18_results_MCMC_\" + str(NUMBER_ITERATIONS) + \".csv\"\n",
    "for index in range(0, len(LOGLIKELIHOOD_O18)):\n",
    "    final_lis.append([round(snowRatioLis_O18[index], 4), round(LOGLIKELIHOOD_O18[index], 4), round(O18_std, 4),\n",
    "                      round(lapseLis_O18[index], 4), round(RESIDUAL_O18[index], 4)])\n",
    "\n",
    "print(path)\n",
    "\n",
    "##################################################################################################################################\n"
   ]
  },
  {
   "cell_type": "code",
   "execution_count": null,
   "metadata": {},
   "outputs": [],
   "source": []
  },
  {
   "cell_type": "code",
   "execution_count": null,
   "metadata": {},
   "outputs": [],
   "source": []
  },
  {
   "cell_type": "code",
   "execution_count": null,
   "metadata": {},
   "outputs": [],
   "source": []
  }
 ],
 "metadata": {
  "kernelspec": {
   "display_name": "Python 3",
   "language": "python",
   "name": "python3"
  },
  "language_info": {
   "codemirror_mode": {
    "name": "ipython",
    "version": 3
   },
   "file_extension": ".py",
   "mimetype": "text/x-python",
   "name": "python",
   "nbconvert_exporter": "python",
   "pygments_lexer": "ipython3",
   "version": "3.7.8"
  },
  "latex_envs": {
   "LaTeX_envs_menu_present": true,
   "autoclose": false,
   "autocomplete": true,
   "bibliofile": "biblio.bib",
   "cite_by": "apalike",
   "current_citInitial": 1,
   "eqLabelWithNumbers": true,
   "eqNumInitial": 1,
   "hotkeys": {
    "equation": "Ctrl-E",
    "itemize": "Ctrl-I"
   },
   "labels_anchors": false,
   "latex_user_defs": false,
   "report_style_numbering": false,
   "user_envs_cfg": false
  },
  "toc": {
   "base_numbering": 1,
   "nav_menu": {},
   "number_sections": true,
   "sideBar": true,
   "skip_h1_title": false,
   "title_cell": "Table of Contents",
   "title_sidebar": "Contents",
   "toc_cell": false,
   "toc_position": {},
   "toc_section_display": true,
   "toc_window_display": true
  }
 },
 "nbformat": 4,
 "nbformat_minor": 4
}
